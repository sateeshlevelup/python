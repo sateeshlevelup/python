{
  "nbformat": 4,
  "nbformat_minor": 0,
  "metadata": {
    "colab": {
      "provenance": [],
      "authorship_tag": "ABX9TyPTT/0EAcPlAOGGMYdlPle4",
      "include_colab_link": true
    },
    "kernelspec": {
      "name": "python3",
      "display_name": "Python 3"
    },
    "language_info": {
      "name": "python"
    }
  },
  "cells": [
    {
      "cell_type": "markdown",
      "metadata": {
        "id": "view-in-github",
        "colab_type": "text"
      },
      "source": [
        "<a href=\"https://colab.research.google.com/github/sateeshlevelup/python/blob/main/Python_Day_02.ipynb\" target=\"_parent\"><img src=\"https://colab.research.google.com/assets/colab-badge.svg\" alt=\"Open In Colab\"/></a>"
      ]
    },
    {
      "cell_type": "code",
      "execution_count": null,
      "metadata": {
        "id": "EK4F-ySWa9EO"
      },
      "outputs": [],
      "source": [
        "a = 5\n",
        "\n",
        "\n",
        "\n",
        "\n",
        "\n",
        "\n",
        "\n",
        "# this is the value given by my manger\n"
      ]
    },
    {
      "cell_type": "code",
      "source": [],
      "metadata": {
        "id": "MyIUdddT9WBB"
      },
      "execution_count": null,
      "outputs": []
    },
    {
      "cell_type": "code",
      "source": [],
      "metadata": {
        "id": "ql49CHIR9ywN"
      },
      "execution_count": null,
      "outputs": []
    },
    {
      "cell_type": "code",
      "source": [
        "\n",
        "name = \" priynaka joined devops calss\"\n",
        "print(name)\n",
        "\n",
        "\"\"\"\n",
        "this comment is in\n",
        "two\n",
        "or\n",
        "three\n",
        "lines \"\"\""
      ],
      "metadata": {
        "colab": {
          "base_uri": "https://localhost:8080/",
          "height": 53
        },
        "id": "YdgM9dg5954n",
        "outputId": "4707ba35-3ca1-4b60-c772-b205fbdc52e1"
      },
      "execution_count": null,
      "outputs": [
        {
          "output_type": "stream",
          "name": "stdout",
          "text": [
            " priynaka joined devops calss\n"
          ]
        },
        {
          "output_type": "execute_result",
          "data": {
            "text/plain": [
              "'\\nthis comment is in \\ntwo \\nor \\nthree \\nlines '"
            ],
            "application/vnd.google.colaboratory.intrinsic+json": {
              "type": "string"
            }
          },
          "metadata": {},
          "execution_count": 4
        }
      ]
    },
    {
      "cell_type": "code",
      "source": [
        "\"\"\"\n",
        "this is multiline\n",
        "comment\n",
        "demo\n",
        "\"\"\""
      ],
      "metadata": {
        "colab": {
          "base_uri": "https://localhost:8080/",
          "height": 35
        },
        "id": "1ZZFk6GObalQ",
        "outputId": "f63cd474-015b-4b53-ac4a-90818a5c818b"
      },
      "execution_count": null,
      "outputs": [
        {
          "output_type": "execute_result",
          "data": {
            "text/plain": [
              "'\\nthis is multiline\\ncomment\\ndemo\\n'"
            ],
            "application/vnd.google.colaboratory.intrinsic+json": {
              "type": "string"
            }
          },
          "metadata": {},
          "execution_count": 5
        }
      ]
    },
    {
      "cell_type": "code",
      "source": [
        "import keyword\n",
        "\n",
        "print(keyword.kwlist)"
      ],
      "metadata": {
        "colab": {
          "base_uri": "https://localhost:8080/"
        },
        "id": "vRec5QwXcHQ9",
        "outputId": "1cd77092-339f-4f4b-b6f0-6b3d180ceb76"
      },
      "execution_count": null,
      "outputs": [
        {
          "output_type": "stream",
          "name": "stdout",
          "text": [
            "['False', 'None', 'True', 'and', 'as', 'assert', 'async', 'await', 'break', 'class', 'continue', 'def', 'del', 'elif', 'else', 'except', 'finally', 'for', 'from', 'global', 'if', 'import', 'in', 'is', 'lambda', 'nonlocal', 'not', 'or', 'pass', 'raise', 'return', 'try', 'while', 'with', 'yield']\n"
          ]
        }
      ]
    },
    {
      "cell_type": "markdown",
      "source": [
        "# Operators"
      ],
      "metadata": {
        "id": "Gqv2e0k3daR7"
      }
    },
    {
      "cell_type": "code",
      "source": [
        "a = 15\n",
        "b = 4\n",
        "\n",
        "# Addition\n",
        "print(\"Addition: \", a + b)\n",
        "\n",
        "c = a+b\n",
        "print(\"the value of c is :\",c)\n",
        "\n",
        "# Subtraction\n",
        "print(\"Subtraction: \", a - b)\n",
        "\n",
        "# Multiplication\n",
        "print(\"Multiplication: \", a * b)\n",
        "\n",
        "# Division\n",
        "print(\"Division: \", a / b)\n",
        "\n",
        "# Exponentiation\n",
        "print(\"Exponentiation: \", a ** b)\n",
        "\n",
        "# Modulus\n",
        "print(\"Modulus: \", a % b)\n",
        "\n",
        "# Floor division\n",
        "print(\"Floor division: \", a // b)"
      ],
      "metadata": {
        "colab": {
          "base_uri": "https://localhost:8080/"
        },
        "id": "tn9rWXAVdcK6",
        "outputId": "3a80e701-6d74-41c1-de47-8c514e31a624"
      },
      "execution_count": null,
      "outputs": [
        {
          "output_type": "stream",
          "name": "stdout",
          "text": [
            "Addition:  19\n",
            "the value of c is : 19\n",
            "Subtraction:  11\n",
            "Multiplication:  60\n",
            "Division:  3.75\n",
            "Exponentiation:  50625\n",
            "Modulus:  3\n",
            "Floor division:  3\n"
          ]
        }
      ]
    },
    {
      "cell_type": "markdown",
      "source": [
        "# Comparision Operators"
      ],
      "metadata": {
        "id": "IafyZpq0d7Du"
      }
    },
    {
      "cell_type": "code",
      "source": [
        "a = 13\n",
        "b = 33\n",
        "a= 34\n",
        "\n",
        "print(a > b )\n",
        "print (a < b)\n",
        "print(a == b) # exactly equal to\n",
        "print(a != b) # not equal\n",
        "print(a >= b) # grater than eualto\n",
        "print(a <= b)\n"
      ],
      "metadata": {
        "colab": {
          "base_uri": "https://localhost:8080/"
        },
        "id": "RcS8ztDDeAMD",
        "outputId": "f0695ccf-31a3-40c4-86e9-ad037d8df88c"
      },
      "execution_count": null,
      "outputs": [
        {
          "output_type": "stream",
          "name": "stdout",
          "text": [
            "False\n",
            "False\n",
            "True\n",
            "False\n",
            "True\n",
            "True\n"
          ]
        }
      ]
    },
    {
      "cell_type": "markdown",
      "source": [
        "Logial Operators"
      ],
      "metadata": {
        "id": "e5wm7uwxeTBP"
      }
    },
    {
      "cell_type": "code",
      "source": [
        "a = True\n",
        "b = False\n",
        "\n",
        "print(a and b)\n",
        "print(a or b)\n",
        "print(not b)\n"
      ],
      "metadata": {
        "colab": {
          "base_uri": "https://localhost:8080/"
        },
        "id": "6KiUaNrNeWlf",
        "outputId": "f629748c-a13f-49b3-d8ad-6de4ccd28701"
      },
      "execution_count": null,
      "outputs": [
        {
          "output_type": "stream",
          "name": "stdout",
          "text": [
            "False\n",
            "True\n",
            "True\n"
          ]
        }
      ]
    },
    {
      "cell_type": "markdown",
      "source": [
        "# Assignment operators"
      ],
      "metadata": {
        "id": "d3PyqaOMfMwr"
      }
    },
    {
      "cell_type": "markdown",
      "source": [
        "a = 10\n",
        "b = a\n",
        "\n",
        "print(b)"
      ],
      "metadata": {
        "id": "EbQp9OZhfSQl"
      }
    },
    {
      "cell_type": "code",
      "source": [
        "a = 10\n",
        "b = a\n",
        "\n",
        "print(b)"
      ],
      "metadata": {
        "colab": {
          "base_uri": "https://localhost:8080/"
        },
        "id": "9Pd8biIYfa47",
        "outputId": "0d5d8bc5-62da-4d85-b747-1a4504b964a9"
      },
      "execution_count": null,
      "outputs": [
        {
          "output_type": "stream",
          "name": "stdout",
          "text": [
            "10\n"
          ]
        }
      ]
    },
    {
      "cell_type": "code",
      "source": [
        "b += a\n",
        "print(b)"
      ],
      "metadata": {
        "colab": {
          "base_uri": "https://localhost:8080/"
        },
        "id": "gBUXia5IfdG-",
        "outputId": "be1730d2-ef2d-48f3-a153-53fbc8ab3b88"
      },
      "execution_count": null,
      "outputs": [
        {
          "output_type": "stream",
          "name": "stdout",
          "text": [
            "20\n"
          ]
        }
      ]
    },
    {
      "cell_type": "code",
      "source": [
        "b -= a\n",
        "print(b)"
      ],
      "metadata": {
        "colab": {
          "base_uri": "https://localhost:8080/"
        },
        "id": "bL9BP-XVfml9",
        "outputId": "1b2df230-2663-46b3-adab-4de10eb27098"
      },
      "execution_count": null,
      "outputs": [
        {
          "output_type": "stream",
          "name": "stdout",
          "text": [
            "10\n"
          ]
        }
      ]
    },
    {
      "cell_type": "code",
      "source": [
        "b *=a\n",
        "print(b)"
      ],
      "metadata": {
        "colab": {
          "base_uri": "https://localhost:8080/"
        },
        "id": "QTXvHkQoftOz",
        "outputId": "313ecb0a-9fe1-4c3e-b918-c14a1dba75a9"
      },
      "execution_count": null,
      "outputs": [
        {
          "output_type": "stream",
          "name": "stdout",
          "text": [
            "100\n"
          ]
        }
      ]
    },
    {
      "cell_type": "code",
      "source": [
        "b <<=a\n",
        "print(b)\n",
        "\n"
      ],
      "metadata": {
        "colab": {
          "base_uri": "https://localhost:8080/"
        },
        "id": "XqWmdU2FfyiP",
        "outputId": "974efbb6-56ef-4677-d4ba-0c2ed85c2b36"
      },
      "execution_count": null,
      "outputs": [
        {
          "output_type": "stream",
          "name": "stdout",
          "text": [
            "102400\n"
          ]
        }
      ]
    },
    {
      "cell_type": "code",
      "source": [
        "# Count the number of vowels in the string \"hello wOrld\"\n"
      ],
      "metadata": {
        "id": "m5L-m9_Kq3cv"
      },
      "execution_count": null,
      "outputs": []
    },
    {
      "cell_type": "markdown",
      "source": [
        "Identity Operators"
      ],
      "metadata": {
        "id": "qhFIYm52gULr"
      }
    },
    {
      "cell_type": "code",
      "source": [
        "a = 10\n",
        "b = 20\n",
        "c = a\n",
        "\n",
        "print(a is not b)\n",
        "print(a is c)"
      ],
      "metadata": {
        "colab": {
          "base_uri": "https://localhost:8080/"
        },
        "id": "efeLeOjMgtMS",
        "outputId": "8d1e73a2-d9de-47ef-82f7-186534b3c852"
      },
      "execution_count": null,
      "outputs": [
        {
          "output_type": "stream",
          "name": "stdout",
          "text": [
            "True\n",
            "True\n"
          ]
        }
      ]
    },
    {
      "cell_type": "code",
      "source": [
        "x =24\n",
        "y =20\n",
        "\n",
        "list = [10,20,24,30,40,50]\n",
        "\n",
        "if (x in list):\n",
        "    print(\"x is NOT present in given list\")\n",
        "else:\n",
        "    print(\"x is present in given list\")"
      ],
      "metadata": {
        "colab": {
          "base_uri": "https://localhost:8080/"
        },
        "id": "DBnJ2Kivg7kH",
        "outputId": "fdf126d4-0aed-4552-fb0e-b3e2c0151d14"
      },
      "execution_count": null,
      "outputs": [
        {
          "output_type": "stream",
          "name": "stdout",
          "text": [
            "x is NOT present in given list\n"
          ]
        }
      ]
    },
    {
      "cell_type": "markdown",
      "source": [
        "# Strings"
      ],
      "metadata": {
        "id": "28_pFQDfhuIE"
      }
    },
    {
      "cell_type": "markdown",
      "source": [
        "A string in Python is a sequence of characters enclosed in either single quotes (') or double quotes (\"). Strings are immutable, which means once a string is created, it cannot be changed."
      ],
      "metadata": {
        "id": "1ymHPCmEl9tE"
      }
    },
    {
      "cell_type": "code",
      "source": [
        "name = 'hari'\n",
        "\n",
        "greeting = \"hello,LevelUp\"\n",
        "\n",
        "ml = '''this\n",
        "is\n",
        "a multiline sting'''"
      ],
      "metadata": {
        "id": "_Vi9izCUhro_"
      },
      "execution_count": null,
      "outputs": []
    },
    {
      "cell_type": "code",
      "source": [
        "first_name = \"hari\"\n",
        "last_name = \"krishna\"\n",
        "\n",
        "full_name = first_name + \" \" + last_name\n",
        "\n",
        "print(full_name)"
      ],
      "metadata": {
        "colab": {
          "base_uri": "https://localhost:8080/"
        },
        "id": "Gd0af1-_mZIh",
        "outputId": "5cb9f336-b622-46d7-8a9c-45d238479866"
      },
      "execution_count": null,
      "outputs": [
        {
          "output_type": "stream",
          "name": "stdout",
          "text": [
            "hari krishna\n"
          ]
        }
      ]
    },
    {
      "cell_type": "code",
      "source": [
        "repeat = 'ha'*3\n",
        "\n",
        "print(repeat)"
      ],
      "metadata": {
        "colab": {
          "base_uri": "https://localhost:8080/"
        },
        "id": "z5ML-hirmo9n",
        "outputId": "1051731c-98f1-4756-d6fa-2892c20eacb0"
      },
      "execution_count": null,
      "outputs": [
        {
          "output_type": "stream",
          "name": "stdout",
          "text": [
            "hahaha\n"
          ]
        }
      ]
    },
    {
      "cell_type": "code",
      "source": [
        "st = \"Hello i am learneing python\"\n",
        "print(len(st))"
      ],
      "metadata": {
        "colab": {
          "base_uri": "https://localhost:8080/"
        },
        "id": "ss_wfFZpmyWY",
        "outputId": "8bc9d9ce-053a-4cde-e81b-52cfe4ec3a8d"
      },
      "execution_count": null,
      "outputs": [
        {
          "output_type": "stream",
          "name": "stdout",
          "text": [
            "27\n"
          ]
        }
      ]
    }
  ]
}