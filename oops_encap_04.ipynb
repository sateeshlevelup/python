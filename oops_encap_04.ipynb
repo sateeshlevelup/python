{
  "nbformat": 4,
  "nbformat_minor": 0,
  "metadata": {
    "colab": {
      "provenance": [],
      "authorship_tag": "ABX9TyOYXD8rEkmBNh/q68xLacoo",
      "include_colab_link": true
    },
    "kernelspec": {
      "name": "python3",
      "display_name": "Python 3"
    },
    "language_info": {
      "name": "python"
    }
  },
  "cells": [
    {
      "cell_type": "markdown",
      "metadata": {
        "id": "view-in-github",
        "colab_type": "text"
      },
      "source": [
        "<a href=\"https://colab.research.google.com/github/sateeshlevelup/python/blob/main/oops_encap_04.ipynb\" target=\"_parent\"><img src=\"https://colab.research.google.com/assets/colab-badge.svg\" alt=\"Open In Colab\"/></a>"
      ]
    },
    {
      "cell_type": "code",
      "execution_count": 9,
      "metadata": {
        "colab": {
          "base_uri": "https://localhost:8080/",
          "height": 245
        },
        "id": "Cgk5b2qRJ4fR",
        "outputId": "4dfc32bb-8fc4-4337-a34c-ccc2c1ef16cc"
      },
      "outputs": [
        {
          "output_type": "stream",
          "name": "stdout",
          "text": [
            "raju\n",
            "20\n"
          ]
        },
        {
          "output_type": "error",
          "ename": "AttributeError",
          "evalue": "'Student' object has no attribute '__grade'",
          "traceback": [
            "\u001b[0;31m---------------------------------------------------------------------------\u001b[0m",
            "\u001b[0;31mAttributeError\u001b[0m                            Traceback (most recent call last)",
            "\u001b[0;32m<ipython-input-9-4460382c2a89>\u001b[0m in \u001b[0;36m<cell line: 0>\u001b[0;34m()\u001b[0m\n\u001b[1;32m     19\u001b[0m \u001b[0mprint\u001b[0m\u001b[0;34m(\u001b[0m\u001b[0mstudent\u001b[0m\u001b[0;34m.\u001b[0m\u001b[0mname\u001b[0m\u001b[0;34m)\u001b[0m\u001b[0;34m\u001b[0m\u001b[0;34m\u001b[0m\u001b[0m\n\u001b[1;32m     20\u001b[0m \u001b[0mprint\u001b[0m\u001b[0;34m(\u001b[0m\u001b[0mstudent\u001b[0m\u001b[0;34m.\u001b[0m\u001b[0m_age\u001b[0m\u001b[0;34m)\u001b[0m\u001b[0;34m\u001b[0m\u001b[0;34m\u001b[0m\u001b[0m\n\u001b[0;32m---> 21\u001b[0;31m \u001b[0mprint\u001b[0m\u001b[0;34m(\u001b[0m\u001b[0mstudent\u001b[0m\u001b[0;34m.\u001b[0m\u001b[0m__grade\u001b[0m\u001b[0;34m)\u001b[0m\u001b[0;34m\u001b[0m\u001b[0;34m\u001b[0m\u001b[0m\n\u001b[0m\u001b[1;32m     22\u001b[0m \u001b[0;34m\u001b[0m\u001b[0m\n\u001b[1;32m     23\u001b[0m \u001b[0;34m\u001b[0m\u001b[0m\n",
            "\u001b[0;31mAttributeError\u001b[0m: 'Student' object has no attribute '__grade'"
          ]
        }
      ],
      "source": [
        "class Student:\n",
        "  def __init__ (self,name,_age,__grade):\n",
        "    self.name = name  # public\n",
        "    self._age = _age # Protected\n",
        "    self.__grade = __grade # private\n",
        "\n",
        "  def public_method(self):\n",
        "    print(\"this is a public method\")\n",
        "\n",
        "  def _protected_method(self):\n",
        "    print(\"this is a protected method\")\n",
        "  def __private_method(self):\n",
        "    print(\" this is a private method\")\n",
        "\n",
        "\n",
        "\n",
        "student =Student(\"raju\",20,\"A\")\n",
        "\n",
        "print(student.name)\n",
        "print(student._age)\n",
        "print(student.__grade)\n",
        "\n",
        "\n",
        "\n",
        "\n",
        "\n"
      ]
    },
    {
      "cell_type": "code",
      "source": [
        "student.public_method()\n",
        "student._protected_method()\n"
      ],
      "metadata": {
        "colab": {
          "base_uri": "https://localhost:8080/"
        },
        "id": "nBlOeMIHRnWX",
        "outputId": "e9b616e5-f66a-4d5b-debb-8fe19da0aeca"
      },
      "execution_count": 12,
      "outputs": [
        {
          "output_type": "stream",
          "name": "stdout",
          "text": [
            "this is a public method\n",
            "this is a protected method\n"
          ]
        }
      ]
    },
    {
      "cell_type": "code",
      "source": [
        "student.__private_method()"
      ],
      "metadata": {
        "colab": {
          "base_uri": "https://localhost:8080/",
          "height": 141
        },
        "id": "p0kGuatQRtFe",
        "outputId": "8571988c-1b96-4812-df7a-8362f974c526"
      },
      "execution_count": 13,
      "outputs": [
        {
          "output_type": "error",
          "ename": "AttributeError",
          "evalue": "'Student' object has no attribute '__private_method'",
          "traceback": [
            "\u001b[0;31m---------------------------------------------------------------------------\u001b[0m",
            "\u001b[0;31mAttributeError\u001b[0m                            Traceback (most recent call last)",
            "\u001b[0;32m<ipython-input-13-94f65734cf6c>\u001b[0m in \u001b[0;36m<cell line: 0>\u001b[0;34m()\u001b[0m\n\u001b[0;32m----> 1\u001b[0;31m \u001b[0mstudent\u001b[0m\u001b[0;34m.\u001b[0m\u001b[0m__private_method\u001b[0m\u001b[0;34m(\u001b[0m\u001b[0;34m)\u001b[0m\u001b[0;34m\u001b[0m\u001b[0;34m\u001b[0m\u001b[0m\n\u001b[0m",
            "\u001b[0;31mAttributeError\u001b[0m: 'Student' object has no attribute '__private_method'"
          ]
        }
      ]
    },
    {
      "cell_type": "code",
      "source": [
        "#Encapsulation is like keepoing your personal stuff in loked box only\n",
        "you have th\n",
        "\n",
        "# bundling data (information ) and methods (actions)that work on the data\n",
        "into a single unit.\n",
        "\n",
        "\n",
        "make it clear which parts others can use\n"
      ],
      "metadata": {
        "id": "nD46KebASjhO"
      },
      "execution_count": null,
      "outputs": []
    },
    {
      "cell_type": "code",
      "source": [
        "class BankAccount:\n",
        "  def __init__(self,owner_name,initial_balance):\n",
        "    self.owner = owner_name # Public\n",
        "    self.__balance = initial_balance # private data\n",
        "\n",
        "    # public method that let you work with the private data\n",
        "\n",
        "  def deposit(self,amount):\n",
        "    if amount > 0:\n",
        "      self.__balance += amount\n",
        "      return True\n",
        "    return False\n",
        "\n",
        "  def withdraw(self,amount):\n",
        "    if 0 < amount <= self.__balance:\n",
        "      self.__balance -= amount\n",
        "      return True\n",
        "    return False\n",
        "\n",
        "  def get_balance(self):\n",
        "    return self.__balance"
      ],
      "metadata": {
        "id": "ma6qOFP0UIZd"
      },
      "execution_count": 15,
      "outputs": []
    },
    {
      "cell_type": "code",
      "source": [
        "my_account = BankAccount(\"raju\",1000)\n",
        "\n",
        "print(my_account.owner)\n",
        "#print(my_account.__balance)\n",
        "print(my_account.get_balance())"
      ],
      "metadata": {
        "colab": {
          "base_uri": "https://localhost:8080/"
        },
        "id": "nn_Ul2W_Ue8A",
        "outputId": "2d6ea927-7f29-448a-a4f5-ffdacbbf96cb"
      },
      "execution_count": 20,
      "outputs": [
        {
          "output_type": "stream",
          "name": "stdout",
          "text": [
            "raju\n",
            "1000\n"
          ]
        }
      ]
    }
  ]
}