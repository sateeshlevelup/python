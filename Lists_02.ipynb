{
  "nbformat": 4,
  "nbformat_minor": 0,
  "metadata": {
    "colab": {
      "provenance": [],
      "authorship_tag": "ABX9TyNFHhP/I2VELKted2MG4rXU",
      "include_colab_link": true
    },
    "kernelspec": {
      "name": "python3",
      "display_name": "Python 3"
    },
    "language_info": {
      "name": "python"
    }
  },
  "cells": [
    {
      "cell_type": "markdown",
      "metadata": {
        "id": "view-in-github",
        "colab_type": "text"
      },
      "source": [
        "<a href=\"https://colab.research.google.com/github/sateeshlevelup/python/blob/main/Lists_02.ipynb\" target=\"_parent\"><img src=\"https://colab.research.google.com/assets/colab-badge.svg\" alt=\"Open In Colab\"/></a>"
      ]
    },
    {
      "cell_type": "markdown",
      "source": [
        "# Introduction to Python Lists\n",
        "\n",
        "Lists in Python are ordered, mutable (changeable) collections of items.\n",
        "\n",
        "They are one of the most versatile data structures in Python, allowing you to store a sequence of items, which can be of different types.\n",
        "\n",
        "Lists are defined by square brackets [], with items separated by commas."
      ],
      "metadata": {
        "id": "CYoOpJ5Eyi8R"
      }
    },
    {
      "cell_type": "code",
      "execution_count": null,
      "metadata": {
        "id": "k3ETUCWByddE"
      },
      "outputs": [],
      "source": [
        "# Creating a list\n",
        "fruits = ['apple', 'banana', 'cherry']\n",
        "numbers = [1, 2, 3, 4, 5]\n",
        "mixed = ['apple', 1, True, 3.14]\n"
      ]
    },
    {
      "cell_type": "markdown",
      "source": [
        "# Key Characteristics:\n",
        "\n",
        "Ordered: Items have a defined order, and that order will not change unless you explicitly do so.\n",
        "\n",
        "Mutable: You can change, add, or remove items after the list has been created.\n",
        "\n",
        "Allows Duplicates: Since lists are indexed, lists can have items with the same value."
      ],
      "metadata": {
        "id": "B_FcJV3ey0Hq"
      }
    },
    {
      "cell_type": "code",
      "source": [
        "# Creating an empty list\n",
        "empty_list =[]\n",
        "\n",
        "\n",
        "# Creating a list with elements\n",
        "\n",
        "fruits = [\"apple\",\"banana\",\"Grapes\",\"date\"]\n",
        "\n",
        "\n",
        "# List with mixed data types\n",
        "\n",
        "mixed_list = [1,'apple','banana',3.15,True,False,7.90]\n",
        "\n",
        "\n",
        "# Nested lists\n",
        "\n",
        "nested_list = ['fruits',['apple','banana']['cheery','date']]\n"
      ],
      "metadata": {
        "id": "IAL4sihk0Kxn"
      },
      "execution_count": null,
      "outputs": []
    },
    {
      "cell_type": "markdown",
      "source": [
        "# Accessing Elements in a List\n",
        "Each element in a list can be accessed using its index, with indexing starting at 0."
      ],
      "metadata": {
        "id": "lcvgS3pP0Nbp"
      }
    },
    {
      "cell_type": "code",
      "source": [
        "fruits = ['apple','banana','cheery','date']\n",
        "\n",
        "# Accessing the first element\n",
        "print(fruits[0])\n",
        "\n",
        "# Accessing the last element using negative indexing\n",
        "print(fruits[-1])\n"
      ],
      "metadata": {
        "id": "FOgJLI-r0PzQ",
        "colab": {
          "base_uri": "https://localhost:8080/"
        },
        "outputId": "7be61c2a-b962-41ff-916b-4dda598e814c"
      },
      "execution_count": null,
      "outputs": [
        {
          "output_type": "stream",
          "name": "stdout",
          "text": [
            "apple\n",
            "date\n"
          ]
        }
      ]
    },
    {
      "cell_type": "markdown",
      "source": [
        "# Why Use Lists?\n",
        "Flexibility: Easily add, remove, or modify elements.\n",
        "\n",
        "Versatility: Suitable for a wide range of applications, from simple data storage to complex data manipulation.\n",
        "\n",
        "Efficiency: Python's list implementation is optimized for performance with dynamic resizing."
      ],
      "metadata": {
        "id": "lL9KwCMh0Uoc"
      }
    },
    {
      "cell_type": "code",
      "source": [
        "# Basic List Operations\n",
        "# Creating a list\n",
        "numbers = [1,2,3,4,5,6]\n",
        "\n",
        "# Adding an element\n",
        "numbers.append(7)\n",
        "print(numbers)\n",
        "\n",
        "\n",
        "# Removing an element\n",
        "numbers.remove(5)\n",
        "print(numbers)\n",
        "\n",
        "# Accessing elements\n",
        "print(numbers[2])\n",
        "\n",
        "# Slicing the list\n",
        "print(numbers[1:4])\n",
        "\n"
      ],
      "metadata": {
        "id": "O0Eb177d0WQy",
        "colab": {
          "base_uri": "https://localhost:8080/"
        },
        "outputId": "0db1945c-6535-434d-c341-74148ac2809f"
      },
      "execution_count": null,
      "outputs": [
        {
          "output_type": "stream",
          "name": "stdout",
          "text": [
            "[1, 2, 3, 4, 5, 6, 7]\n",
            "[1, 2, 3, 4, 6, 7]\n",
            "3\n",
            "[2, 3, 4]\n"
          ]
        }
      ]
    },
    {
      "cell_type": "markdown",
      "source": [
        "# 2. General Operations on Lists"
      ],
      "metadata": {
        "id": "rYbCTjDF0hN_"
      }
    },
    {
      "cell_type": "markdown",
      "source": [
        "Lists can be created in various ways, including using literals, constructors, and list comprehensions."
      ],
      "metadata": {
        "id": "0xvXKJ5f0le4"
      }
    },
    {
      "cell_type": "code",
      "source": [
        "# Using list literals\n",
        "colors = ['red', 'green', 'blue']\n",
        "\n",
        "\n",
        "# Using the list constructor\n",
        "\n",
        "number=list((1,2,3,4))\n",
        "furits=list(('apple','banana','cherry'))\n",
        "\n",
        "\n",
        "# Using list comprehensions\n",
        "\n",
        "squares = [x**2 for x in range(10)]\n",
        "print(squares)\n"
      ],
      "metadata": {
        "id": "bTrpqc0b0nEj",
        "colab": {
          "base_uri": "https://localhost:8080/"
        },
        "outputId": "2945030a-25f3-4c63-bcbf-7581bd48eb14"
      },
      "execution_count": null,
      "outputs": [
        {
          "output_type": "stream",
          "name": "stdout",
          "text": [
            "[0, 1, 4, 9, 16, 25, 36, 49, 64, 81]\n"
          ]
        }
      ]
    },
    {
      "cell_type": "markdown",
      "source": [
        "i\n"
      ],
      "metadata": {
        "id": "Z1cZag7m08r8"
      }
    },
    {
      "cell_type": "markdown",
      "source": [
        "# 2. Accessing Elements\n",
        "Accessing individual elements or sublists using indices and slicing."
      ],
      "metadata": {
        "id": "nxI0WTdk1bKq"
      }
    },
    {
      "cell_type": "code",
      "source": [
        "fruits = ['apple', 'banana', 'cherry', 'date', 'elderberry']\n",
        "\n",
        "# Accessing first element\n",
        "print(fruits[0])  # Output: apple\n",
        "\n",
        "# Accessing last element\n",
        "print(fruits[-1])  # Output: elderberry\n",
        "\n",
        "# Accessing a sublist\n",
        "print(fruits[1:4])  # Output: ['banana', 'cherry', 'date']\n"
      ],
      "metadata": {
        "id": "dE5O8HcK1e74",
        "colab": {
          "base_uri": "https://localhost:8080/"
        },
        "outputId": "871d9d8d-5966-4a72-eb3d-24a23d37a7c2"
      },
      "execution_count": null,
      "outputs": [
        {
          "output_type": "stream",
          "name": "stdout",
          "text": [
            "apple\n",
            "elderberry\n",
            "['banana', 'cherry', 'date']\n"
          ]
        }
      ]
    },
    {
      "cell_type": "markdown",
      "source": [
        "# 3. Slicing Lists\n",
        "Slicing allows you to extract a portion of the list by specifying a range of indices."
      ],
      "metadata": {
        "id": "s791l5PP1m1D"
      }
    },
    {
      "cell_type": "code",
      "source": [
        "sublist = list[start:stop:step]\n",
        "\n"
      ],
      "metadata": {
        "id": "EnCm0vpD1tcx"
      },
      "execution_count": null,
      "outputs": []
    },
    {
      "cell_type": "markdown",
      "source": [],
      "metadata": {
        "id": "G8Z3tzDK1wUT"
      }
    },
    {
      "cell_type": "markdown",
      "source": [
        "# Parameters:\n",
        "\n",
        "start: Starting index (inclusive). Defaults to 0 if omitted.\n",
        "\n",
        "stop: Ending index (exclusive). Defaults to the length of the list if omitted.\n",
        "\n",
        "step: Interval between indices. Defaults to 1 if omitted."
      ],
      "metadata": {
        "id": "KIf7T5Bv15SB"
      }
    },
    {
      "cell_type": "code",
      "source": [
        "numbers = [0, 1, 2, 3, 4, 5, 6, 7, 8, 9]\n",
        "\n",
        "# Basic slicing\n",
        "print(numbers[2:5])  # Output: [2, 3, 4]\n",
        "\n",
        "# Slicing with step\n",
        "print(numbers[1:8:2])  # Output: [1, 3, 5, 7]\n",
        "\n",
        "# Omitting start and stop\n",
        "print(numbers[:4])  # Output: [0, 1, 2, 3]\n",
        "print(numbers[6:])  # Output: [6, 7, 8, 9]\n",
        "\n",
        "# Negative indexing\n",
        "print(numbers[-5:-2])  # Output: [5, 6, 7]\n",
        "\n",
        "# Reversing the list using slicing\n",
        "print(numbers[::-1])  # Output: [9, 8, 7, 6, 5, 4, 3, 2, 1, 0]\n"
      ],
      "metadata": {
        "id": "MEeZ7T5k1_vm",
        "colab": {
          "base_uri": "https://localhost:8080/"
        },
        "outputId": "ac203fe6-8624-4dff-816e-3825a8cb6d92"
      },
      "execution_count": null,
      "outputs": [
        {
          "output_type": "stream",
          "name": "stdout",
          "text": [
            "[2, 3, 4]\n",
            "[1, 3, 5, 7]\n",
            "[0, 1, 2, 3]\n",
            "[6, 7, 8, 9]\n",
            "[5, 6, 7]\n",
            "[9, 8, 7, 6, 5, 4, 3, 2, 1, 0]\n"
          ]
        }
      ]
    },
    {
      "cell_type": "markdown",
      "source": [
        "# 4. Concatenation and Repetition\n",
        "\n",
        "Concatenation (+ operator): Combines two or more lists into a new list.\n",
        "\n",
        "Repetition (* operator): Repeats the elements of a list a specified number of times."
      ],
      "metadata": {
        "id": "LSQ0tsla2DVh"
      }
    },
    {
      "cell_type": "code",
      "source": [
        "list1 = [1, 2, 3]\n",
        "list2 = [4, 5, 6]\n",
        "\n",
        "# Concatenation\n",
        "combined = list1 + list2\n",
        "print(combined)  # Output: [1, 2, 3, 4, 5, 6]\n",
        "\n",
        "# Repetition\n",
        "repeated = list1 * 3\n",
        "print(repeated)  # Output: [1, 2, 3, 1, 2, 3, 1, 2, 3]\n"
      ],
      "metadata": {
        "id": "3CK1tcTw2Ias"
      },
      "execution_count": null,
      "outputs": []
    },
    {
      "cell_type": "markdown",
      "source": [
        "# 5. Membership Testing\n",
        "\n",
        "Check if an element exists within a list using the in and not in operators."
      ],
      "metadata": {
        "id": "zmTgMUvG2WtD"
      }
    },
    {
      "cell_type": "code",
      "source": [
        "fruits = ['apple', 'banana', 'cherry']\n",
        "\n",
        "# Using 'in'\n",
        "print('banana' not in fruits)  # Output: True\n",
        "\n",
        "# Using 'not in'\n",
        "print('date'  in fruits)  # Output: True\n"
      ],
      "metadata": {
        "id": "iYW23zeh2a19",
        "colab": {
          "base_uri": "https://localhost:8080/"
        },
        "outputId": "7179d297-39fe-492f-8418-e1cf8ef2817c"
      },
      "execution_count": null,
      "outputs": [
        {
          "output_type": "stream",
          "name": "stdout",
          "text": [
            "False\n",
            "False\n"
          ]
        }
      ]
    },
    {
      "cell_type": "markdown",
      "source": [],
      "metadata": {
        "id": "Vd_TJjDt2d9D"
      }
    },
    {
      "cell_type": "markdown",
      "source": [
        "# 6. Iterating Through Lists\n",
        "\n",
        "Loop through list elements using for loops or comprehensions."
      ],
      "metadata": {
        "id": "1mgVlPGi2jNz"
      }
    },
    {
      "cell_type": "code",
      "source": [
        "# Using a for loop\n",
        "for fruit in ['apple', 'banana', 'cherry']:\n",
        "    print(fruit)\n",
        "\n",
        "# Using list comprehension\n",
        "uppercase_fruits = [fruit.upper() for fruit in ['apple', 'banana', 'cherry']]\n",
        "print(uppercase_fruits)  # Output: ['APPLE', 'BANANA', 'CHERRY']\n"
      ],
      "metadata": {
        "id": "onP_gFBI2mmA"
      },
      "execution_count": null,
      "outputs": []
    },
    {
      "cell_type": "markdown",
      "source": [
        "# 7. List Comprehensions\n",
        "\n",
        "A concise way to create lists based on existing lists, applying expressions and conditions."
      ],
      "metadata": {
        "id": "JU2dLj9h2po2"
      }
    },
    {
      "cell_type": "code",
      "source": [
        "new_list = [expression for item in iterable if condition]\n",
        "\n",
        "# Creating a list of squares\n",
        "squares = [x**2 for x in range(10)]\n",
        "print(squares)  # Output: [0, 1, 4, 9, 16, 25, 36, 49, 64, 81]\n",
        "\n",
        "# Filtering even numbers\n",
        "evens = [x for x in range(10) if x % 2 == 0]\n",
        "print(evens)  # Output: [0, 2, 4, 6, 8]\n",
        "\n",
        "# Applying functions to list elements\n",
        "import math\n",
        "roots = [math.sqrt(x) for x in [1, 4, 9, 16]]\n",
        "print(roots)  # Output: [1.0, 2.0, 3.0, 4.0]\n"
      ],
      "metadata": {
        "id": "IMlJqD2N2spJ"
      },
      "execution_count": null,
      "outputs": []
    },
    {
      "cell_type": "markdown",
      "source": [
        "# 3. List Methods\n",
        "\n",
        "Python lists come equipped with a plethora of built-in methods that facilitate various operations. Mastering these methods is essential for efficient list manipulation."
      ],
      "metadata": {
        "id": "XW_b9x1n2-PZ"
      }
    },
    {
      "cell_type": "code",
      "source": [
        "#list.append(x)\n",
        "\n",
        "fruits = ['apple', 'banana', 'cherry']\n",
        "fruits.append('date')\n",
        "print(fruits)  # Output: ['apple', 'banana', 'cherry', 'date']\n"
      ],
      "metadata": {
        "id": "br0WHvp13CfU",
        "colab": {
          "base_uri": "https://localhost:8080/"
        },
        "outputId": "81160fd4-e31e-4108-df9f-d65eff17b11f"
      },
      "execution_count": null,
      "outputs": [
        {
          "output_type": "stream",
          "name": "stdout",
          "text": [
            "['apple', 'banana', 'cherry', 'date']\n"
          ]
        }
      ]
    },
    {
      "cell_type": "markdown",
      "source": [
        "# 2. extend(iterable)\n",
        "\n",
        "Description: Extends the list by appending elements from the iterable (e.g., another list)."
      ],
      "metadata": {
        "id": "NYp7ZeIE3RSG"
      }
    },
    {
      "cell_type": "code",
      "source": [
        "#list.extend(iterable)\n",
        "\n",
        "fruits = ['apple', 'banana']\n",
        "more_fruits = ['cherry','date']\n",
        "fruits.extend(more_fruits)\n",
        "print(fruits)  # Output: ['apple', 'banana', 'cherry', 'date']\n"
      ],
      "metadata": {
        "id": "hn48IR8p3TmS",
        "colab": {
          "base_uri": "https://localhost:8080/"
        },
        "outputId": "911dbadb-2989-43a7-909f-6c10c2019bbf"
      },
      "execution_count": null,
      "outputs": [
        {
          "output_type": "stream",
          "name": "stdout",
          "text": [
            "['apple', 'banana', 'cherry', 'date']\n"
          ]
        }
      ]
    },
    {
      "cell_type": "markdown",
      "source": [
        "# 3. insert(i, x)\n",
        "\n",
        "Description: Inserts an item x at a specified index i. All items from that position onward are shifted one position to the right."
      ],
      "metadata": {
        "id": "PdWdBKck3aU6"
      }
    },
    {
      "cell_type": "code",
      "source": [
        "#list.insert(i, x)\n",
        "\n",
        "fruits = ['apple', 'banana', 'cherry']\n",
        "fruits.insert(1,'bluebeery')\n",
        "print(fruits)  # Output: ['apple', 'blueberry', 'banana', 'cherry']\n"
      ],
      "metadata": {
        "id": "nR0dT0bd3dGg",
        "colab": {
          "base_uri": "https://localhost:8080/"
        },
        "outputId": "15772aa3-6c6c-4b28-af01-f10ca6cd4a72"
      },
      "execution_count": null,
      "outputs": [
        {
          "output_type": "stream",
          "name": "stdout",
          "text": [
            "['apple', 'bluebeery', 'banana', 'cherry']\n"
          ]
        }
      ]
    },
    {
      "cell_type": "markdown",
      "source": [
        "# 4. remove(x)\n",
        "\n",
        "Description: Removes the first occurrence of item x from the list. Raises a ValueError if the item is not found."
      ],
      "metadata": {
        "id": "NaceZkaQ3hvC"
      }
    },
    {
      "cell_type": "code",
      "source": [
        "#list.remove(x)\n",
        "\n",
        "fruits = ['apple', 'banana', 'cherry', 'banana']\n",
        "fruits.remove('banana')\n",
        "print(fruits)  # Output: ['apple', 'cherry', 'banana']\n"
      ],
      "metadata": {
        "id": "9IG9vyW53lvM",
        "colab": {
          "base_uri": "https://localhost:8080/"
        },
        "outputId": "b32ee220-9d35-46f9-cd34-d4ce4be2eb75"
      },
      "execution_count": null,
      "outputs": [
        {
          "output_type": "stream",
          "name": "stdout",
          "text": [
            "['apple', 'cherry', 'banana']\n"
          ]
        }
      ]
    },
    {
      "cell_type": "markdown",
      "source": [
        "# 5. pop([i])\n",
        "\n",
        "Description: Removes and returns the item at index i. If no index is specified, it removes and returns the last item in the list.\n",
        "\n",
        " Raises an IndexError if the list is empty or the index is out of range."
      ],
      "metadata": {
        "id": "5gt_ncLp3qqj"
      }
    },
    {
      "cell_type": "code",
      "source": [
        "#item = list.pop([i])\n",
        "\n",
        "fruits = ['apple', 'banana', 'cherry']\n",
        "fruits.pop(1)\n",
        "print(fruits)  # Output: ['apple', 'banana']\n"
      ],
      "metadata": {
        "id": "03LpYpnl3wtf",
        "colab": {
          "base_uri": "https://localhost:8080/"
        },
        "outputId": "10c0aae2-3883-4bf8-db49-b1fc5af85dc0"
      },
      "execution_count": null,
      "outputs": [
        {
          "output_type": "stream",
          "name": "stdout",
          "text": [
            "['apple', 'cherry']\n"
          ]
        }
      ]
    },
    {
      "cell_type": "markdown",
      "source": [
        "# 6. clear()\n",
        "\n",
        "Description: Removes all items from the list, resulting in an empty list."
      ],
      "metadata": {
        "id": "1YQi9piG34Ry"
      }
    },
    {
      "cell_type": "code",
      "source": [
        "#list.clear()\n",
        "\n",
        "fruits = ['apple', 'banana', 'cherry']\n",
        "fruits.clear()\n",
        "print(fruits)  # Output: []\n"
      ],
      "metadata": {
        "id": "3ZCEXc6d36cc",
        "colab": {
          "base_uri": "https://localhost:8080/"
        },
        "outputId": "c4c811a1-c054-487b-8132-1b1351a5da69"
      },
      "execution_count": null,
      "outputs": [
        {
          "output_type": "stream",
          "name": "stdout",
          "text": [
            "[]\n"
          ]
        }
      ]
    },
    {
      "cell_type": "markdown",
      "source": [
        "# 7. index(x, start=0, end=len(list))\n",
        "\n",
        "Description: Returns the index of the first occurrence of item x in the list within the specified range. Raises a ValueError if the item is not found."
      ],
      "metadata": {
        "id": "jegYQWgT4EWN"
      }
    },
    {
      "cell_type": "code",
      "source": [
        "#index = list.index(x, start, end)\n",
        "\n",
        "fruits = ['apple', 'banana', 'cherry', 'banana']\n",
        "index = fruits.index('cherry')\n",
        "print(index)  # Output: 1\n"
      ],
      "metadata": {
        "id": "xc1Jasla4MCW",
        "colab": {
          "base_uri": "https://localhost:8080/"
        },
        "outputId": "3d52e277-8c0f-4242-bb1a-76af366fd8c6"
      },
      "execution_count": null,
      "outputs": [
        {
          "output_type": "stream",
          "name": "stdout",
          "text": [
            "2\n"
          ]
        }
      ]
    },
    {
      "cell_type": "markdown",
      "source": [
        "# 8. count(x)\n",
        "\n",
        "Description: Returns the number of times item x appears in the list."
      ],
      "metadata": {
        "id": "lhwyavMD4Qda"
      }
    },
    {
      "cell_type": "code",
      "source": [
        "#count = list.count(x)\n",
        "\n",
        "fruits = ['apple', 'banana', 'cherry', 'banana','banana']\n",
        "count = fruits.count('banana')\n",
        "print(count)  # Output: 2\n"
      ],
      "metadata": {
        "id": "338ZLu9h4Tjt",
        "colab": {
          "base_uri": "https://localhost:8080/"
        },
        "outputId": "28dbb123-5e94-412d-f093-577afb785204"
      },
      "execution_count": null,
      "outputs": [
        {
          "output_type": "stream",
          "name": "stdout",
          "text": [
            "3\n"
          ]
        }
      ]
    },
    {
      "cell_type": "markdown",
      "source": [],
      "metadata": {
        "id": "xGMk-BBujNhJ"
      }
    },
    {
      "cell_type": "markdown",
      "source": [
        "# 9. sort(key=None, reverse=False)\n",
        "\n",
        "Description: Sorts the items of the list in place. The key parameter specifies a function of one argument that is used to extract a comparison key from each list element. The reverse parameter, if set to True, sorts the list in descending order."
      ],
      "metadata": {
        "id": "vnPatydE4ZYb"
      }
    },
    {
      "cell_type": "code",
      "source": [
        "# list.sort(key=None, reverse=False)\n",
        "\n",
        "numbers = [4, 2, 5, 1, 3]\n",
        "numbers.sort()# default it is asending order\n",
        "print(numbers)  # Output: [1, 2, 3, 4, 5]\n",
        "\n",
        "numbers.sort(reverse=True)\n",
        "print(numbers)  # Output: [5, 4, 3, 2, 1]\n",
        "\n",
        "# Sorting with a key\n",
        "fruits = ['apple', 'cherry', 'Banana']\n",
        "fruits.sort(key=str.lower)\n",
        "print(fruits)  # Output: ['apple', 'Banana', 'cherry']\n"
      ],
      "metadata": {
        "id": "VT_xDBVR4dAI",
        "colab": {
          "base_uri": "https://localhost:8080/"
        },
        "outputId": "fff4f017-61ad-4e7f-ad1e-6500ea87c065"
      },
      "execution_count": null,
      "outputs": [
        {
          "output_type": "stream",
          "name": "stdout",
          "text": [
            "[1, 2, 3, 4, 5]\n",
            "[5, 4, 3, 2, 1]\n",
            "['apple', 'Banana', 'cherry']\n"
          ]
        }
      ]
    },
    {
      "cell_type": "markdown",
      "source": [
        "# 10. reverse()\n",
        "\n",
        "Description: Reverses the elements of the list in place."
      ],
      "metadata": {
        "id": "BS5DtkZW4hGQ"
      }
    },
    {
      "cell_type": "code",
      "source": [
        "#list.reverse()\n",
        "\n",
        "fruits = ['apple', 'banana', 'cherry']\n",
        "fruits.reverse()\n",
        "print(fruits)  # Output: ['cherry', 'banana', 'apple']\n"
      ],
      "metadata": {
        "id": "XnbeDBnG4kVC",
        "colab": {
          "base_uri": "https://localhost:8080/"
        },
        "outputId": "be405e7e-0166-412c-8bd4-7fdb56ec1a21"
      },
      "execution_count": null,
      "outputs": [
        {
          "output_type": "stream",
          "name": "stdout",
          "text": [
            "['cherry', 'banana', 'apple']\n"
          ]
        }
      ]
    },
    {
      "cell_type": "markdown",
      "source": [
        "# 11. copy()\n",
        "\n",
        "Description: Returns a shallow copy of the list."
      ],
      "metadata": {
        "id": "iDypYjCr4pj4"
      }
    },
    {
      "cell_type": "code",
      "source": [
        "#new_list = list.copy()\n",
        "\n",
        "fruits = ['apple', 'banana', 'cherry']\n",
        "seond_lst = fruits.copy()\n",
        "print(seond_lst)  # Output: ['apple', 'banana', 'cherry']\n"
      ],
      "metadata": {
        "id": "0jpd0Z-g4tye",
        "colab": {
          "base_uri": "https://localhost:8080/"
        },
        "outputId": "85b639aa-fa21-427c-d451-d8d296fbbb24"
      },
      "execution_count": null,
      "outputs": [
        {
          "output_type": "stream",
          "name": "stdout",
          "text": [
            "['apple', 'banana', 'cherry']\n"
          ]
        }
      ]
    },
    {
      "cell_type": "markdown",
      "source": [
        "# 12. __len__()\n",
        "\n",
        "Description: Returns the number of items in the list.\n",
        "\n",
        "This is typically accessed using the built-in"
      ],
      "metadata": {
        "id": "haEbh2q04zXg"
      }
    },
    {
      "cell_type": "code",
      "source": [
        "#length = len(list)\n",
        "\n",
        "fruits = ['apple', 'banana', 'cherry']\n",
        "length = len(fruits)\n",
        "print(length)  # Output: 3\n",
        "print(len(fruits))"
      ],
      "metadata": {
        "id": "XHMSXT_H42jC",
        "colab": {
          "base_uri": "https://localhost:8080/"
        },
        "outputId": "05825293-50e1-4058-9f3a-889e70fb5c9a"
      },
      "execution_count": null,
      "outputs": [
        {
          "output_type": "stream",
          "name": "stdout",
          "text": [
            "3\n",
            "3\n"
          ]
        }
      ]
    },
    {
      "cell_type": "markdown",
      "source": [
        "# 13. __getitem__(i)\n",
        "\n",
        "Description: Retrieves the item at index i. This is typically accessed using square brackets [].\n"
      ],
      "metadata": {
        "id": "WoE1g7LE47xk"
      }
    },
    {
      "cell_type": "code",
      "source": [
        "# item = list[i]\n",
        "\n",
        "fruits = ['apple', 'banana', 'cherry']\n",
        "print(fruits[1])  # Output: 'banana'\n"
      ],
      "metadata": {
        "id": "G9x4MxoN5Ewj"
      },
      "execution_count": null,
      "outputs": []
    },
    {
      "cell_type": "markdown",
      "source": [
        "# 14. __setitem__(i, x)\n",
        "\n",
        "Description: Sets the item at index i to x.\n",
        "\n",
        "This allows for modifying existing items in the list."
      ],
      "metadata": {
        "id": "NAIEgqYy5Jfx"
      }
    },
    {
      "cell_type": "code",
      "source": [
        "#list[i] = x\n",
        "\n",
        "fruits = ['apple', 'banana', 'cherry']\n",
        "fruits[1] = 'blueberry'\n",
        "print(fruits)  # Output: ['apple', 'blueberry', 'cherry']\n",
        "\n"
      ],
      "metadata": {
        "id": "JAsXnVHm5TLk",
        "colab": {
          "base_uri": "https://localhost:8080/"
        },
        "outputId": "8d8c17ea-bcf2-4dc3-d341-bbda86c52e46"
      },
      "execution_count": null,
      "outputs": [
        {
          "output_type": "stream",
          "name": "stdout",
          "text": [
            "['apple', 'blueberry', 'cherry']\n"
          ]
        }
      ]
    },
    {
      "cell_type": "markdown",
      "source": [
        "# 15. __delitem__(i)\n",
        "\n",
        "Description: Deletes the item at index i from the list."
      ],
      "metadata": {
        "id": "vi0o7wgr5Xqr"
      }
    },
    {
      "cell_type": "code",
      "source": [
        "#del list[i]\n",
        "\n",
        "fruits = ['apple', 'banana', 'cherry']\n",
        "del fruits[1]\n",
        "print(fruits)  # Output: ['apple', 'cherry']\n"
      ],
      "metadata": {
        "id": "kDqepdzr5auU",
        "colab": {
          "base_uri": "https://localhost:8080/"
        },
        "outputId": "9fb44de3-b5e8-4e5d-926a-019f73648d98"
      },
      "execution_count": null,
      "outputs": [
        {
          "output_type": "stream",
          "name": "stdout",
          "text": [
            "['apple', 'cherry']\n"
          ]
        }
      ]
    },
    {
      "cell_type": "markdown",
      "source": [
        "# 16. __iter__()\n",
        "\n",
        "Description: Returns an iterator object for the list, allowing iteration over its elements."
      ],
      "metadata": {
        "id": "5mBBaSJz5iOP"
      }
    },
    {
      "cell_type": "code",
      "source": [
        "#iterator = iter(list)\n",
        "\n",
        "fruits = ['apple', 'banana', 'cherry']\n",
        "for i in fruits:\n",
        "    print(i + 'ly')\n",
        "# Output:\n",
        "# apple\n",
        "# banana\n",
        "# cherry\n",
        "\n"
      ],
      "metadata": {
        "id": "0Xj0ldhQ5ktl",
        "colab": {
          "base_uri": "https://localhost:8080/"
        },
        "outputId": "2ed353ed-7c8b-4a4b-cedc-0fbcc8cdc869"
      },
      "execution_count": null,
      "outputs": [
        {
          "output_type": "stream",
          "name": "stdout",
          "text": [
            "applely\n",
            "bananaly\n",
            "cherryly\n"
          ]
        }
      ]
    },
    {
      "cell_type": "markdown",
      "source": [
        "# 17. __contains__(x)\n",
        "\n",
        "Description: Checks if item x is in the list.\n",
        "\n",
        "This is typically accessed using the in keyword."
      ],
      "metadata": {
        "id": "LeLrVoP95qAW"
      }
    },
    {
      "cell_type": "code",
      "source": [
        "#exists = x in list\n",
        "\n",
        "fruits = ['apple', 'banana', 'cherry']\n",
        "print('banana'not in fruits)  # Output: True\n",
        "print('date' in fruits)    # Output: False\n"
      ],
      "metadata": {
        "id": "-G9zwOo45uIv",
        "colab": {
          "base_uri": "https://localhost:8080/"
        },
        "outputId": "39965c95-6e5e-4297-ad1f-05e4d84b83a0"
      },
      "execution_count": null,
      "outputs": [
        {
          "output_type": "stream",
          "name": "stdout",
          "text": [
            "False\n",
            "False\n"
          ]
        }
      ]
    },
    {
      "cell_type": "markdown",
      "source": [
        "# 18. __add__(iterable)\n",
        "\n",
        "Description: Concatenates two lists using the + operator."
      ],
      "metadata": {
        "id": "SlolsaOs5y_X"
      }
    },
    {
      "cell_type": "code",
      "source": [
        "#combined = list1 + list2\n",
        "\n",
        "list1 = [1, 2]\n",
        "list2 = [3, 4]\n",
        "combined = list1 + list2\n",
        "print(combined)  # Output: [1, 2, 3, 4]\n"
      ],
      "metadata": {
        "id": "fZ4w6Zoo513z",
        "colab": {
          "base_uri": "https://localhost:8080/"
        },
        "outputId": "eca3eb82-a08a-4cd0-bb12-8fdd2bee4466"
      },
      "execution_count": null,
      "outputs": [
        {
          "output_type": "stream",
          "name": "stdout",
          "text": [
            "[1, 2, 3, 4]\n"
          ]
        }
      ]
    },
    {
      "cell_type": "markdown",
      "source": [
        "# 19. __mul__(n)\n",
        "\n",
        "Description: Repeats the list n times using the * operator."
      ],
      "metadata": {
        "id": "v5MMuLbB57A1"
      }
    },
    {
      "cell_type": "code",
      "source": [
        "#repeated = list * n\n",
        "\n",
        "fruits = ['apple', 'banana']\n",
        "repeated = fruits * 3\n",
        "print(repeated)  # Output: ['apple', 'banana', 'apple', 'banana', 'apple', 'banana']\n"
      ],
      "metadata": {
        "id": "vVDJu_Xk5-Mn",
        "colab": {
          "base_uri": "https://localhost:8080/"
        },
        "outputId": "cad9facc-58aa-4b2e-b244-f8452dadec6a"
      },
      "execution_count": null,
      "outputs": [
        {
          "output_type": "stream",
          "name": "stdout",
          "text": [
            "['apple', 'banana', 'apple', 'banana', 'apple', 'banana']\n"
          ]
        }
      ]
    },
    {
      "cell_type": "markdown",
      "source": [
        "# 1. Managing To-Do Lists\n",
        "Objective: Create a simple to-do list application that allows adding, removing, viewing, and marking tasks as complete.\n",
        "\n",
        "Features to Implement:\n",
        "\n",
        "Add Task: Use append() to add new tasks.\n",
        "Remove Task: Use remove() or pop() to delete tasks.\n",
        "View Tasks: Iterate through the list to display current tasks.\n",
        "Mark as Complete: Modify task status using indexing."
      ],
      "metadata": {
        "id": "b0BYBWlxFElo"
      }
    },
    {
      "cell_type": "code",
      "source": [
        "# Initialize the to-do list\n",
        "todo_list = []\n",
        "\n",
        "# Add tasks\n",
        "todo_list.append(\"Buy groceries\")\n",
        "todo_list.append(\"Read a book\")\n",
        "todo_list.append(\"Write Python code\")\n",
        "\n",
        "# View tasks\n",
        "print(\"To-Do List:\")\n",
        "for task in todo_list:\n",
        "    print(f\"- {task}\")\n",
        "\n",
        "# Remove a task\n",
        "todo_list.remove(\"Read a book\")\n",
        "\n",
        "# View updated list\n",
        "print(\"\\nUpdated To-Do List:\")\n",
        "for task in todo_list:\n",
        "    print(f\"- {task}\")\n"
      ],
      "metadata": {
        "id": "Tfvm5GxlFc-2",
        "outputId": "c18700c3-5745-4434-931a-67f8526e3af5",
        "colab": {
          "base_uri": "https://localhost:8080/"
        }
      },
      "execution_count": null,
      "outputs": [
        {
          "output_type": "stream",
          "name": "stdout",
          "text": [
            "To-Do List:\n",
            "- Buy groceries\n",
            "- Read a book\n",
            "- Write Python code\n",
            "\n",
            "Updated To-Do List:\n",
            "- Buy groceries\n",
            "- Write Python code\n"
          ]
        }
      ]
    },
    {
      "cell_type": "markdown",
      "source": [
        "# 2. Data Aggregation and Analysis\n",
        "\n",
        "Objective: Aggregate and analyze data using lists, such as calculating statistics or organizing data.\n",
        "\n",
        "Features to Implement:\n",
        "\n",
        "Storing Data: Use lists to store numerical data.\n",
        "Calculations: Compute sum, average, maximum, and minimum.\n",
        "Filtering Data: Use list comprehensions to filter data based on conditions."
      ],
      "metadata": {
        "id": "pjZu8AEjFgpH"
      }
    },
    {
      "cell_type": "code",
      "source": [
        "# Sample data: Daily temperatures\n",
        "temperatures = [72, 75, 68, 70, 74, 73, 69]\n",
        "\n",
        "# Calculations\n",
        "total = sum(temperatures)\n",
        "average = total / len(temperatures)\n",
        "max_temp = max(temperatures)\n",
        "min_temp = min(temperatures)\n",
        "\n",
        "print(f\"Total: {total}\")\n",
        "print(f\"Average: {average}\")\n",
        "print(f\"Max Temperature: {max_temp}\")\n",
        "print(f\"Min Temperature: {min_temp}\")\n",
        "\n",
        "# Filtering data: Days with temperature above 70\n",
        "warm_days = [temp for temp in temperatures if temp > 70]\n",
        "print(f\"Warm Days: {warm_days}\")\n"
      ],
      "metadata": {
        "id": "KNOZHniqFkkK",
        "outputId": "33473435-a0a5-45db-950f-a90fcd253790",
        "colab": {
          "base_uri": "https://localhost:8080/"
        }
      },
      "execution_count": null,
      "outputs": [
        {
          "output_type": "stream",
          "name": "stdout",
          "text": [
            "Total: 501\n",
            "Average: 71.57142857142857\n",
            "Max Temperature: 75\n",
            "Min Temperature: 68\n",
            "Warm Days: [72, 75, 74, 73]\n"
          ]
        }
      ]
    },
    {
      "cell_type": "markdown",
      "source": [
        "# 3. Implementing Stacks and Queues\n",
        "\n",
        "Objective: Use lists to implement fundamental data structures like stacks (LIFO) and queues (FIFO).\n",
        "\n",
        "Features to Implement:\n",
        "\n",
        "Stack Operations: push (using append()), pop.\n",
        "Queue Operations: enqueue (using append()), dequeue (using pop(0))."
      ],
      "metadata": {
        "id": "buTHkofQFrLS"
      }
    },
    {
      "cell_type": "code",
      "source": [
        "# Implementing a stack\n",
        "stack = []\n",
        "stack.append('a')  # Push\n",
        "stack.append('b')\n",
        "stack.append('c')\n",
        "print(\"Stack:\", stack)  # Output: ['a', 'b', 'c']\n",
        "\n",
        "# Pop elements\n",
        "print(\"Popped:\", stack.pop())  # Output: 'c'\n",
        "print(\"Stack after pop:\", stack)  # Output: ['a', 'b']\n",
        "\n",
        "# Implementing a queue\n",
        "queue = []\n",
        "queue.append('1')  # Enqueue\n",
        "queue.append('2')\n",
        "queue.append('3')\n",
        "print(\"Queue:\", queue)  # Output: ['1', '2', '3']\n",
        "\n",
        "# Dequeue elements\n",
        "print(\"Dequeued:\", queue.pop(0))  # Output: '1'\n",
        "print(\"Queue after dequeue:\", queue)  # Output: ['2', '3']\n"
      ],
      "metadata": {
        "id": "YkxGf-UjGVTf"
      },
      "execution_count": null,
      "outputs": []
    },
    {
      "cell_type": "markdown",
      "source": [
        "# 4. Nested Lists and Multidimensional Data\n",
        "\n",
        "Objective: Work with nested lists to represent multidimensional data structures like matrices or grids.\n",
        "\n",
        "Features to Implement:\n",
        "\n",
        "Creating Nested Lists: Lists within lists.\n",
        "Accessing Nested Elements: Using multiple indices.\n",
        "Iterating Through Nested Lists: Nested loops."
      ],
      "metadata": {
        "id": "nBRbDrKgGZUy"
      }
    },
    {
      "cell_type": "code",
      "source": [
        "# Creating a 3x3 matrix\n",
        "matrix = [\n",
        "    [1, 2, 3],\n",
        "    [4, 5, 6],\n",
        "    [7, 8, 9]\n",
        "]\n",
        "\n",
        "# Accessing elements\n",
        "print(matrix[0][0])  # Output: 1\n",
        "print(matrix[2][2])  # Output: 9\n",
        "\n",
        "# Iterating through the matrix\n",
        "print(\"Matrix:\")\n",
        "for row in matrix:\n",
        "    for element in row:\n",
        "        print(element, end=' ')\n",
        "    print()\n"
      ],
      "metadata": {
        "id": "WyvepV48GhSN"
      },
      "execution_count": null,
      "outputs": []
    },
    {
      "cell_type": "markdown",
      "source": [
        "# 5. Real-World Projects\n",
        "\n",
        "Engage in comprehensive projects that utilize lists extensively to solve real-world problems.\n",
        "\n",
        "Project Ideas:\n",
        "\n",
        "Contact Book: Manage contacts with names, phone numbers, and emails.\n",
        "Inventory Management: Track products, quantities, and prices.\n",
        "Student Grades Tracker: Store and analyze student grades.\n",
        "Weather Data Analyzer: Collect and process weather information over time."
      ],
      "metadata": {
        "id": "lKs2T-umGlhs"
      }
    },
    {
      "cell_type": "code",
      "source": [
        "# Initialize the contact book\n",
        "contact_book = []\n",
        "\n",
        "# Function to add a contact\n",
        "def add_contact(name, phone, email):\n",
        "    contact = {'name': name, 'phone': phone, 'email': email}\n",
        "    contact_book.append(contact)\n",
        "\n",
        "# Function to remove a contact by name\n",
        "def remove_contact(name):\n",
        "    for contact in contact_book:\n",
        "        if contact['name'] == name:\n",
        "            contact_book.remove(contact)\n",
        "            print(f\"Removed contact: {name}\")\n",
        "            return\n",
        "    print(f\"Contact {name} not found.\")\n",
        "\n",
        "# Function to display all contacts\n",
        "def display_contacts():\n",
        "    print(\"Contact Book:\")\n",
        "    for contact in contact_book:\n",
        "        print(f\"Name: {contact['name']}, Phone: {contact['phone']}, Email: {contact['email']}\")\n",
        "\n",
        "# Adding contacts\n",
        "add_contact('Alice', '123-456-7890', 'alice@example.com')\n",
        "add_contact('Bob', '987-654-3210', 'bob@example.com')\n",
        "\n",
        "# Displaying contacts\n",
        "display_contacts()\n",
        "\n",
        "# Removing a contact\n",
        "remove_contact('Alice')\n",
        "\n",
        "# Displaying updated contacts\n",
        "display_contacts()\n"
      ],
      "metadata": {
        "id": "Ct7uK1gwGpwo"
      },
      "execution_count": null,
      "outputs": []
    },
    {
      "cell_type": "markdown",
      "source": [],
      "metadata": {
        "id": "ebfHq_MdGvQw"
      }
    },
    {
      "cell_type": "markdown",
      "source": [
        "# Assignment"
      ],
      "metadata": {
        "id": "B7nB1KvXG0X8"
      }
    },
    {
      "cell_type": "markdown",
      "source": [
        "Question 1\n",
        "\n",
        "Create a list named fruits containing the elements 'apple', 'banana', and 'cherry'."
      ],
      "metadata": {
        "id": "UY-2kIDMG3Fd"
      }
    },
    {
      "cell_type": "code",
      "source": [
        "furits = ['apple']"
      ],
      "metadata": {
        "id": "rtgASsE_G5pE"
      },
      "execution_count": null,
      "outputs": []
    },
    {
      "cell_type": "markdown",
      "source": [
        "Question 2\n",
        "\n",
        " Add 'date' to the end of the fruits list."
      ],
      "metadata": {
        "id": "jwOGqmHTG_1N"
      }
    },
    {
      "cell_type": "code",
      "source": [
        "< Type your code here >"
      ],
      "metadata": {
        "id": "4ZlpdU43HGho"
      },
      "execution_count": null,
      "outputs": []
    },
    {
      "cell_type": "markdown",
      "source": [
        "Question 3\n",
        "\n",
        " Insert 'blueberry' at index 1 in the fruits list."
      ],
      "metadata": {
        "id": "bw8ZKm-4HmDa"
      }
    },
    {
      "cell_type": "code",
      "source": [
        "< Type your code here >"
      ],
      "metadata": {
        "id": "4L7GY4EOHrjn"
      },
      "execution_count": null,
      "outputs": []
    },
    {
      "cell_type": "markdown",
      "source": [
        "Question 4\n",
        "\n",
        " Remove 'banana' from the fruits list."
      ],
      "metadata": {
        "id": "bDktSRBRHwOs"
      }
    },
    {
      "cell_type": "code",
      "source": [
        "< Type your code here >"
      ],
      "metadata": {
        "id": "rEvwFHsMH1hQ"
      },
      "execution_count": null,
      "outputs": []
    },
    {
      "cell_type": "markdown",
      "source": [
        "Question 5\n",
        "\n",
        " Pop the last element from the fruits list and print it."
      ],
      "metadata": {
        "id": "fjqHhxOQH5FC"
      }
    },
    {
      "cell_type": "code",
      "source": [
        "< Type your code here >"
      ],
      "metadata": {
        "id": "4BspGjsnIhW6"
      },
      "execution_count": null,
      "outputs": []
    },
    {
      "cell_type": "markdown",
      "source": [
        "Question 6\n",
        "\n",
        " Clear all elements from the fruits list."
      ],
      "metadata": {
        "id": "4Fr2zr_wImtX"
      }
    },
    {
      "cell_type": "code",
      "source": [
        "< Type your code here >"
      ],
      "metadata": {
        "id": "ijER1MNNIo1P"
      },
      "execution_count": null,
      "outputs": []
    },
    {
      "cell_type": "markdown",
      "source": [
        "Question 7\n",
        "\n",
        " Find the index of 'cherry' in the list ['apple', 'banana', 'cherry']."
      ],
      "metadata": {
        "id": "A3t_Xn95Ip3_"
      }
    },
    {
      "cell_type": "code",
      "source": [
        "< Type your code here >"
      ],
      "metadata": {
        "id": "9QcPQr9fIumM"
      },
      "execution_count": null,
      "outputs": []
    },
    {
      "cell_type": "markdown",
      "source": [],
      "metadata": {
        "id": "Q3Pv0-enIva4"
      }
    },
    {
      "cell_type": "markdown",
      "source": [
        "Question 8\n",
        "\n",
        " Count how many times 'banana' appears in the list ['apple', 'banana', 'cherry', 'banana']."
      ],
      "metadata": {
        "id": "ZpARNBDfIxqm"
      }
    },
    {
      "cell_type": "code",
      "source": [
        "< Type your code here >"
      ],
      "metadata": {
        "id": "RcKu-NqJI0GG"
      },
      "execution_count": null,
      "outputs": []
    },
    {
      "cell_type": "markdown",
      "source": [
        "Question 9\n",
        "\n",
        " Sort the list [4, 2, 5, 1, 3] in ascending order."
      ],
      "metadata": {
        "id": "ib85mNmrI2BC"
      }
    },
    {
      "cell_type": "code",
      "source": [
        "< Type your code here >"
      ],
      "metadata": {
        "id": "tq5YoDNLI4OP"
      },
      "execution_count": null,
      "outputs": []
    },
    {
      "cell_type": "markdown",
      "source": [
        "Question 10\n",
        "\n",
        " Sort the list [4, 2, 5, 1, 3] in descending order."
      ],
      "metadata": {
        "id": "NZTjTDLCI6Ep"
      }
    },
    {
      "cell_type": "code",
      "source": [
        "< Type your code here >"
      ],
      "metadata": {
        "id": "fQs2EjBEI8U0"
      },
      "execution_count": null,
      "outputs": []
    },
    {
      "cell_type": "markdown",
      "source": [
        "Question 11\n",
        "\n",
        " Reverse the list ['apple', 'banana', 'cherry']."
      ],
      "metadata": {
        "id": "DLI__5srI9cB"
      }
    },
    {
      "cell_type": "code",
      "source": [
        "< Type your code here >"
      ],
      "metadata": {
        "id": "m6Cy_09LJBY0"
      },
      "execution_count": null,
      "outputs": []
    },
    {
      "cell_type": "markdown",
      "source": [
        "Question 12\n",
        "\n",
        " Create a copy of the list ['apple', 'banana', 'cherry'] and assign it to a new variable fruits_copy."
      ],
      "metadata": {
        "id": "gGIwjNwjJDX0"
      }
    },
    {
      "cell_type": "code",
      "source": [
        "< Type your code here >"
      ],
      "metadata": {
        "id": "srOK3BRGJGBK"
      },
      "execution_count": null,
      "outputs": []
    },
    {
      "cell_type": "markdown",
      "source": [
        "Question 13\n",
        "\n",
        " Determine the length of the list ['apple', 'banana', 'cherry']."
      ],
      "metadata": {
        "id": "xH1O-SROJg3u"
      }
    },
    {
      "cell_type": "code",
      "source": [
        "< Type your code here >"
      ],
      "metadata": {
        "id": "nYtku13vJkJy"
      },
      "execution_count": null,
      "outputs": []
    },
    {
      "cell_type": "markdown",
      "source": [
        "Question 14\n",
        "\n",
        " Access the second item in the list ['apple', 'banana', 'cherry']."
      ],
      "metadata": {
        "id": "V2XMQlL0JlB_"
      }
    },
    {
      "cell_type": "code",
      "source": [
        "< Type your code here >"
      ],
      "metadata": {
        "id": "oolLpi1UJpA9"
      },
      "execution_count": null,
      "outputs": []
    },
    {
      "cell_type": "markdown",
      "source": [
        "Question 15\n",
        "\n",
        " Change the second item in the list ['apple', 'banana', 'cherry'] to 'blueberry'."
      ],
      "metadata": {
        "id": "Re8dKCxrJp40"
      }
    },
    {
      "cell_type": "code",
      "source": [
        "< Type your code here >"
      ],
      "metadata": {
        "id": "zKdGx5s0Jt6k"
      },
      "execution_count": null,
      "outputs": []
    },
    {
      "cell_type": "markdown",
      "source": [
        "Question 16\n",
        "\n",
        " Delete the first item from the list ['apple', 'banana', 'cherry']."
      ],
      "metadata": {
        "id": "vKVHrB7FJv15"
      }
    },
    {
      "cell_type": "code",
      "source": [
        "< Type your code here >"
      ],
      "metadata": {
        "id": "MgEX2fh8Jyj9"
      },
      "execution_count": null,
      "outputs": []
    },
    {
      "cell_type": "markdown",
      "source": [
        "Question 17\n",
        "\n",
        " Iterate over the list ['apple', 'banana', 'cherry'] and print each fruit."
      ],
      "metadata": {
        "id": "6Q9uHIu3JzPo"
      }
    },
    {
      "cell_type": "code",
      "source": [
        "< Type your code here >"
      ],
      "metadata": {
        "id": "ceGuzta9J3QO"
      },
      "execution_count": null,
      "outputs": []
    },
    {
      "cell_type": "markdown",
      "source": [
        "Question 18\n",
        "\n",
        " Check if 'banana' is in the list ['apple', 'banana', 'cherry']."
      ],
      "metadata": {
        "id": "PllrloFAJ7wZ"
      }
    },
    {
      "cell_type": "code",
      "source": [
        "< Type your code here >"
      ],
      "metadata": {
        "id": "Ynik6XP_J-Ix"
      },
      "execution_count": null,
      "outputs": []
    },
    {
      "cell_type": "markdown",
      "source": [
        "Question 19\n",
        "\n",
        " Concatenate the lists [1, 2] and [3, 4] using the + operator."
      ],
      "metadata": {
        "id": "5WV0tVrOKAUm"
      }
    },
    {
      "cell_type": "code",
      "source": [
        "< Type your code here >"
      ],
      "metadata": {
        "id": "tiW_1L2kKCWU"
      },
      "execution_count": null,
      "outputs": []
    },
    {
      "cell_type": "markdown",
      "source": [
        "Question 20\n",
        "\n",
        " Repeat the list ['a', 'b'] three times using the * operator."
      ],
      "metadata": {
        "id": "WWhFwjYBKEeI"
      }
    },
    {
      "cell_type": "code",
      "source": [
        "< Type your code here >"
      ],
      "metadata": {
        "id": "kGAUWUz9KG8j"
      },
      "execution_count": null,
      "outputs": []
    },
    {
      "cell_type": "markdown",
      "source": [
        "Question 21\n",
        "\n",
        " Use the append() method to add 'fig' to the list ['apple', 'banana', 'cherry']."
      ],
      "metadata": {
        "id": "z45h1s7CKJhQ"
      }
    },
    {
      "cell_type": "code",
      "source": [
        "< Type your code here >"
      ],
      "metadata": {
        "id": "U-HQHldBKLtN"
      },
      "execution_count": null,
      "outputs": []
    },
    {
      "cell_type": "markdown",
      "source": [
        "Question 22\n",
        "\n",
        " Use the extend() method to add elements from ['grape', 'honeydew'] to ['apple', 'banana']."
      ],
      "metadata": {
        "id": "755l7MpuKON6"
      }
    },
    {
      "cell_type": "code",
      "source": [
        "< Type your code here >"
      ],
      "metadata": {
        "id": "kDlcCrecKQQ5"
      },
      "execution_count": null,
      "outputs": []
    },
    {
      "cell_type": "markdown",
      "source": [
        "Question 23\n",
        "\n",
        " Use the pop() method to remove and print the item at index 1 from the list ['apple', 'banana', 'cherry']."
      ],
      "metadata": {
        "id": "dueGsC68KROr"
      }
    },
    {
      "cell_type": "code",
      "source": [
        "< Type your code here >"
      ],
      "metadata": {
        "id": "vzgZIwRmKU1j"
      },
      "execution_count": null,
      "outputs": []
    },
    {
      "cell_type": "markdown",
      "source": [
        "Question 24\n",
        "\n",
        " Find the index of 'banana' in the list ['apple', 'banana', 'cherry']."
      ],
      "metadata": {
        "id": "X9RvA3MAKW8o"
      }
    },
    {
      "cell_type": "code",
      "source": [
        "< Type your code here >"
      ],
      "metadata": {
        "id": "OyxrRzLzKY3J"
      },
      "execution_count": null,
      "outputs": []
    },
    {
      "cell_type": "markdown",
      "source": [
        "Question 25\n",
        "\n",
        " Count the number of elements in the list ['apple', 'banana', 'cherry', 'banana']."
      ],
      "metadata": {
        "id": "oV47P3qEKai4"
      }
    },
    {
      "cell_type": "code",
      "source": [
        "< Type your code here >"
      ],
      "metadata": {
        "id": "zWNpmnRMKc4l"
      },
      "execution_count": null,
      "outputs": []
    },
    {
      "cell_type": "markdown",
      "source": [
        "Question 26\n",
        "\n",
        " Sort the list ['banana', 'apple', 'cherry'] alphabetically."
      ],
      "metadata": {
        "id": "xo_k-3UTKdcu"
      }
    },
    {
      "cell_type": "code",
      "source": [
        "< Type your code here >"
      ],
      "metadata": {
        "id": "DtmgoNqTKg5S"
      },
      "execution_count": null,
      "outputs": []
    },
    {
      "cell_type": "markdown",
      "source": [
        "Question 27\n",
        "\n",
        " Sort the list [3, 1, 4, 2] in descending order."
      ],
      "metadata": {
        "id": "o1BmFegvKi6Q"
      }
    },
    {
      "cell_type": "code",
      "source": [
        "< Type your code here >"
      ],
      "metadata": {
        "id": "BXfS506AKlXD"
      },
      "execution_count": null,
      "outputs": []
    },
    {
      "cell_type": "markdown",
      "source": [
        "Question 28\n",
        "\n",
        " Reverse the list [1, 2, 3, 4]."
      ],
      "metadata": {
        "id": "XoKBhyKIKmTD"
      }
    },
    {
      "cell_type": "code",
      "source": [
        "< Type your code here >"
      ],
      "metadata": {
        "id": "XKHPeGTIKpvN"
      },
      "execution_count": null,
      "outputs": []
    },
    {
      "cell_type": "markdown",
      "source": [
        "Question 29\n",
        "\n",
        " Create a shallow copy of the list ['apple', 'banana', 'cherry'] and modify the copy without affecting the original."
      ],
      "metadata": {
        "id": "Rd9FLtizKsF2"
      }
    },
    {
      "cell_type": "code",
      "source": [
        "< Type your code here >"
      ],
      "metadata": {
        "id": "bDnZjicdKwwn"
      },
      "execution_count": null,
      "outputs": []
    },
    {
      "cell_type": "markdown",
      "source": [
        "Question 30\n",
        "\n",
        " Use the extend() method to add elements from ['date', 'fig'] to ['apple', 'banana']"
      ],
      "metadata": {
        "id": "hPxbsD7eKxRN"
      }
    },
    {
      "cell_type": "code",
      "source": [
        "< Type your code here >"
      ],
      "metadata": {
        "id": "vyRNxa0WK0dx"
      },
      "execution_count": null,
      "outputs": []
    },
    {
      "cell_type": "markdown",
      "source": [
        "Question 31\n",
        "\n",
        " Check if 'cherry' is present in the list ['apple', 'banana', 'cherry'] using the in keyword."
      ],
      "metadata": {
        "id": "x6Ep_dsnK-c0"
      }
    },
    {
      "cell_type": "code",
      "source": [
        "< Type your code here >"
      ],
      "metadata": {
        "id": "7XcKNFdgLBAr"
      },
      "execution_count": null,
      "outputs": []
    },
    {
      "cell_type": "markdown",
      "source": [
        "Question 32\n",
        "\n",
        " Combine the lists ['apple'] and ['banana', 'cherry'] using a list method."
      ],
      "metadata": {
        "id": "9Xmqn925LE3T"
      }
    },
    {
      "cell_type": "code",
      "source": [
        "< Type your code here >"
      ],
      "metadata": {
        "id": "cReF5jlNLG_o"
      },
      "execution_count": null,
      "outputs": []
    },
    {
      "cell_type": "markdown",
      "source": [
        "Question 33\n",
        "\n",
        " Multiply the list ['a'] by 5 and print the result."
      ],
      "metadata": {
        "id": "YfJV6hM_LXfZ"
      }
    },
    {
      "cell_type": "code",
      "source": [
        "< Type your code here >"
      ],
      "metadata": {
        "id": "8g8IGX9yLdcu"
      },
      "execution_count": null,
      "outputs": []
    },
    {
      "cell_type": "markdown",
      "source": [
        "Question 34\n",
        "\n",
        " Use the remove() method to delete 'apple' from the list ['apple', 'banana', 'cherry']."
      ],
      "metadata": {
        "id": "irWxPiPTLd_9"
      }
    },
    {
      "cell_type": "code",
      "source": [
        "< Type your code here >"
      ],
      "metadata": {
        "id": "7yZfIDK6Lit3"
      },
      "execution_count": null,
      "outputs": []
    },
    {
      "cell_type": "markdown",
      "source": [
        "Question 35\n",
        "\n",
        " Use the clear() method to empty the list ['apple', 'banana', 'cherry']."
      ],
      "metadata": {
        "id": "vdAQauMfLkxc"
      }
    },
    {
      "cell_type": "code",
      "source": [
        "< Type your code here >"
      ],
      "metadata": {
        "id": "XeLuL0dxLnCV"
      },
      "execution_count": null,
      "outputs": []
    },
    {
      "cell_type": "markdown",
      "source": [
        "Question 36\n",
        "\n",
        " Insert 'dragonfruit' at index 2 in the list ['apple', 'banana', 'cherry']."
      ],
      "metadata": {
        "id": "Npa-21LcLpZx"
      }
    },
    {
      "cell_type": "code",
      "source": [
        "< Type your code here >"
      ],
      "metadata": {
        "id": "moh9R6n7Lrow"
      },
      "execution_count": null,
      "outputs": []
    },
    {
      "cell_type": "markdown",
      "source": [
        "Question 37\n",
        "\n",
        " Find the index of 'banana' starting from index 2 in the list ['apple', 'banana', 'cherry', 'banana']."
      ],
      "metadata": {
        "id": "xNNZfgbGLtkI"
      }
    },
    {
      "cell_type": "code",
      "source": [
        "< Type your code here >"
      ],
      "metadata": {
        "id": "LE6yYsNsLv5u"
      },
      "execution_count": null,
      "outputs": []
    },
    {
      "cell_type": "markdown",
      "source": [
        "Question 38\n",
        "\n",
        " Count how many times 'cherry' appears in the list ['apple', 'banana', 'cherry', 'cherry']."
      ],
      "metadata": {
        "id": "kpazs0GuL0DD"
      }
    },
    {
      "cell_type": "code",
      "source": [
        "< Type your code here >"
      ],
      "metadata": {
        "id": "JR28Aa2hL2M2"
      },
      "execution_count": null,
      "outputs": []
    },
    {
      "cell_type": "markdown",
      "source": [
        "Question 39\n",
        "\n",
        " Sort the list ['apple', 'Banana', 'cherry'] case-insensitively."
      ],
      "metadata": {
        "id": "YDu9Lf5YL4Vh"
      }
    },
    {
      "cell_type": "code",
      "source": [
        "< Type your code here >"
      ],
      "metadata": {
        "id": "-budZQIlL6j-"
      },
      "execution_count": null,
      "outputs": []
    },
    {
      "cell_type": "markdown",
      "source": [
        "Question 40\n",
        "\n",
        " Use the copy() method to create a duplicate of the list ['apple', 'banana', 'cherry'] and append 'date' to the copy."
      ],
      "metadata": {
        "id": "2jHVntzJL9No"
      }
    },
    {
      "cell_type": "code",
      "source": [
        "< Type your code here >"
      ],
      "metadata": {
        "id": "m6dPwlcZL_2i"
      },
      "execution_count": null,
      "outputs": []
    },
    {
      "cell_type": "markdown",
      "source": [
        "Question 41\n",
        "\n",
        " Determine if the list ['apple', 'banana', 'cherry'] is empty."
      ],
      "metadata": {
        "id": "1z9ytTIgMCCB"
      }
    },
    {
      "cell_type": "code",
      "source": [
        "< Type your code here >"
      ],
      "metadata": {
        "id": "5_1nbnUHMEpe"
      },
      "execution_count": null,
      "outputs": []
    },
    {
      "cell_type": "markdown",
      "source": [
        "Question 42\n",
        "\n",
        " Use the index() method to find the position of 'cherry' in the list ['apple', 'banana', 'cherry']."
      ],
      "metadata": {
        "id": "mzdrUCKDMGX9"
      }
    },
    {
      "cell_type": "code",
      "source": [
        "< Type your code here >"
      ],
      "metadata": {
        "id": "W9PMOanBMN27"
      },
      "execution_count": null,
      "outputs": []
    },
    {
      "cell_type": "markdown",
      "source": [
        "Question 43\n",
        "\n",
        " Check the number of items in the list []."
      ],
      "metadata": {
        "id": "Lp_nGffRMP8u"
      }
    },
    {
      "cell_type": "code",
      "source": [
        "< Type your code here >"
      ],
      "metadata": {
        "id": "Zgv_ZJCeMSFB"
      },
      "execution_count": null,
      "outputs": []
    },
    {
      "cell_type": "markdown",
      "source": [
        "Question 44\n",
        "\n",
        " Use the pop() method without an index to remove and print the last item from the list ['apple', 'banana', 'cherry']."
      ],
      "metadata": {
        "id": "6c0cqlm7MUSD"
      }
    },
    {
      "cell_type": "code",
      "source": [
        "< Type your code here >"
      ],
      "metadata": {
        "id": "GmBxSszTMXMg"
      },
      "execution_count": null,
      "outputs": []
    },
    {
      "cell_type": "markdown",
      "source": [
        "Question 45\n",
        "\n",
        " Add multiple items ['date', 'elderberry'] to the list ['apple', 'banana'] using a list method."
      ],
      "metadata": {
        "id": "Lyw6PfoKMZai"
      }
    },
    {
      "cell_type": "code",
      "source": [
        "< Type your code here >"
      ],
      "metadata": {
        "id": "FV4fSnTkMcCW"
      },
      "execution_count": null,
      "outputs": []
    },
    {
      "cell_type": "markdown",
      "source": [
        "Question 46\n",
        "\n",
        " Use the remove() method to delete 'fig' from the list ['apple', 'banana', 'cherry'] and handle the potential error."
      ],
      "metadata": {
        "id": "9T9C0akAMezG"
      }
    },
    {
      "cell_type": "code",
      "source": [
        "< Type your code here >"
      ],
      "metadata": {
        "id": "9zn2lhA9Mhex"
      },
      "execution_count": null,
      "outputs": []
    },
    {
      "cell_type": "markdown",
      "source": [
        "Question 47\n",
        "\n",
        " Sort the list ['apple', 'Banana', 'cherry'] in reverse alphabetical order."
      ],
      "metadata": {
        "id": "xS9M2mzqMkA9"
      }
    },
    {
      "cell_type": "code",
      "source": [
        "< Type your code here >"
      ],
      "metadata": {
        "id": "CsqusgiYMmpA"
      },
      "execution_count": null,
      "outputs": []
    },
    {
      "cell_type": "markdown",
      "source": [
        "Question 48\n",
        "\n",
        " Use the reverse() method on the list [1, 2, 3, 4, 5]."
      ],
      "metadata": {
        "id": "6Szbel6hMovR"
      }
    },
    {
      "cell_type": "code",
      "source": [
        "< Type your code here >"
      ],
      "metadata": {
        "id": "-ikc0KZUMq6L"
      },
      "execution_count": null,
      "outputs": []
    },
    {
      "cell_type": "markdown",
      "source": [
        "Question 49\n",
        "\n",
        " Combine the lists ['x', 'y'] and ['a', 'b'] using the extend() method."
      ],
      "metadata": {
        "id": "Hr1UEFebMtgr"
      }
    },
    {
      "cell_type": "code",
      "source": [
        "< Type your code here >"
      ],
      "metadata": {
        "id": "0UCYthUAMvtU"
      },
      "execution_count": null,
      "outputs": []
    },
    {
      "cell_type": "markdown",
      "source": [
        "Question 50\n",
        "\n",
        " Use the copy() method to duplicate the list ['apple', 'banana', 'cherry'] and verify that modifying the copy does not affect the original list."
      ],
      "metadata": {
        "id": "P3lCa6QcMyTw"
      }
    },
    {
      "cell_type": "code",
      "source": [
        "< Type your code here >"
      ],
      "metadata": {
        "id": "S12FaqxyM1FS"
      },
      "execution_count": null,
      "outputs": []
    },
    {
      "cell_type": "markdown",
      "source": [
        "Question 51\n",
        "\n",
        " Extract the sublist [2, 3] from the list [1, 2, 3, 4, 5] using slicing."
      ],
      "metadata": {
        "id": "RVVUhV69NtZr"
      }
    },
    {
      "cell_type": "code",
      "source": [
        "< Type your code here >"
      ],
      "metadata": {
        "id": "i5qT8xRXNv49"
      },
      "execution_count": null,
      "outputs": []
    },
    {
      "cell_type": "markdown",
      "source": [
        "Question 52\n",
        "\n",
        " Reverse the list ['a', 'b', 'c', 'd'] using slicing."
      ],
      "metadata": {
        "id": "7dkOcjcHNyc5"
      }
    },
    {
      "cell_type": "code",
      "source": [
        "< Type your code here >"
      ],
      "metadata": {
        "id": "toi8B3xDN1ZX"
      },
      "execution_count": null,
      "outputs": []
    },
    {
      "cell_type": "markdown",
      "source": [
        "Question 53\n",
        "\n",
        " Extract every second element from the list [0, 1, 2, 3, 4, 5, 6, 7, 8, 9] using slicing."
      ],
      "metadata": {
        "id": "AoqU4xz6N3Nb"
      }
    },
    {
      "cell_type": "code",
      "source": [
        "< Type your code here >"
      ],
      "metadata": {
        "id": "oQf3Xzc_N5hf"
      },
      "execution_count": null,
      "outputs": []
    },
    {
      "cell_type": "markdown",
      "source": [
        "Question 54\n",
        "\n",
        " Extract the sublist [1, 2, 3] from the list [0, 1, 2, 3, 4, 5] using slicing without specifying the end index."
      ],
      "metadata": {
        "id": "UcX743nkN7Vm"
      }
    },
    {
      "cell_type": "code",
      "source": [
        "< Type your code here >"
      ],
      "metadata": {
        "id": "NIvEIWA5N9Sq"
      },
      "execution_count": null,
      "outputs": []
    },
    {
      "cell_type": "markdown",
      "source": [
        "Question 55\n",
        "\n",
        " Extract the last three elements from the list [10, 20, 30, 40, 50] using negative indexing in slicing."
      ],
      "metadata": {
        "id": "5vRdIOuJOBpu"
      }
    },
    {
      "cell_type": "code",
      "source": [
        "< Type your code here >"
      ],
      "metadata": {
        "id": "SWrDd8S7OEHD"
      },
      "execution_count": null,
      "outputs": []
    },
    {
      "cell_type": "markdown",
      "source": [
        "Question 56\n",
        "\n",
        " Extract the sublist [3, 4, 5] from the list [1, 2, 3, 4, 5, 6] using slicing with a step of 1."
      ],
      "metadata": {
        "id": "Xzhc92GEOGRo"
      }
    },
    {
      "cell_type": "code",
      "source": [
        "< Type your code here >"
      ],
      "metadata": {
        "id": "mXN3xZ83OIRO"
      },
      "execution_count": null,
      "outputs": []
    },
    {
      "cell_type": "markdown",
      "source": [
        "Question 57\n",
        "\n",
        " Use slicing to check if the list [1, 2, 3, 2, 1] is a palindrome."
      ],
      "metadata": {
        "id": "QiZ00bi9OK4y"
      }
    },
    {
      "cell_type": "code",
      "source": [
        "< Type your code here >"
      ],
      "metadata": {
        "id": "sxqJaEbnONH1"
      },
      "execution_count": null,
      "outputs": []
    },
    {
      "cell_type": "markdown",
      "source": [
        "Question 58\n",
        "\n",
        " Extract the first five elements from the list [5, 10, 15, 20, 25, 30, 35] using slicing."
      ],
      "metadata": {
        "id": "mcQFOfryOOzG"
      }
    },
    {
      "cell_type": "code",
      "source": [
        "< Type your code here >"
      ],
      "metadata": {
        "id": "CJ_IwC2_ORAu"
      },
      "execution_count": null,
      "outputs": []
    },
    {
      "cell_type": "markdown",
      "source": [
        "Question 59\n",
        "\n",
        " Use slicing to create a new list from [1, 2, 3, 4, 5, 6, 7, 8, 9, 10] that contains only the even numbers."
      ],
      "metadata": {
        "id": "zDniKg1HOSwf"
      }
    },
    {
      "cell_type": "code",
      "source": [
        "< Type your code here >"
      ],
      "metadata": {
        "id": "Ak_RScfTOVD9"
      },
      "execution_count": null,
      "outputs": []
    },
    {
      "cell_type": "markdown",
      "source": [
        "Question 60\n",
        "\n",
        " Extract the sublist [4, 5, 6] from the list [1, 2, 3, 4, 5, 6, 7, 8, 9] using dynamic indices based on list length."
      ],
      "metadata": {
        "id": "-xDJNvjYOW5z"
      }
    },
    {
      "cell_type": "code",
      "source": [
        "< Type your code here >"
      ],
      "metadata": {
        "id": "g5vKjVZXOY8m"
      },
      "execution_count": null,
      "outputs": []
    },
    {
      "cell_type": "markdown",
      "source": [
        "String Reversal\n",
        "Write a Python program to reverse a given string.\n",
        "\n",
        "Find Palindrome\n",
        "Write a Python program to check if a given string is a palindrome.\n",
        "\n",
        "Count Vowels\n",
        "Write a Python program to count the number of vowels in a string.\n",
        "\n",
        "Remove Duplicates from a List\n",
        "Write a Python program to remove duplicate elements from a list.\n",
        "\n",
        "Split String into Words\n",
        "Write a Python program to split a string into a list of words.\n",
        "\n",
        "Check for Anagram\n",
        "Write a Python program to check if two given strings are anagrams.\n",
        "\n",
        "List Reversal\n",
        "Write a Python program to reverse a list without using the reverse() method.\n",
        "\n",
        "Find Maximum in a List\n",
        "Write a Python program to find the maximum value in a list.\n",
        "\n",
        "Join List into String\n",
        "Write a Python program to join a list of words into a single string with spaces.\n",
        "\n",
        "String Character Count\n",
        "Write a Python program to count the occurrence of each character in a string.\n",
        "\n",
        "Remove Specific Element from List\n",
        "Write a Python program to remove all occurrences of a given element from a list.\n",
        "\n",
        "String Index Finder\n",
        "Write a Python program to find the index of the first occurrence of a substring in a string.\n",
        "\n",
        "Merge Two Lists\n",
        "Write a Python program to merge two lists into one.\n",
        "\n",
        "List Element Sum\n",
        "Write a Python program to calculate the sum of all elements in a list.\n",
        "\n",
        "String Uppercase Conversion\n",
        "Write a Python program to convert all lowercase letters in a string to uppercase.\n",
        "\n",
        "List Sorting\n",
        "Write a Python program to sort a list in ascending order without using the sort() method.\n",
        "\n",
        "Replace a Word in String\n",
        "Write a Python program to replace all occurrences of a word in a string.\n",
        "\n",
        "Find Unique Elements in List\n",
        "Write a Python program to find all unique elements in a list.\n",
        "\n",
        "String Slicing\n",
        "Write a Python program to extract a substring from a string using slicing.\n",
        "\n",
        "Find Common Elements in Two Lists\n",
        "Write a Python program to find the common elements between two lists."
      ],
      "metadata": {
        "id": "6GVGUBOMQBJk"
      }
    }
  ]
}