{
  "nbformat": 4,
  "nbformat_minor": 0,
  "metadata": {
    "colab": {
      "provenance": [],
      "authorship_tag": "ABX9TyPWqoRIWceVbvnOgDg/aP6V",
      "include_colab_link": true
    },
    "kernelspec": {
      "name": "python3",
      "display_name": "Python 3"
    },
    "language_info": {
      "name": "python"
    }
  },
  "cells": [
    {
      "cell_type": "markdown",
      "metadata": {
        "id": "view-in-github",
        "colab_type": "text"
      },
      "source": [
        "<a href=\"https://colab.research.google.com/github/sateeshlevelup/python/blob/main/Functions_Advanced.ipynb\" target=\"_parent\"><img src=\"https://colab.research.google.com/assets/colab-badge.svg\" alt=\"Open In Colab\"/></a>"
      ]
    },
    {
      "cell_type": "markdown",
      "source": [
        "Write a function that appends an item to a list"
      ],
      "metadata": {
        "id": "RLvOY3nfx1A8"
      }
    },
    {
      "cell_type": "code",
      "execution_count": null,
      "metadata": {
        "colab": {
          "base_uri": "https://localhost:8080/"
        },
        "id": "1ci34y0txb3f",
        "outputId": "11e9a5ad-559a-483f-c8fb-83bc0115a318"
      },
      "outputs": [
        {
          "output_type": "stream",
          "name": "stdout",
          "text": [
            "The items that are appended to list: [10]\n"
          ]
        }
      ],
      "source": [
        "def append_item(item, lst=None):\n",
        "  if lst is None:\n",
        "    lst = []\n",
        "  lst.append(item)\n",
        "  return lst\n",
        "print(\"The items that are appended to list:\",append_item(10))"
      ]
    },
    {
      "cell_type": "code",
      "source": [
        "def append_item(item, lst=None):\n",
        "  if lst is None:\n",
        "    lst = []\n",
        "  lst.append(item)\n",
        "  return lst\n",
        "append_item(10)\n",
        "\n",
        "print(\"The items that are appended to list:\",append_item(10))"
      ],
      "metadata": {
        "colab": {
          "base_uri": "https://localhost:8080/"
        },
        "id": "HkYyFfNHyfkn",
        "outputId": "5d430029-6344-4a0e-a4dc-7b6705ef6594"
      },
      "execution_count": null,
      "outputs": [
        {
          "output_type": "stream",
          "name": "stdout",
          "text": [
            "The items that are appended to list: [10]\n"
          ]
        }
      ]
    },
    {
      "cell_type": "code",
      "source": [
        "def append_item(item, lst=None):\n",
        "  if lst is None:\n",
        "    lst = []\n",
        "  lst.append(item)\n",
        "  return lst\n",
        "\n",
        "persistent_list = []\n",
        "\n",
        "result = append_item(10,persistent_list )\n",
        "result = append_item(20,persistent_list )\n",
        "result = append_item(30,persistent_list )\n",
        "print(result)\n",
        "\n"
      ],
      "metadata": {
        "colab": {
          "base_uri": "https://localhost:8080/"
        },
        "id": "5Q_A_grWzG6u",
        "outputId": "fb55710f-10e1-4d9c-cc95-8c7306f177ae"
      },
      "execution_count": null,
      "outputs": [
        {
          "output_type": "stream",
          "name": "stdout",
          "text": [
            "[10, 20, 30]\n"
          ]
        }
      ]
    },
    {
      "cell_type": "markdown",
      "source": [
        "Write a functoin that squares a list of numbers,map,filters out even squares and then sums the remaning odd squares using map,filter,and reduce"
      ],
      "metadata": {
        "id": "L6DUgP1Z0XQL"
      }
    },
    {
      "cell_type": "code",
      "source": [
        "from functools import reduce\n",
        "def process_numbers(numbers):\n",
        "  squared=list(map(lambda x:x ** 2,numbers))\n",
        "  odd_squares =list(filter(lambda x:x % 2 != 0,squared))\n",
        "  total =reduce(lambda a,b:a+b,odd_squares,0)\n",
        "  return total\n",
        "\n",
        "print(\"processed result:\",process_numbers([1,4,5,9,7,4,6,3]))\n"
      ],
      "metadata": {
        "colab": {
          "base_uri": "https://localhost:8080/"
        },
        "id": "-9w00Iq50W_o",
        "outputId": "b341d3ca-e02b-4a86-b4cc-8ab7e4ce9472"
      },
      "execution_count": null,
      "outputs": [
        {
          "output_type": "stream",
          "name": "stdout",
          "text": [
            "processed result: 165\n"
          ]
        }
      ]
    },
    {
      "cell_type": "markdown",
      "source": [
        "0\n",
        "0+1 =1\n",
        "1+9=10\n",
        "10+25=35"
      ],
      "metadata": {
        "id": "VfWB1rXK2nbu"
      }
    },
    {
      "cell_type": "code",
      "source": [
        "a = \"aaaaaaahhhhhhhhhiiiiiiooooooooopaaaahhjkkkkkkkkklooooooooooohhhhhhh\""
      ],
      "metadata": {
        "id": "cAdIMM7D5qlA"
      },
      "execution_count": null,
      "outputs": []
    },
    {
      "cell_type": "code",
      "source": [
        "from collections import Counter\n",
        "from itertools import groupby\n",
        "\n",
        "\n",
        "def max_r_s(s: str) -> (str,int):\n",
        "  if not s:\n",
        "    return\"\",0\n",
        "  groups = [(char,len(list(group)))for char,group in groupby(s)]\n",
        "  counter = Counter({char:lenght for char,lenght in groups})\n",
        "  max_char,max_count =counter.most_common(1)[0]\n",
        "  return max_char * max_count ,max_count\n",
        "\n",
        "a = \"aaaaaaahhhhhhhhhiiiiiiooooooooopaaaahhjkkkkkkkkklooooooooooohhhhhhh\"\n",
        "\n",
        "result = max_r_s(a)\n",
        "print(result)\n",
        "\n"
      ],
      "metadata": {
        "colab": {
          "base_uri": "https://localhost:8080/"
        },
        "id": "Jv1rJpPF2V6w",
        "outputId": "102e0df6-f5e0-4ffb-a5d3-3019963d3218"
      },
      "execution_count": null,
      "outputs": [
        {
          "output_type": "stream",
          "name": "stdout",
          "text": [
            "('ooooooooooo', 11)\n"
          ]
        }
      ]
    },
    {
      "cell_type": "code",
      "source": [],
      "metadata": {
        "id": "Sp0rQJCi2V39"
      },
      "execution_count": null,
      "outputs": []
    },
    {
      "cell_type": "markdown",
      "source": [
        "Here is the **full execution walkthrough**, step by step, showing **what happens after each stage** along with expected outputs.\n",
        "\n",
        "---\n",
        "\n",
        "## **Step 1: Import Required Modules**\n",
        "```python\n",
        "from collections import Counter\n",
        "from itertools import groupby\n",
        "```\n",
        "- `groupby` → Groups consecutive identical characters.\n",
        "- `Counter` → Helps in counting occurrences efficiently.\n",
        "\n",
        "---\n",
        "\n",
        "## **Step 2: Define the Function**\n",
        "```python\n",
        "def max_r_s(s: str) -> (str, int):\n",
        "    if not s:\n",
        "        return \"\", 0\n",
        "```\n",
        "- If the string is empty, return `(\"\", 0)`.\n",
        "\n",
        "### **Example**\n",
        "#### **Input**\n",
        "```python\n",
        "\"\"\n",
        "```\n",
        "#### **Output**\n",
        "```python\n",
        "(\"\", 0)\n",
        "```\n",
        "(Since the string is empty, nothing to process.)\n",
        "\n",
        "---\n",
        "\n",
        "## **Step 3: Group Consecutive Identical Characters**\n",
        "```python\n",
        "groups = [(char, len(list(group))) for char, group in groupby(s)]\n",
        "```\n",
        "- `groupby(s)` groups consecutive identical characters.\n",
        "\n",
        "### **Example**\n",
        "#### **Input**\n",
        "```python\n",
        "\"aaabbccc\"\n",
        "```\n",
        "#### **Intermediate `groupby` Output**\n",
        "```python\n",
        "[('a', 3), ('b', 2), ('c', 3)]\n",
        "```\n",
        "- `'a'` appears **3 times consecutively**.\n",
        "- `'b'` appears **2 times consecutively**.\n",
        "- `'c'` appears **3 times consecutively**.\n",
        "\n",
        "---\n",
        "\n",
        "## **Step 4: Store Character Counts in a `Counter` Dictionary**\n",
        "```python\n",
        "counter = Counter({char: length for char, length in groups})\n",
        "```\n",
        "- This stores each character and its longest **consecutive repetition count**.\n",
        "\n",
        "### **Example**\n",
        "#### **Input**\n",
        "```python\n",
        "groups = [('a', 3), ('b', 2), ('c', 3)]\n",
        "```\n",
        "#### **Counter Output**\n",
        "```python\n",
        "{'a': 3, 'b': 2, 'c': 3}\n",
        "```\n",
        "- This dictionary now holds the **max consecutive occurrence** for each character.\n",
        "\n",
        "---\n",
        "\n",
        "## **Step 5: Find the Character with the Maximum Consecutive Repeats**\n",
        "```python\n",
        "max_char, max_count = counter.most_common(1)[0]\n",
        "```\n",
        "- `most_common(1)` returns the **highest repeated character and its count**.\n",
        "\n",
        "### **Example**\n",
        "#### **Input**\n",
        "```python\n",
        "Counter({'a': 3, 'b': 2, 'c': 3})\n",
        "```\n",
        "#### **Output**\n",
        "```python\n",
        "('a', 3)\n",
        "```\n",
        "- The most frequently consecutive character is `'a'`, repeated **3 times**.\n",
        "\n",
        "---\n",
        "\n",
        "## **Step 6: Return the Most Repeated Substring**\n",
        "```python\n",
        "return max_char * max_count, max_count\n",
        "```\n",
        "- Returns the substring formed by repeating `max_char`, along with the count.\n",
        "\n",
        "```\n",
        "\n"
      ],
      "metadata": {
        "id": "pMTDwHug9SEO"
      }
    },
    {
      "cell_type": "markdown",
      "source": [
        "numbers = [1,2,3,4,5] - >[1,4,9,16,25]"
      ],
      "metadata": {
        "id": "jOkzJhqv1l2m"
      }
    },
    {
      "cell_type": "code",
      "source": [
        "# check if the given number is even or odd\n",
        "\n",
        "def id_even_odd(n):\n",
        "  return \"Even\" if n % 2 == 0 else \"Odd\"\n",
        "\n",
        "print(id_even_odd(10))\n"
      ],
      "metadata": {
        "colab": {
          "base_uri": "https://localhost:8080/"
        },
        "id": "7OhVsd3j-vs7",
        "outputId": "9980fe6c-9fbf-4ae8-ea9a-3cf1f1f8d7ad"
      },
      "execution_count": null,
      "outputs": [
        {
          "output_type": "stream",
          "name": "stdout",
          "text": [
            "Even\n"
          ]
        }
      ]
    },
    {
      "cell_type": "code",
      "source": [
        "# check if the given number is even or odd\n",
        "\n",
        "def id_even_odd(n):\n",
        "  return \"odd\" if n % 2 != 0 else \"Even\"\n",
        "\n",
        "print(id_even_odd(7))"
      ],
      "metadata": {
        "colab": {
          "base_uri": "https://localhost:8080/"
        },
        "id": "F3u_VSL6_A6i",
        "outputId": "a8a77a8c-4bb5-46e8-a2ed-88b329f3502c"
      },
      "execution_count": null,
      "outputs": [
        {
          "output_type": "stream",
          "name": "stdout",
          "text": [
            "odd\n"
          ]
        }
      ]
    },
    {
      "cell_type": "code",
      "source": [
        "# Find the maximum of three Numbers\n",
        "\n",
        "def mt(a,b,c):\n",
        "  return max(a,b,c)\n",
        "\n",
        "print(mt(20,456,2))"
      ],
      "metadata": {
        "colab": {
          "base_uri": "https://localhost:8080/"
        },
        "id": "GNm2FfAv_N9x",
        "outputId": "019e8156-a791-48d0-d735-69cffc046f91"
      },
      "execution_count": null,
      "outputs": [
        {
          "output_type": "stream",
          "name": "stdout",
          "text": [
            "456\n"
          ]
        }
      ]
    },
    {
      "cell_type": "code",
      "source": [
        "# count the number of vowels in a string\n",
        "\n",
        "def cv(s):\n",
        "  vowels =\"aeiouAEIOU\"\n",
        "  return sum(1 for char in s if char in vowels)\n",
        "\n",
        "print(cv(\"hello this is a sting and i dont know how may vowels arethere\"))"
      ],
      "metadata": {
        "colab": {
          "base_uri": "https://localhost:8080/"
        },
        "id": "HHom-wK7_pFR",
        "outputId": "87776818-068f-4a79-d669-88661a59acf4"
      },
      "execution_count": null,
      "outputs": [
        {
          "output_type": "stream",
          "name": "stdout",
          "text": [
            "18\n"
          ]
        }
      ]
    },
    {
      "cell_type": "code",
      "source": [
        "# write a functoin to see if the given word is palindrome\n",
        "\n",
        "def isp(word):\n",
        "  return word == word[::-1]\n",
        "\n",
        "print(isp(\"radar\"))\n",
        "print(isp(\"hello\"))\n",
        "print(isp(\"looooool\"))\n",
        "\n"
      ],
      "metadata": {
        "colab": {
          "base_uri": "https://localhost:8080/"
        },
        "id": "93XkGZ6uAZoy",
        "outputId": "d0976f26-ad67-455e-cec8-4745b00f70c4"
      },
      "execution_count": null,
      "outputs": [
        {
          "output_type": "stream",
          "name": "stdout",
          "text": [
            "True\n",
            "False\n",
            "True\n"
          ]
        }
      ]
    },
    {
      "cell_type": "markdown",
      "source": [
        "\n",
        "\n",
        "## **🔰 Easy (10 Questions)**\n",
        "1. **Print Even Numbers:** Write a function that prints all even numbers from 1 to 50.\n",
        "2. **Reverse a String:** Take a string input from the user and print it in reverse.\n",
        "3. **Sum of First N Natural Numbers:** Write a function that returns the sum of the first `N` natural numbers.\n",
        "4. **Check Leap Year:** Write a function that checks if a given year is a leap year.\n",
        "5. **Count Vowels in a String:** Count and print the number of vowels in a user-given string.\n",
        "6. **Find Maximum in a List:** Write a function that finds and returns the largest number in a list.\n",
        "7. **Table of a Number:** Print the multiplication table of a user-entered number.\n",
        "8. **Convert Celsius to Fahrenheit:** Write a function to convert temperature from Celsius to Fahrenheit.\n",
        "9. **Check Palindrome String:** Write a function to check if a string is a palindrome.\n",
        "10. **Count Digits in a Number:** Write a function that takes a number and returns the count of digits.\n",
        "\n",
        "---\n",
        "\n",
        "## **🔹 Above Easy (10 Questions)**\n",
        "11. **Find Factorial:** Write a recursive function to find the factorial of a number.\n",
        "12. **Check Prime Number:** Write a function to check if a number is prime.\n",
        "13. **Sum of Digits:** Find the sum of digits of a given number.\n",
        "14. **Swap Two Variables Without Using a Third Variable.**\n",
        "15. **Find Second Largest Number in a List.**\n",
        "16. **Find GCD of Two Numbers:** Use the Euclidean algorithm to compute the greatest common divisor.\n",
        "17. **Sort a List Without Using Built-in Sort Function.**\n",
        "18. **Print Fibonacci Series Up to N Terms.**\n",
        "19. **Check Armstrong Number:** Check if a given number is an Armstrong number.\n",
        "20. **Find Intersection of Two Lists.**\n",
        "\n",
        "---\n",
        "\n",
        "## **⚡ Moderate (10 Questions)**\n",
        "21. **Remove Duplicates from a List Without Using Set.**\n",
        "22. **Check if Two Strings are Anagrams.**\n",
        "23. **Reverse a Number Without Converting to a String.**\n",
        "24. **Find All Prime Numbers in a Given Range.**\n",
        "25. **Check if a Number is a Perfect Number.**\n",
        "26. **Count Frequency of Each Character in a String.**\n",
        "27. **Merge Two Sorted Lists Without Using Built-in Functions.**\n",
        "28. **Implement a Basic Calculator That Can Perform +, -, *, /.**\n",
        "29. **Find the Smallest Missing Positive Integer in a List.**\n",
        "30. **Rotate a List by K Places (Right Rotation).**\n",
        "\n",
        "---\n",
        "\n",
        "## **🚀 Difficult (10 Questions)**\n",
        "31. **Implement a Stack Using a List (Push, Pop, Peek).**\n",
        "32. **Implement a Queue Using Two Stacks.**\n",
        "33. **Find the Longest Common Prefix in a List of Strings.**\n",
        "34. **Find the Longest Consecutive Sequence in a List.**\n",
        "35. **Implement Bubble Sort Without Using Built-in Sort.**\n",
        "36. **Find the First Non-Repeating Character in a String.**\n",
        "37. **Implement a Binary Search Algorithm.**\n",
        "38. **Find the Kth Largest Element in a List Without Using Sort.**\n",
        "39. **Find the Subarray With Maximum Sum (Kadane’s Algorithm).**\n",
        "40. **Generate All Subsets of a Given List.**\n",
        "\n",
        "---\n",
        "\n",
        "## **🔥 Very Difficult (10 Questions)**\n",
        "41. **Implement a Linked List and Perform Insert, Delete, Search.**\n",
        "42. **Find the Largest Rectangle in a Histogram (Stack-Based Approach).**\n",
        "43. **Find All Pairs in a List That Sum to a Target Without Using Extra Space.**\n",
        "44. **Solve the N-Queens Problem Using Backtracking.**\n",
        "45. **Find the Shortest Path in a Maze Using BFS.**\n",
        "46. **Implement a Trie (Prefix Tree) for Searching Words.**\n",
        "47. **Find the Longest Palindromic Substring in a String.**\n",
        "48. **Find the Median of Two Sorted Lists Without Merging Them.**\n",
        "49. **Check if a Given Graph is Bipartite.**\n",
        "50. **Solve the Traveling Salesman Problem Using Dynamic Programming.**\n",
        "\n",
        "---\n",
        "\n"
      ],
      "metadata": {
        "id": "t4lN7zcXBbG0"
      }
    }
  ]
}