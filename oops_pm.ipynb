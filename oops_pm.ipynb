{
  "nbformat": 4,
  "nbformat_minor": 0,
  "metadata": {
    "colab": {
      "provenance": [],
      "authorship_tag": "ABX9TyNbGgqdzobNisM3B6I0bDtN",
      "include_colab_link": true
    },
    "kernelspec": {
      "name": "python3",
      "display_name": "Python 3"
    },
    "language_info": {
      "name": "python"
    }
  },
  "cells": [
    {
      "cell_type": "markdown",
      "metadata": {
        "id": "view-in-github",
        "colab_type": "text"
      },
      "source": [
        "<a href=\"https://colab.research.google.com/github/sateeshlevelup/python/blob/main/oops_pm.ipynb\" target=\"_parent\"><img src=\"https://colab.research.google.com/assets/colab-badge.svg\" alt=\"Open In Colab\"/></a>"
      ]
    },
    {
      "cell_type": "markdown",
      "source": [
        "Duck Typing Example"
      ],
      "metadata": {
        "id": "oOAtXFQcrO1U"
      }
    },
    {
      "cell_type": "code",
      "execution_count": 1,
      "metadata": {
        "colab": {
          "base_uri": "https://localhost:8080/"
        },
        "id": "Cnc0IxS-rLKw",
        "outputId": "407e4491-ee4f-4c5f-fdcc-eb7d00fd73ff"
      },
      "outputs": [
        {
          "output_type": "stream",
          "name": "stdout",
          "text": [
            "Quack\n",
            "Woof!\n",
            "Meow\n"
          ]
        }
      ],
      "source": [
        "class Duck:\n",
        "  def speak(self):\n",
        "    return \"Quack\"\n",
        "\n",
        "\n",
        "class Dog:\n",
        "  def speak(self):\n",
        "    return \"Woof!\"\n",
        "\n",
        "\n",
        "class Cat:\n",
        "  def speak(self):\n",
        "    return \"Meow\"\n",
        "\n",
        "\n",
        "def animal_sound(animal):\n",
        "  return animal.speak()\n",
        "\n",
        "\n",
        "duck = Duck()\n",
        "dog = Dog()\n",
        "cat = Cat()\n",
        "\n",
        "print(animal_sound(duck))\n",
        "print(animal_sound(dog))\n",
        "print(animal_sound(cat))\n",
        "\n",
        "# same function is working with different object\n",
        ""
      ]
    },
    {
      "cell_type": "markdown",
      "source": [
        "Operator Overloading\n",
        "\n",
        "+ ,- ,* , = work with our own custom made things\n",
        "2+3 =5"
      ],
      "metadata": {
        "id": "76eVVn-1u5hR"
      }
    },
    {
      "cell_type": "code",
      "source": [
        "box1 = Box(10)\n",
        "box2 = Box(5)\n",
        "\n",
        "box3 = box1 + box2\n"
      ],
      "metadata": {
        "colab": {
          "base_uri": "https://localhost:8080/",
          "height": 193
        },
        "id": "LO-TYOLtvnRq",
        "outputId": "da6c3c0d-25f6-4974-d0c2-cb6d0bf9aa5a"
      },
      "execution_count": 2,
      "outputs": [
        {
          "output_type": "error",
          "ename": "NameError",
          "evalue": "name 'Box' is not defined",
          "traceback": [
            "\u001b[0;31m---------------------------------------------------------------------------\u001b[0m",
            "\u001b[0;31mNameError\u001b[0m                                 Traceback (most recent call last)",
            "\u001b[0;32m<ipython-input-2-cd39207827cf>\u001b[0m in \u001b[0;36m<cell line: 0>\u001b[0;34m()\u001b[0m\n\u001b[0;32m----> 1\u001b[0;31m \u001b[0mbox1\u001b[0m \u001b[0;34m=\u001b[0m \u001b[0mBox\u001b[0m\u001b[0;34m(\u001b[0m\u001b[0;36m10\u001b[0m\u001b[0;34m)\u001b[0m\u001b[0;34m\u001b[0m\u001b[0;34m\u001b[0m\u001b[0m\n\u001b[0m\u001b[1;32m      2\u001b[0m \u001b[0mbox2\u001b[0m \u001b[0;34m=\u001b[0m \u001b[0mBox\u001b[0m\u001b[0;34m(\u001b[0m\u001b[0;36m5\u001b[0m\u001b[0;34m)\u001b[0m\u001b[0;34m\u001b[0m\u001b[0;34m\u001b[0m\u001b[0m\n\u001b[1;32m      3\u001b[0m \u001b[0;34m\u001b[0m\u001b[0m\n\u001b[1;32m      4\u001b[0m \u001b[0mbox3\u001b[0m \u001b[0;34m=\u001b[0m \u001b[0mbox1\u001b[0m \u001b[0;34m+\u001b[0m \u001b[0mbox2\u001b[0m\u001b[0;34m\u001b[0m\u001b[0;34m\u001b[0m\u001b[0m\n",
            "\u001b[0;31mNameError\u001b[0m: name 'Box' is not defined"
          ]
        }
      ]
    },
    {
      "cell_type": "code",
      "source": [
        "class Box:\n",
        "  def __init__(self, chocolates):\n",
        "    self.chocolates = chocolates\n",
        "\n",
        "  def __add__(self, other):\n",
        "    return Box(self.chocolates + other.chocolates)\n",
        "\n",
        "  def __str__(self):\n",
        "    return f\"Box with {self.chocolates} chocolates\"\n",
        "box1 = Box(10)\n",
        "box2 = Box(5)\n",
        "\n",
        "box3 = box1 + box2\n",
        "print(box3)"
      ],
      "metadata": {
        "colab": {
          "base_uri": "https://localhost:8080/"
        },
        "id": "hRCtmR4zu5M0",
        "outputId": "33ab7ff6-f001-4e2f-d7c4-d6ea99e27033"
      },
      "execution_count": 5,
      "outputs": [
        {
          "output_type": "stream",
          "name": "stdout",
          "text": [
            "Box with 15 chocolates\n"
          ]
        }
      ]
    },
    {
      "cell_type": "markdown",
      "source": [
        "Method Overloading"
      ],
      "metadata": {
        "id": "Waqe3Siiy9W5"
      }
    },
    {
      "cell_type": "code",
      "source": [
        "# arguments"
      ],
      "metadata": {
        "id": "SuXBN1uNy8z-"
      },
      "execution_count": null,
      "outputs": []
    },
    {
      "cell_type": "code",
      "source": [
        "class Calculator:\n",
        "  def add(self,a,b=0,c=0):\n",
        "    return a+b+c\n",
        "\n",
        "calc = Calculator()"
      ],
      "metadata": {
        "id": "dwUaL8aOzRh5"
      },
      "execution_count": 6,
      "outputs": []
    },
    {
      "cell_type": "code",
      "source": [
        "print(calc.add(2))\n",
        "print(calc.add(2,3))\n",
        "print(calc.add(2,3,5))\n",
        "\n"
      ],
      "metadata": {
        "colab": {
          "base_uri": "https://localhost:8080/",
          "height": 228
        },
        "id": "qhS22tH-zitN",
        "outputId": "9a3582c9-4a5d-4f68-e797-1d32d18a699d"
      },
      "execution_count": 12,
      "outputs": [
        {
          "output_type": "stream",
          "name": "stdout",
          "text": [
            "2\n",
            "5\n",
            "10\n"
          ]
        },
        {
          "output_type": "error",
          "ename": "TypeError",
          "evalue": "Calculator.add() takes from 2 to 4 positional arguments but 5 were given",
          "traceback": [
            "\u001b[0;31m---------------------------------------------------------------------------\u001b[0m",
            "\u001b[0;31mTypeError\u001b[0m                                 Traceback (most recent call last)",
            "\u001b[0;32m<ipython-input-12-a972176ad244>\u001b[0m in \u001b[0;36m<cell line: 0>\u001b[0;34m()\u001b[0m\n\u001b[1;32m      2\u001b[0m \u001b[0mprint\u001b[0m\u001b[0;34m(\u001b[0m\u001b[0mcalc\u001b[0m\u001b[0;34m.\u001b[0m\u001b[0madd\u001b[0m\u001b[0;34m(\u001b[0m\u001b[0;36m2\u001b[0m\u001b[0;34m,\u001b[0m\u001b[0;36m3\u001b[0m\u001b[0;34m)\u001b[0m\u001b[0;34m)\u001b[0m\u001b[0;34m\u001b[0m\u001b[0;34m\u001b[0m\u001b[0m\n\u001b[1;32m      3\u001b[0m \u001b[0mprint\u001b[0m\u001b[0;34m(\u001b[0m\u001b[0mcalc\u001b[0m\u001b[0;34m.\u001b[0m\u001b[0madd\u001b[0m\u001b[0;34m(\u001b[0m\u001b[0;36m2\u001b[0m\u001b[0;34m,\u001b[0m\u001b[0;36m3\u001b[0m\u001b[0;34m,\u001b[0m\u001b[0;36m5\u001b[0m\u001b[0;34m)\u001b[0m\u001b[0;34m)\u001b[0m\u001b[0;34m\u001b[0m\u001b[0;34m\u001b[0m\u001b[0m\n\u001b[0;32m----> 4\u001b[0;31m \u001b[0mprint\u001b[0m\u001b[0;34m(\u001b[0m\u001b[0mcalc\u001b[0m\u001b[0;34m.\u001b[0m\u001b[0madd\u001b[0m\u001b[0;34m(\u001b[0m\u001b[0;36m2\u001b[0m\u001b[0;34m,\u001b[0m\u001b[0;36m3\u001b[0m\u001b[0;34m,\u001b[0m\u001b[0;36m5\u001b[0m\u001b[0;34m,\u001b[0m\u001b[0;36m4\u001b[0m\u001b[0;34m)\u001b[0m\u001b[0;34m)\u001b[0m\u001b[0;34m\u001b[0m\u001b[0;34m\u001b[0m\u001b[0m\n\u001b[0m",
            "\u001b[0;31mTypeError\u001b[0m: Calculator.add() takes from 2 to 4 positional arguments but 5 were given"
          ]
        }
      ]
    },
    {
      "cell_type": "code",
      "source": [
        "class Calculator:\n",
        "  def add(self, *numbers): #*args\n",
        "    return sum(numbers) # (2,3,4,5)\n",
        "\n",
        "calc = Calculator()"
      ],
      "metadata": {
        "id": "aNOZKFYs0AZI"
      },
      "execution_count": 13,
      "outputs": []
    },
    {
      "cell_type": "code",
      "source": [
        "print(calc.add(2))\n",
        "print(calc.add(2,3))\n",
        "print(calc.add(2,3,5))\n",
        "print(calc.add(2,3,5,5,6,7,8))\n"
      ],
      "metadata": {
        "colab": {
          "base_uri": "https://localhost:8080/"
        },
        "id": "Buo-V2HK0HZT",
        "outputId": "42812448-11b4-4a38-9caf-89fa007f50a5"
      },
      "execution_count": 15,
      "outputs": [
        {
          "output_type": "stream",
          "name": "stdout",
          "text": [
            "2\n",
            "5\n",
            "10\n",
            "36\n"
          ]
        }
      ]
    },
    {
      "cell_type": "markdown",
      "source": [
        "Method Overriding\n",
        "\n",
        "class >  a\n",
        "\n",
        "childclass > b\n",
        "\n",
        "when a child class provides a new version of a methond is already defined in\n",
        "its parent\n",
        "parent\n",
        "start()\n",
        "  -> it will start the engine\n",
        "child\n",
        "start()\n",
        "  -> it will start he engine and acticates turbo mode also for extra speed"
      ],
      "metadata": {
        "id": "13gkEyFH1NLv"
      }
    },
    {
      "cell_type": "code",
      "source": [
        "class Car:\n",
        "  def start(self):\n",
        "    print(\"car is starting....\")\n",
        "\n",
        "class SportsCar(Car):\n",
        "  def start(self):\n",
        "    print(\" car is starting with turbo engine model\")\n",
        "\n",
        "basic_car=Car()\n",
        "sports_car=SportsCar()\n",
        "\n",
        "basic_car.start()\n",
        "sports_car.start()"
      ],
      "metadata": {
        "colab": {
          "base_uri": "https://localhost:8080/"
        },
        "id": "B8RKLGOz1MRG",
        "outputId": "ebc12768-c954-4566-af67-0949b2304b3a"
      },
      "execution_count": 19,
      "outputs": [
        {
          "output_type": "stream",
          "name": "stdout",
          "text": [
            "car is starting....\n",
            " car is starting with turbo engine model\n"
          ]
        }
      ]
    }
  ]
}