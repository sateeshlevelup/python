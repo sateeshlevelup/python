{
  "nbformat": 4,
  "nbformat_minor": 0,
  "metadata": {
    "colab": {
      "provenance": [],
      "authorship_tag": "ABX9TyMF52RLqL4BGqRt7sfy4y5o",
      "include_colab_link": true
    },
    "kernelspec": {
      "name": "python3",
      "display_name": "Python 3"
    },
    "language_info": {
      "name": "python"
    }
  },
  "cells": [
    {
      "cell_type": "markdown",
      "metadata": {
        "id": "view-in-github",
        "colab_type": "text"
      },
      "source": [
        "<a href=\"https://colab.research.google.com/github/sateeshlevelup/python/blob/main/Introduction_to_python.ipynb\" target=\"_parent\"><img src=\"https://colab.research.google.com/assets/colab-badge.svg\" alt=\"Open In Colab\"/></a>"
      ]
    },
    {
      "cell_type": "code",
      "execution_count": null,
      "metadata": {
        "id": "g4T1j05VIp9I"
      },
      "outputs": [],
      "source": [
        "Sateesh Pabbathi\n",
        "20+ yrs\n",
        "App->deployed->data->genrate insighits for that data"
      ]
    },
    {
      "cell_type": "code",
      "source": [
        "Python -> Programming language\n",
        "\n",
        "Why do we need prog language ?\n",
        "\n",
        "Humans -> tasks to the computers or servers\n",
        "\n",
        "to give a task a computer i can use programming language\n",
        "\n",
        "-> Java\n",
        "-> c,C++\n",
        "-> .net\n",
        "-> shell scrit\n",
        "-> go\n",
        "-> ruby\n",
        "-> Python\n"
      ],
      "metadata": {
        "id": "Lb7BbOC0Jd4E"
      },
      "execution_count": null,
      "outputs": []
    },
    {
      "cell_type": "code",
      "source": [
        "import numpy as np\n"
      ],
      "metadata": {
        "id": "pSonFIobNBcg"
      },
      "execution_count": null,
      "outputs": []
    },
    {
      "cell_type": "code",
      "source": [
        "Python is famous ??\n",
        "\n",
        "-> Python is very easy language to learn\n",
        "-> High demand in jobs\n",
        "-> high level language\n",
        "-> rich libraries\n",
        "-> Frameworks  -> django,streamlit,flask\n",
        "-> cross-platform\n",
        "-> opensource -> Free\n",
        "\n",
        "windows- closed source                       linux -opes source\n",
        "                                             linux+code -> leveluplinux\n",
        "\n",
        "\n"
      ],
      "metadata": {
        "id": "R-qjWvJ2KQkf"
      },
      "execution_count": null,
      "outputs": []
    },
    {
      "cell_type": "code",
      "source": [
        "from random import gammavariate\n",
        "-> web development\n",
        "-> Datasceicne and ml\n",
        "-> game devel\n",
        "-> cybersecurity\n",
        "-> devops\n",
        "-> ai\n",
        "-> gen ai\n",
        "-> Auto\n",
        "-> data engineering\n",
        "-> testing"
      ],
      "metadata": {
        "id": "nl8TnLMmMLiN"
      },
      "execution_count": null,
      "outputs": []
    },
    {
      "cell_type": "code",
      "source": [
        "name = \"sushmitha\"\n",
        "\n",
        "print(name)\n"
      ],
      "metadata": {
        "colab": {
          "base_uri": "https://localhost:8080/"
        },
        "id": "JNquOHNeKVVq",
        "outputId": "643a197d-c2f2-4e7e-922a-83d560845378"
      },
      "execution_count": null,
      "outputs": [
        {
          "output_type": "stream",
          "name": "stdout",
          "text": [
            "sushmitha\n"
          ]
        }
      ]
    },
    {
      "cell_type": "code",
      "source": [
        "pubic class hellworld{\n",
        "    public static void main(String[] args){\n",
        "        System.out.println(\"hello world\")\n",
        "    }\n",
        "}\n",
        "\n",
        "#java"
      ],
      "metadata": {
        "id": "ftFTztM9K5SF"
      },
      "execution_count": null,
      "outputs": []
    },
    {
      "cell_type": "code",
      "source": [
        "using System;\n",
        "\n",
        "class Program\n",
        "\n",
        "{\n",
        " statis void main()\n",
        " {\n",
        "     Console.WriteLine(\"Hello World\");\n",
        " }\n",
        "\n",
        "}\n",
        "# .net"
      ],
      "metadata": {
        "id": "vh6ZuD5iLCxT"
      },
      "execution_count": null,
      "outputs": []
    },
    {
      "cell_type": "code",
      "source": [
        "print(\"hello world\") #python"
      ],
      "metadata": {
        "id": "CcOT90_gLPrL"
      },
      "execution_count": null,
      "outputs": []
    },
    {
      "cell_type": "code",
      "source": [
        "ABC -> inspration for python language -> guido van Rossum -> 1990\n",
        "\n",
        "Neatherlands\n",
        "\n",
        "python 1.0 ->\n",
        "python 1.2\n",
        "ptyhon 1.3\n",
        "\n",
        "ptyhon2.0\n",
        "\n",
        "python 3.10"
      ],
      "metadata": {
        "id": "xxP6dT7gLmly"
      },
      "execution_count": null,
      "outputs": []
    },
    {
      "cell_type": "code",
      "source": [
        "from logging import StringTemplateStyle\n",
        "# Data types\n",
        "\n",
        "-> int               -> this represents numbers\n",
        "-> Strings           -> Group of charcters\n",
        "->float              -> decimal numbers\n",
        "-> bool              -> True of False\n",
        "\n",
        "# python is a dynamically typed language"
      ],
      "metadata": {
        "id": "w4r_T6tLMEqR"
      },
      "execution_count": null,
      "outputs": []
    },
    {
      "cell_type": "code",
      "source": [
        "a = 5\n",
        "type(a)\n"
      ],
      "metadata": {
        "colab": {
          "base_uri": "https://localhost:8080/"
        },
        "id": "4j4NFmXcPlXT",
        "outputId": "d1e4fa10-dbff-4159-dc8f-a70e93de7b5f"
      },
      "execution_count": null,
      "outputs": [
        {
          "output_type": "execute_result",
          "data": {
            "text/plain": [
              "int"
            ]
          },
          "metadata": {},
          "execution_count": 3
        }
      ]
    },
    {
      "cell_type": "code",
      "source": [
        "a = \"sailaja\"   # i have asekd the name in the class\n",
        "type(a)"
      ],
      "metadata": {
        "colab": {
          "base_uri": "https://localhost:8080/"
        },
        "id": "StQ3WDEMPnHi",
        "outputId": "4e392ce4-dc6e-4a64-a3eb-d6186d0892dd"
      },
      "execution_count": null,
      "outputs": [
        {
          "output_type": "execute_result",
          "data": {
            "text/plain": [
              "str"
            ]
          },
          "metadata": {},
          "execution_count": 7
        }
      ]
    },
    {
      "cell_type": "code",
      "source": [
        "a = 10.5\n",
        "type(a)"
      ],
      "metadata": {
        "colab": {
          "base_uri": "https://localhost:8080/"
        },
        "id": "hnOcI_QlQ55H",
        "outputId": "c377a111-d419-4e68-ffdb-d601c263582e"
      },
      "execution_count": null,
      "outputs": [
        {
          "output_type": "execute_result",
          "data": {
            "text/plain": [
              "float"
            ]
          },
          "metadata": {},
          "execution_count": 8
        }
      ]
    },
    {
      "cell_type": "code",
      "source": [
        "a = True\n",
        "type(a)"
      ],
      "metadata": {
        "colab": {
          "base_uri": "https://localhost:8080/"
        },
        "id": "aJPEH_aCRBZO",
        "outputId": "cfe67150-ac2a-49d5-f4a4-7ebf189dff8f"
      },
      "execution_count": null,
      "outputs": [
        {
          "output_type": "execute_result",
          "data": {
            "text/plain": [
              "bool"
            ]
          },
          "metadata": {},
          "execution_count": 9
        }
      ]
    },
    {
      "cell_type": "code",
      "source": [
        "\"\"\"\n",
        "this\n",
        "is\n",
        "a multiline\n",
        "comment\n",
        "\"\"\""
      ],
      "metadata": {
        "id": "qxtkYkVxPzmf"
      },
      "execution_count": null,
      "outputs": []
    },
    {
      "cell_type": "code",
      "source": [
        "print() # is a function in python used to display the results on the console(Screen)\n",
        "\n",
        "#Three different ways to use print\n",
        "\n",
        "name = \"sushmitha\"\n",
        "age =20\n",
        "\n",
        "print('my name is',name,'and i am',age,'yrs old')\n",
        "print('sushmitha')\n",
        "\n",
        "# my name is sushmihta and i am 20 yrs old"
      ],
      "metadata": {
        "colab": {
          "base_uri": "https://localhost:8080/"
        },
        "id": "XvUgu0qBRdTF",
        "outputId": "97fca337-a620-4f76-c051-d0e5e28bc7c8"
      },
      "execution_count": null,
      "outputs": [
        {
          "output_type": "stream",
          "name": "stdout",
          "text": [
            "\n",
            "my name is sushmitha and i am 20 yrs old\n",
            "sushmitha\n"
          ]
        }
      ]
    },
    {
      "cell_type": "code",
      "source": [
        "print(f'my name is {name}and i am {age} yrs old')"
      ],
      "metadata": {
        "colab": {
          "base_uri": "https://localhost:8080/"
        },
        "id": "IffcuCEUSr1L",
        "outputId": "81e6c23d-8ed6-43b6-c15d-02c57feef103"
      },
      "execution_count": null,
      "outputs": [
        {
          "output_type": "stream",
          "name": "stdout",
          "text": [
            "my name is sushmithaand i am 20 yrs old\n"
          ]
        }
      ]
    },
    {
      "cell_type": "code",
      "source": [],
      "metadata": {
        "id": "xzvxQ2zpUBUc"
      },
      "execution_count": null,
      "outputs": []
    }
  ]
}