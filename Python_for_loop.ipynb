{
  "nbformat": 4,
  "nbformat_minor": 0,
  "metadata": {
    "colab": {
      "provenance": [],
      "authorship_tag": "ABX9TyMO51IHAAMb/ZOIn5NfaXuF",
      "include_colab_link": true
    },
    "kernelspec": {
      "name": "python3",
      "display_name": "Python 3"
    },
    "language_info": {
      "name": "python"
    }
  },
  "cells": [
    {
      "cell_type": "markdown",
      "metadata": {
        "id": "view-in-github",
        "colab_type": "text"
      },
      "source": [
        "<a href=\"https://colab.research.google.com/github/sateeshlevelup/python/blob/main/Python_for_loop.ipynb\" target=\"_parent\"><img src=\"https://colab.research.google.com/assets/colab-badge.svg\" alt=\"Open In Colab\"/></a>"
      ]
    },
    {
      "cell_type": "code",
      "execution_count": null,
      "metadata": {
        "id": "L4LtrLgryyFR",
        "colab": {
          "base_uri": "https://localhost:8080/"
        },
        "outputId": "fc37a76c-71f0-4740-991c-a29293f63c4a"
      },
      "outputs": [
        {
          "output_type": "stream",
          "name": "stdout",
          "text": [
            "5\n"
          ]
        }
      ],
      "source": []
    },
    {
      "cell_type": "code",
      "source": [
        "a = [5,6,7]\n",
        "\n",
        "b = 5\n",
        "b = 6\n",
        "b = 7\n",
        "\n",
        "\n",
        "for b in a:\n",
        "  print(b + 2)"
      ],
      "metadata": {
        "colab": {
          "base_uri": "https://localhost:8080/"
        },
        "id": "qINdUkxOn2Vy",
        "outputId": "6c82525f-5d6a-48c6-b3ee-e04f5515aeff"
      },
      "execution_count": null,
      "outputs": [
        {
          "output_type": "stream",
          "name": "stdout",
          "text": [
            "7\n",
            "8\n",
            "9\n"
          ]
        }
      ]
    },
    {
      "cell_type": "code",
      "source": [
        "for x in a:\n",
        "  print(x)\n"
      ],
      "metadata": {
        "colab": {
          "base_uri": "https://localhost:8080/"
        },
        "id": "zyiDq-Iq05-0",
        "outputId": "ea0a3518-2a67-4da3-a636-0efa45cb93ca"
      },
      "execution_count": null,
      "outputs": [
        {
          "output_type": "stream",
          "name": "stdout",
          "text": [
            "1\n",
            "2\n",
            "3\n",
            "4\n",
            "5\n"
          ]
        }
      ]
    },
    {
      "cell_type": "code",
      "source": [
        "s = [\"i\",\"am\",\"learning\",\"python\",\"at\",\"leveUP\"]\n",
        "\n",
        "for i in s:\n",
        "  print(i)"
      ],
      "metadata": {
        "colab": {
          "base_uri": "https://localhost:8080/"
        },
        "id": "PV_WvlB71Tn5",
        "outputId": "3b49a611-78e6-411d-972f-e860c449d622"
      },
      "execution_count": null,
      "outputs": [
        {
          "output_type": "stream",
          "name": "stdout",
          "text": [
            "i\n",
            "am\n",
            "learning\n",
            "python\n",
            "at\n",
            "leveUP\n"
          ]
        }
      ]
    },
    {
      "cell_type": "markdown",
      "source": [
        "ly to the end for every element"
      ],
      "metadata": {
        "id": "buSr3JAl17Ee"
      }
    },
    {
      "cell_type": "code",
      "source": [
        "s = [\"i\",\"am\",\"learning\",\"python\",\"at\",\"leveUP\"]\n",
        "\n",
        "for i in s:\n",
        "  print(i+\"ly\")"
      ],
      "metadata": {
        "colab": {
          "base_uri": "https://localhost:8080/"
        },
        "id": "5KNO0KKi2AFh",
        "outputId": "a937fff2-e641-469f-d991-3e2a18bc1653"
      },
      "execution_count": null,
      "outputs": [
        {
          "output_type": "stream",
          "name": "stdout",
          "text": [
            "ily\n",
            "amly\n",
            "learningly\n",
            "pythonly\n",
            "atly\n",
            "leveUPly\n"
          ]
        }
      ]
    },
    {
      "cell_type": "code",
      "source": [
        "word = \"levelUP\"\n",
        "\n",
        "for char in word:\n",
        "  print(char)"
      ],
      "metadata": {
        "colab": {
          "base_uri": "https://localhost:8080/"
        },
        "id": "F-pMIxKD2NHL",
        "outputId": "1d4b90a4-2534-4a19-b482-6eff027bd19f"
      },
      "execution_count": null,
      "outputs": [
        {
          "output_type": "stream",
          "name": "stdout",
          "text": [
            "l\n",
            "e\n",
            "v\n",
            "e\n",
            "l\n",
            "U\n",
            "P\n"
          ]
        }
      ]
    },
    {
      "cell_type": "code",
      "source": [
        "for i in range(1,10):\n",
        "  for j in range(1,11):\n",
        "    print(f\"{i} x {j}= {i * j}\")\n",
        "  print(\"-----------------------\")"
      ],
      "metadata": {
        "colab": {
          "base_uri": "https://localhost:8080/"
        },
        "id": "UUGby1np2cWU",
        "outputId": "9e7b7839-8218-455a-8d51-493e4370d2ea"
      },
      "execution_count": null,
      "outputs": [
        {
          "output_type": "stream",
          "name": "stdout",
          "text": [
            "1 x 1= 1\n",
            "1 x 2= 2\n",
            "1 x 3= 3\n",
            "1 x 4= 4\n",
            "1 x 5= 5\n",
            "1 x 6= 6\n",
            "1 x 7= 7\n",
            "1 x 8= 8\n",
            "1 x 9= 9\n",
            "1 x 10= 10\n",
            "-----------------------\n",
            "2 x 1= 2\n",
            "2 x 2= 4\n",
            "2 x 3= 6\n",
            "2 x 4= 8\n",
            "2 x 5= 10\n",
            "2 x 6= 12\n",
            "2 x 7= 14\n",
            "2 x 8= 16\n",
            "2 x 9= 18\n",
            "2 x 10= 20\n",
            "-----------------------\n",
            "3 x 1= 3\n",
            "3 x 2= 6\n",
            "3 x 3= 9\n",
            "3 x 4= 12\n",
            "3 x 5= 15\n",
            "3 x 6= 18\n",
            "3 x 7= 21\n",
            "3 x 8= 24\n",
            "3 x 9= 27\n",
            "3 x 10= 30\n",
            "-----------------------\n",
            "4 x 1= 4\n",
            "4 x 2= 8\n",
            "4 x 3= 12\n",
            "4 x 4= 16\n",
            "4 x 5= 20\n",
            "4 x 6= 24\n",
            "4 x 7= 28\n",
            "4 x 8= 32\n",
            "4 x 9= 36\n",
            "4 x 10= 40\n",
            "-----------------------\n",
            "5 x 1= 5\n",
            "5 x 2= 10\n",
            "5 x 3= 15\n",
            "5 x 4= 20\n",
            "5 x 5= 25\n",
            "5 x 6= 30\n",
            "5 x 7= 35\n",
            "5 x 8= 40\n",
            "5 x 9= 45\n",
            "5 x 10= 50\n",
            "-----------------------\n",
            "6 x 1= 6\n",
            "6 x 2= 12\n",
            "6 x 3= 18\n",
            "6 x 4= 24\n",
            "6 x 5= 30\n",
            "6 x 6= 36\n",
            "6 x 7= 42\n",
            "6 x 8= 48\n",
            "6 x 9= 54\n",
            "6 x 10= 60\n",
            "-----------------------\n",
            "7 x 1= 7\n",
            "7 x 2= 14\n",
            "7 x 3= 21\n",
            "7 x 4= 28\n",
            "7 x 5= 35\n",
            "7 x 6= 42\n",
            "7 x 7= 49\n",
            "7 x 8= 56\n",
            "7 x 9= 63\n",
            "7 x 10= 70\n",
            "-----------------------\n",
            "8 x 1= 8\n",
            "8 x 2= 16\n",
            "8 x 3= 24\n",
            "8 x 4= 32\n",
            "8 x 5= 40\n",
            "8 x 6= 48\n",
            "8 x 7= 56\n",
            "8 x 8= 64\n",
            "8 x 9= 72\n",
            "8 x 10= 80\n",
            "-----------------------\n",
            "9 x 1= 9\n",
            "9 x 2= 18\n",
            "9 x 3= 27\n",
            "9 x 4= 36\n",
            "9 x 5= 45\n",
            "9 x 6= 54\n",
            "9 x 7= 63\n",
            "9 x 8= 72\n",
            "9 x 9= 81\n",
            "9 x 10= 90\n",
            "-----------------------\n"
          ]
        }
      ]
    },
    {
      "cell_type": "markdown",
      "source": [
        "Use forloop with else"
      ],
      "metadata": {
        "id": "PKkyLba43e8l"
      }
    },
    {
      "cell_type": "code",
      "source": [
        "numbers = [1,2,3,4,5]\n",
        "for num in numbers:\n",
        "  if num == 3:\n",
        "    print(\"found 3!\")\n",
        "    break\n",
        "else:\n",
        "  print('3 is not found')\n"
      ],
      "metadata": {
        "colab": {
          "base_uri": "https://localhost:8080/"
        },
        "id": "sL4UoL-Z3Vqt",
        "outputId": "4aea74b9-5847-4cb0-e02a-dea1bfa89200"
      },
      "execution_count": null,
      "outputs": [
        {
          "output_type": "stream",
          "name": "stdout",
          "text": [
            "3 is not found\n"
          ]
        }
      ]
    },
    {
      "cell_type": "code",
      "source": [
        "for varibale in iterable:\n",
        "  if condation:\n",
        "    break"
      ],
      "metadata": {
        "id": "pxs41NmO3_5_"
      },
      "execution_count": null,
      "outputs": []
    },
    {
      "cell_type": "code",
      "source": [
        "# sum of numbers in range 1 to 10\n",
        "\n",
        "total = 0\n",
        "for n in range(1,11):\n",
        "  total += n\n",
        "print(f\"The sum of numbers from 1 to 10 is {total}\")"
      ],
      "metadata": {
        "colab": {
          "base_uri": "https://localhost:8080/"
        },
        "id": "ETYcN9WN7hP_",
        "outputId": "5fb28efd-7273-4b18-8c4b-bfc92070f6a0"
      },
      "execution_count": null,
      "outputs": [
        {
          "output_type": "stream",
          "name": "stdout",
          "text": [
            "The sum of numbers from 1 to 10 is 55\n"
          ]
        }
      ]
    },
    {
      "cell_type": "code",
      "source": [
        "# print all the letter's expret l and o \"levelupoispython\"\n",
        "\n",
        "for i in 'levelupoispython':\n",
        "  if i == 'l' or i == 'o':\n",
        "    continue\n",
        "  print(i)\n",
        "\n",
        "\n"
      ],
      "metadata": {
        "colab": {
          "base_uri": "https://localhost:8080/"
        },
        "id": "aqImR_CI8ew4",
        "outputId": "5d1acd8d-95ee-43b0-e320-327022b5c4f7"
      },
      "execution_count": null,
      "outputs": [
        {
          "output_type": "stream",
          "name": "stdout",
          "text": [
            "e\n",
            "v\n",
            "e\n",
            "u\n",
            "p\n",
            "i\n",
            "s\n",
            "p\n",
            "y\n",
            "t\n",
            "h\n",
            "n\n"
          ]
        }
      ]
    },
    {
      "cell_type": "code",
      "source": [
        "for i in 'evelupoispython':\n",
        "  if i == 'l' or i == 'o':\n",
        "    break\n",
        "  print(i)"
      ],
      "metadata": {
        "colab": {
          "base_uri": "https://localhost:8080/"
        },
        "id": "SLg4uPAG9X7h",
        "outputId": "4ccf6c09-20f4-40f8-cf1c-745d5c848c3d"
      },
      "execution_count": null,
      "outputs": [
        {
          "output_type": "stream",
          "name": "stdout",
          "text": [
            "e\n",
            "v\n",
            "e\n"
          ]
        }
      ]
    },
    {
      "cell_type": "code",
      "source": [
        "# enumerate\n",
        "list = [\"eat\",\"sleep\",\"repeat\"]\n",
        "\n",
        "for i,j in enumerate (list):\n",
        "  print(i,j)"
      ],
      "metadata": {
        "colab": {
          "base_uri": "https://localhost:8080/"
        },
        "id": "wh3fZxn49ts9",
        "outputId": "1f918aaa-d876-485d-ae03-3c7e170aa09b"
      },
      "execution_count": null,
      "outputs": [
        {
          "output_type": "stream",
          "name": "stdout",
          "text": [
            "0 eat\n",
            "1 sleep\n",
            "2 repeat\n"
          ]
        }
      ]
    },
    {
      "cell_type": "code",
      "source": [
        "# i love learning python in LevelUP\n",
        "\n",
        "text = \"i love learning python in LevelUP\"\n",
        "\n",
        "char_count = {}\n",
        "\n",
        "for char in text:\n",
        "  if char !=\" \": #ignore spaces\n",
        "    char_count[char] = char_count.get(char,0)+1\n",
        "print(char_count)"
      ],
      "metadata": {
        "colab": {
          "base_uri": "https://localhost:8080/"
        },
        "id": "ww84AFnc-vVt",
        "outputId": "ff3f3a36-f413-4f82-fea2-8378b4e090a5"
      },
      "execution_count": null,
      "outputs": [
        {
          "output_type": "stream",
          "name": "stdout",
          "text": [
            "{'i': 3, 'l': 3, 'o': 2, 'v': 2, 'e': 4, 'a': 1, 'r': 1, 'n': 4, 'g': 1, 'p': 1, 'y': 1, 't': 1, 'h': 1, 'L': 1, 'U': 1, 'P': 1}\n"
          ]
        }
      ]
    },
    {
      "cell_type": "code",
      "source": [
        "#Print numbers from 1 to 10 using a for loop.\n",
        "\n",
        "a = [1,2,3,4,5,6,7,8,9,10]\n",
        "\n",
        "for x in a:\n",
        "  print (x)"
      ],
      "metadata": {
        "id": "WmNPGHbmBC_8",
        "colab": {
          "base_uri": "https://localhost:8080/"
        },
        "outputId": "76360829-3a07-40f1-9f8e-392f1617a78f"
      },
      "execution_count": null,
      "outputs": [
        {
          "output_type": "stream",
          "name": "stdout",
          "text": [
            "1\n",
            "2\n",
            "3\n",
            "4\n",
            "5\n",
            "6\n",
            "7\n",
            "8\n",
            "9\n",
            "10\n"
          ]
        }
      ]
    },
    {
      "cell_type": "code",
      "source": [
        "#Print all even numbers from 1 to 20."
      ],
      "metadata": {
        "id": "gjKH-b_rBDSD"
      },
      "execution_count": null,
      "outputs": []
    },
    {
      "cell_type": "code",
      "source": [
        "a = [1,2,3,21,5,6,7,8,9,10,11,12,13,14,15,16,20]\n",
        "\n",
        "print(a[1::2])\n",
        "\n",
        "#for x in a:\n",
        " # print(x[1::2])\n",
        "\n",
        "\n"
      ],
      "metadata": {
        "colab": {
          "base_uri": "https://localhost:8080/"
        },
        "id": "f3DhWtzgpNru",
        "outputId": "19552239-5dd2-47ed-dbcc-85787caacc46"
      },
      "execution_count": null,
      "outputs": [
        {
          "output_type": "stream",
          "name": "stdout",
          "text": [
            "[2, 21, 6, 8, 10, 12, 14, 16]\n"
          ]
        }
      ]
    },
    {
      "cell_type": "code",
      "source": [
        "# Print each character of the string \"Python\".\n",
        "a = \"python\"\n",
        "\n",
        "for i in a:\n",
        "  print(i)"
      ],
      "metadata": {
        "id": "Vb1s-iKNBDhs",
        "colab": {
          "base_uri": "https://localhost:8080/"
        },
        "outputId": "c22d0cbe-049a-4fec-c26f-a908ef90d96d"
      },
      "execution_count": null,
      "outputs": [
        {
          "output_type": "stream",
          "name": "stdout",
          "text": [
            "p\n",
            "y\n",
            "t\n",
            "h\n",
            "o\n",
            "n\n"
          ]
        }
      ]
    },
    {
      "cell_type": "code",
      "source": [
        "#Print numbers from 10 to 1\n",
        "\n",
        "\n"
      ],
      "metadata": {
        "id": "Zevee8w1BD1d"
      },
      "execution_count": null,
      "outputs": []
    },
    {
      "cell_type": "markdown",
      "source": [
        "# Assignmnets\n",
        "\n",
        "### **Basic Iteration**\n",
        "1. Print numbers from 1 to 10 using a `for` loop.\n",
        "2. Print all even numbers from 1 to 20.\n",
        "3. Print all odd numbers from 1 to 20.\n",
        "4. Print each character of the string `\"Python\"`.\n",
        "5. Print each item in the list `[10, 20, 30, 40, 50]`.\n",
        "\n",
        "---\n",
        "\n",
        "### **Ranges**\n",
        "6. Print numbers from 10 to 1 (in reverse order).\n",
        "7. Print numbers from 5 to 50, incrementing by 5.\n",
        "8. Print numbers between 0 and 30 that are divisible by 3.\n",
        "9. Print the first 10 multiples of 7.\n",
        "10. Use a `for` loop to calculate the sum of numbers from 1 to 50.\n",
        "\n",
        "---\n",
        "\n",
        "### **Strings**\n",
        "11. Print each vowel in the string `\"education\"`.\n",
        "12. Count the number of vowels in the string `\"hello world\"`.\n",
        "13. Reverse the string `\"python\"` using a `for` loop.\n",
        "14. Find the frequency of each character in the string `\"apple\"`.\n",
        "15. Convert the string `\"hello\"` to uppercase using a `for` loop.\n",
        "\n",
        "---\n",
        "\n",
        "### **Lists**\n",
        "16. Calculate the sum of all numbers in the list `[1, 2, 3, 4, 5]`.\n",
        "17. Find the largest number in the list `[10, 20, 5, 50, 30]`.\n",
        "18. Find the smallest number in the list `[15, 25, 10, 30]`.\n",
        "19. Print all items in the list `[‘cat’, ‘dog’, ‘bird’]` in reverse order.\n",
        "20. Create a new list containing the square of each number in `[1, 2, 3, 4, 5]`.\n",
        "\n",
        "---\n",
        "\n",
        "### **Dictionaries**\n",
        "21. Print all the keys in the dictionary `{'name': 'Alice', 'age': 25}`.\n",
        "22. Print all the values in the dictionary `{'name': 'Alice', 'age': 25}`.\n",
        "23. Calculate the sum of all values in `{'a': 10, 'b': 20, 'c': 30}`.\n",
        "24. Print each key-value pair in the dictionary `{'x': 5, 'y': 10}`.\n",
        "25. Find the key with the largest value in `{'a': 1, 'b': 3, 'c': 2}`.\n",
        "\n",
        "---\n",
        "\n",
        "### **Patterns**\n",
        "26. Print a right triangle pattern of stars:\n",
        "    ```\n",
        "    *\n",
        "    **\n",
        "    ***\n",
        "    ****\n",
        "    ```\n",
        "27. Print a square of stars (5x5).\n",
        "28. Print an inverted triangle of stars:\n",
        "    ```\n",
        "    ****\n",
        "    ***\n",
        "    **\n",
        "    *\n",
        "    ```\n",
        "29. Print a pyramid pattern of stars:\n",
        "    ```\n",
        "       *\n",
        "      ***\n",
        "     *****\n",
        "    ```\n",
        "30. Print numbers in a triangle pattern:\n",
        "    ```\n",
        "    1\n",
        "    12\n",
        "    123\n",
        "    1234\n",
        "    ```\n",
        "\n",
        "---\n",
        "\n",
        "### **Mathematics**\n",
        "31. Print the first 10 terms of the Fibonacci sequence.\n",
        "32. Calculate the factorial of a number (e.g., 5! = 120).\n",
        "33. Check if a number is prime using a `for` loop.\n",
        "34. Generate a multiplication table for a given number (e.g., 5).\n",
        "35. Find all prime numbers between 1 and 50.\n",
        "\n",
        "---\n",
        "\n",
        "### **Advanced Iteration with Lists**\n",
        "36. Filter out even numbers from the list `[1, 2, 3, 4, 5, 6, 7, 8, 9, 10]`.\n",
        "37. Create a list of cubes of numbers from 1 to 10.\n",
        "38. Print only strings longer than 4 characters in `['apple', 'cat', 'banana', 'dog']`.\n",
        "39. Create a list of numbers divisible by 3 from `[10, 15, 20, 25, 30]`.\n",
        "40. Combine two lists into a single list using a `for` loop.\n",
        "\n",
        "---\n",
        "\n",
        "### **Nested Loops**\n",
        "41. Create a 3x3 grid of numbers using nested `for` loops.\n",
        "42. Print the multiplication table for numbers 1 to 5 using nested loops.\n",
        "43. Use nested loops to print all pairs of numbers from `[1, 2, 3]` and `[4, 5, 6]`.\n",
        "44. Print a pattern of alternating `0` and `1`:\n",
        "    ```\n",
        "    0 1 0 1\n",
        "    1 0 1 0\n",
        "    0 1 0 1\n",
        "    1 0 1 0\n",
        "    ```\n",
        "45. Generate the transpose of a 2x2 matrix `[[1, 2], [3, 4]]`.\n",
        "\n",
        "---\n",
        "\n",
        "### **File Handling**\n",
        "46. Read and print each line from a file using a `for` loop.\n",
        "47. Count the number of lines in a file using a `for` loop.\n",
        "48. Write numbers from 1 to 10 to a file using a `for` loop.\n",
        "49. Find the longest word in a file using a `for` loop.\n",
        "50. Count the frequency of each word in a file.\n",
        "\n",
        "---\n"
      ],
      "metadata": {
        "id": "Gc_cuxfLBEO8"
      }
    },
    {
      "cell_type": "code",
      "source": [
        "# print numbers 1 to 10 using range\n",
        "for i in range (1,11):\n",
        "  print(i)"
      ],
      "metadata": {
        "colab": {
          "base_uri": "https://localhost:8080/"
        },
        "id": "VL26CV67smYy",
        "outputId": "11779ed4-b80c-4dd7-d0b7-5f6546aa4341"
      },
      "execution_count": null,
      "outputs": [
        {
          "output_type": "stream",
          "name": "stdout",
          "text": [
            "1\n",
            "2\n",
            "3\n",
            "4\n",
            "5\n",
            "6\n",
            "7\n",
            "8\n",
            "9\n",
            "10\n"
          ]
        }
      ]
    },
    {
      "cell_type": "code",
      "source": [
        "b = [1,34,56,5,6,89]\n",
        "\n",
        "total = 0\n",
        "\n",
        "for i in b:\n",
        "  total += i\n",
        "\n",
        "print(total)"
      ],
      "metadata": {
        "colab": {
          "base_uri": "https://localhost:8080/"
        },
        "id": "pm339Yxrs9_7",
        "outputId": "395d8acc-08c0-4050-a37a-8c13e10c6548"
      },
      "execution_count": null,
      "outputs": [
        {
          "output_type": "stream",
          "name": "stdout",
          "text": [
            "191\n"
          ]
        }
      ]
    },
    {
      "cell_type": "markdown",
      "source": [
        "Write a program that computes the factorial of a given positive integer using a for loop.\n",
        "\n",
        "String Reversal\n",
        "\n",
        "Multiplication Table Generator"
      ],
      "metadata": {
        "id": "P7gvEivpuJVf"
      }
    },
    {
      "cell_type": "code",
      "source": [
        "Write a program that computes the factorial of a given positive integer using a for loop."
      ],
      "metadata": {
        "id": "xEE-3rH-uIJ4"
      },
      "execution_count": null,
      "outputs": []
    }
  ]
}