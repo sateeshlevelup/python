{
  "nbformat": 4,
  "nbformat_minor": 0,
  "metadata": {
    "colab": {
      "provenance": [],
      "authorship_tag": "ABX9TyPt48+6S+zvR2bh1rSvcva8",
      "include_colab_link": true
    },
    "kernelspec": {
      "name": "python3",
      "display_name": "Python 3"
    },
    "language_info": {
      "name": "python"
    }
  },
  "cells": [
    {
      "cell_type": "markdown",
      "metadata": {
        "id": "view-in-github",
        "colab_type": "text"
      },
      "source": [
        "<a href=\"https://colab.research.google.com/github/sateeshlevelup/python/blob/main/Python_oops_02.ipynb\" target=\"_parent\"><img src=\"https://colab.research.google.com/assets/colab-badge.svg\" alt=\"Open In Colab\"/></a>"
      ]
    },
    {
      "cell_type": "markdown",
      "source": [],
      "metadata": {
        "id": "YU4hiXUl4_Fq"
      }
    },
    {
      "cell_type": "markdown",
      "source": [
        "### **Object-Oriented Programming (OOP) Concepts Summary**\n",
        "Object-Oriented Programming (OOP) is a programming paradigm that organizes code into reusable objects. It helps in building scalable and maintainable applications by following key principles:\n",
        "\n",
        "#### **1. Key OOP Concepts:**\n",
        "1. **Encapsulation** – Wrapping data and methods into a single unit (class) to prevent direct access to data.\n",
        "2. **Abstraction** – Hiding complex implementation details and exposing only essential functionalities.\n",
        "3. **Inheritance** – Allowing a class (child) to inherit properties and behaviors from another class (parent).\n",
        "4. **Polymorphism** – Enabling objects to be treated as instances of their parent class, allowing method overriding and overloading.\n",
        "\n",
        "---\n",
        "\n",
        "### **What is a Class?**\n",
        "A **class** is a blueprint or template that defines attributes (variables) and behaviors (methods) for objects. It does not hold any data but provides a structure for creating objects.\n",
        "\n",
        "#### **Example of a Class in Python:**\n",
        "```python\n",
        "class Car:\n",
        "    def __init__(self, brand, model):\n",
        "        self.brand = brand  # Attribute\n",
        "        self.model = model  # Attribute\n",
        "    \n",
        "    def display_info(self):  # Method\n",
        "        print(f\"This car is a {self.brand} {self.model}.\")\n",
        "```\n",
        "\n",
        "---\n",
        "\n",
        "### **What is an Object?**\n",
        "An **object** is an instance of a class. It represents a real-world entity with properties and behaviors defined in the class.\n",
        "\n",
        "#### **Creating an Object from a Class:**\n",
        "```python\n",
        "# Creating an object of the Car class\n",
        "my_car = Car(\"Toyota\", \"Camry\")\n",
        "\n",
        "# Accessing attributes and calling methods\n",
        "print(my_car.brand)  # Output: Toyota\n",
        "my_car.display_info()  # Output: This car is a Toyota Camry.\n",
        "```\n",
        "\n",
        "\n",
        "\n",
        "\n",
        "- A **class** defines the structure and behavior of an object.\n",
        "- An **object** is an instance of a class with specific values.\n",
        "- Objects interact with each other using methods and properties.\n",
        "- OOP provides better code organization, reusability, and scalability.\n",
        "\n"
      ],
      "metadata": {
        "id": "quSk0P_a4zBA"
      }
    },
    {
      "cell_type": "markdown",
      "source": [],
      "metadata": {
        "id": "t8yjHrHU4yaC"
      }
    },
    {
      "cell_type": "code",
      "source": [
        "# ATM application"
      ],
      "metadata": {
        "id": "ON_HFjpx8k1U"
      },
      "execution_count": null,
      "outputs": []
    },
    {
      "cell_type": "code",
      "source": [
        "# fucntion inside a class is called as method"
      ],
      "metadata": {
        "id": "Rb38n5-7-YcD"
      },
      "execution_count": null,
      "outputs": []
    },
    {
      "cell_type": "code",
      "source": [
        "\n",
        "class Atm:  # this defines a class names ATM\n",
        "#Special/method/magic method\n",
        "  def __init__(self):  # __init__ is Constructor method in python\n",
        "    self.pin = \"\"      # this __init__method runs the code automatically when an object of the Atm class is created\n",
        "    self.balance = 0\n",
        "\n",
        "    self.menu()\n",
        "\n",
        "  def menu(self):\n",
        "    user_input = input(\"\"\"\n",
        "         Hello, how would you like to proceed?\n",
        "    1. Enter 1 to create pin\n",
        "    2. Enter 2 to deposit\n",
        "    3. Enter 3 to withdraw\n",
        "    4. Enter 4 to check balance\n",
        "    5. Enter 5 to exit\n",
        "    \"\"\")\n",
        "    if user_input == \"1\":\n",
        "      self.create_pin()\n",
        "    elif user_input == \"2\":\n",
        "      self.deposit()\n",
        "    elif user_input == \"3\":\n",
        "      self.withdraw()\n",
        "    elif user_input == \"4\":\n",
        "      self.check_balance()\n",
        "    else:\n",
        "      print(\"Bye\")\n",
        "  def create_pin(self):\n",
        "    self.pin = input(\"Enter your pin\")\n",
        "    print(\"Pin set successfully\")\n",
        "  def deposit(self):\n",
        "    temp = input(\"Enter your pin\")\n",
        "    if temp == self.pin:\n",
        "      amount = input(\"Enter the amount\")\n",
        "      self.balance = self.balance + amount\n",
        "      print(\"Deposit Successful\")\n",
        "    else:\n",
        "      print(\"Invalid Pin\")\n",
        "  def withdraw(self):\n",
        "    temp = input(\"Enter your pin\")\n",
        "    if temp == self.pin:\n",
        "      amount = int(input(\"Enter the amount\"))\n",
        "      if amount <= self.balance:\n",
        "        self.balance = self.balance - amount\n",
        "        print(\"Withdraw Successful\")\n",
        "    else:\n",
        "      print(\"invalid Pin\")\n",
        "  def check_balance(self):\n",
        "    temp = input(\"Enter your pin\")\n",
        "    if temp == self.pin:\n",
        "      print(self.balance)\n",
        "    else:\n",
        "      print(\"Invalid Pin\")\n",
        "\n",
        "\n",
        "\n",
        "\n",
        "\n",
        "\n",
        "\n",
        "\n",
        "\n"
      ],
      "metadata": {
        "id": "wHaYr3544yQe"
      },
      "execution_count": 29,
      "outputs": []
    },
    {
      "cell_type": "code",
      "source": [
        "icicibank=Atm()"
      ],
      "metadata": {
        "colab": {
          "base_uri": "https://localhost:8080/"
        },
        "id": "m94EHlurFiVs",
        "outputId": "a0d2ace8-36ab-4d15-e96a-dc0612d97c34"
      },
      "execution_count": 30,
      "outputs": [
        {
          "output_type": "stream",
          "name": "stdout",
          "text": [
            "\n",
            "         Hello, how would you like to proceed?\n",
            "    1. Enter 1 to create pin\n",
            "    2. Enter 2 to deposit\n",
            "    3. Enter 3 to withdraw\n",
            "    4. Enter 4 to check balance\n",
            "    5. Enter 5 to exit\n",
            "    1\n",
            "Enter your pin121\n",
            "Pin set successfully\n"
          ]
        }
      ]
    },
    {
      "cell_type": "code",
      "source": [
        "Atm.deposit(1000000)"
      ],
      "metadata": {
        "colab": {
          "base_uri": "https://localhost:8080/",
          "height": 280
        },
        "id": "QEqY06w8MQcy",
        "outputId": "11a6ce2a-508d-4215-8a81-6f0c93122bf5"
      },
      "execution_count": 31,
      "outputs": [
        {
          "name": "stdout",
          "output_type": "stream",
          "text": [
            "Enter your pin121\n"
          ]
        },
        {
          "output_type": "error",
          "ename": "AttributeError",
          "evalue": "'int' object has no attribute 'pin'",
          "traceback": [
            "\u001b[0;31m---------------------------------------------------------------------------\u001b[0m",
            "\u001b[0;31mAttributeError\u001b[0m                            Traceback (most recent call last)",
            "\u001b[0;32m<ipython-input-31-182cf55e98e2>\u001b[0m in \u001b[0;36m<cell line: 0>\u001b[0;34m()\u001b[0m\n\u001b[0;32m----> 1\u001b[0;31m \u001b[0mAtm\u001b[0m\u001b[0;34m.\u001b[0m\u001b[0mdeposit\u001b[0m\u001b[0;34m(\u001b[0m\u001b[0;36m1000000\u001b[0m\u001b[0;34m)\u001b[0m\u001b[0;34m\u001b[0m\u001b[0;34m\u001b[0m\u001b[0m\n\u001b[0m",
            "\u001b[0;32m<ipython-input-29-9d4a6b328d74>\u001b[0m in \u001b[0;36mdeposit\u001b[0;34m(self)\u001b[0m\n\u001b[1;32m     31\u001b[0m   \u001b[0;32mdef\u001b[0m \u001b[0mdeposit\u001b[0m\u001b[0;34m(\u001b[0m\u001b[0mself\u001b[0m\u001b[0;34m)\u001b[0m\u001b[0;34m:\u001b[0m\u001b[0;34m\u001b[0m\u001b[0;34m\u001b[0m\u001b[0m\n\u001b[1;32m     32\u001b[0m     \u001b[0mtemp\u001b[0m \u001b[0;34m=\u001b[0m \u001b[0minput\u001b[0m\u001b[0;34m(\u001b[0m\u001b[0;34m\"Enter your pin\"\u001b[0m\u001b[0;34m)\u001b[0m\u001b[0;34m\u001b[0m\u001b[0;34m\u001b[0m\u001b[0m\n\u001b[0;32m---> 33\u001b[0;31m     \u001b[0;32mif\u001b[0m \u001b[0mtemp\u001b[0m \u001b[0;34m==\u001b[0m \u001b[0mself\u001b[0m\u001b[0;34m.\u001b[0m\u001b[0mpin\u001b[0m\u001b[0;34m:\u001b[0m\u001b[0;34m\u001b[0m\u001b[0;34m\u001b[0m\u001b[0m\n\u001b[0m\u001b[1;32m     34\u001b[0m       \u001b[0mamount\u001b[0m \u001b[0;34m=\u001b[0m \u001b[0minput\u001b[0m\u001b[0;34m(\u001b[0m\u001b[0;34m\"Enter the amount\"\u001b[0m\u001b[0;34m)\u001b[0m\u001b[0;34m\u001b[0m\u001b[0;34m\u001b[0m\u001b[0m\n\u001b[1;32m     35\u001b[0m       \u001b[0mself\u001b[0m\u001b[0;34m.\u001b[0m\u001b[0mbalance\u001b[0m \u001b[0;34m=\u001b[0m \u001b[0mself\u001b[0m\u001b[0;34m.\u001b[0m\u001b[0mbalance\u001b[0m \u001b[0;34m+\u001b[0m \u001b[0mamount\u001b[0m\u001b[0;34m\u001b[0m\u001b[0;34m\u001b[0m\u001b[0m\n",
            "\u001b[0;31mAttributeError\u001b[0m: 'int' object has no attribute 'pin'"
          ]
        }
      ]
    },
    {
      "cell_type": "code",
      "source": [
        "\n",
        "class Atm:  # this defines a class names ATM\n",
        "#\n",
        "  def __init__(self):\n",
        "    print(\"i am learning Gen-Ai at LevelUP\")\n",
        "\n",
        "\n",
        "  def menu(self):\n",
        "    pass\n",
        ""
      ],
      "metadata": {
        "id": "pWrkFZI5BCO3"
      },
      "execution_count": 3,
      "outputs": []
    },
    {
      "cell_type": "code",
      "source": [
        "icicibank=Atm()"
      ],
      "metadata": {
        "colab": {
          "base_uri": "https://localhost:8080/"
        },
        "id": "NFeNxV5vBsUv",
        "outputId": "3b216aca-46f8-4c65-8151-9c0d4a318a1b"
      },
      "execution_count": 6,
      "outputs": [
        {
          "output_type": "stream",
          "name": "stdout",
          "text": [
            "i am learning Gen-Ai at LevelUP\n"
          ]
        }
      ]
    },
    {
      "cell_type": "code",
      "execution_count": 2,
      "metadata": {
        "colab": {
          "base_uri": "https://localhost:8080/"
        },
        "id": "dyApaNkI4YxF",
        "outputId": "d99579bb-7942-4827-c3e6-287299727b12"
      },
      "outputs": [
        {
          "output_type": "stream",
          "name": "stdout",
          "text": [
            "THIS IS ABOUT CLASSES IN PYTHON\n"
          ]
        }
      ],
      "source": [
        "a = \"this is about classes in python\"\n",
        "\n",
        "len(a)\n",
        "\n",
        "print(a.upper())\n",
        "a."
      ]
    },
    {
      "cell_type": "code",
      "source": [
        "class Atm:\n",
        "    def __init__(self):\n",
        "        self.pin = \"\"\n",
        "        self.balance = 0\n",
        "        self.menu()\n",
        "\n",
        "    def menu(self):\n",
        "        user_input = input(\"\"\"\n",
        "         Hello, how would you like to proceed?\n",
        "    1. Enter 1 to create pin\n",
        "    2. Enter 2 to deposit\n",
        "    3. Enter 3 to withdraw\n",
        "    4. Enter 4 to check balance\n",
        "    5. Enter 5 to exit\n",
        "    \"\"\")\n",
        "        if user_input == \"1\":\n",
        "            self.create_pin()\n",
        "        elif user_input == \"2\":\n",
        "            self.deposit()\n",
        "        elif user_input == \"3\":\n",
        "            self.withdraw()\n",
        "        elif user_input == \"4\":\n",
        "            self.check_balance()\n",
        "        else:\n",
        "            print(\"Bye\")\n",
        "\n",
        "    def create_pin(self):\n",
        "        self.pin = input(\"Enter your pin: \")  # Store PIN as a string\n",
        "        print(\"Pin set successfully\")\n",
        "\n",
        "    def deposit(self):\n",
        "        temp = input(\"Enter your pin: \")  # Keep as string\n",
        "        if temp == self.pin:  # Compare as string\n",
        "            amount = int(input(\"Enter the amount: \"))\n",
        "            self.balance += amount\n",
        "            print(\"Deposit Successful\")\n",
        "        else:\n",
        "            print(\"Invalid Pin\")\n",
        "\n",
        "    def withdraw(self):\n",
        "        temp = input(\"Enter your pin: \")  # Keep as string\n",
        "        if temp == self.pin:  # Compare as string\n",
        "            amount = input(\"Enter the amount: \")\n",
        "            if amount <= self.balance:\n",
        "                self.balance -= amount\n",
        "                print(\"Withdraw Successful\")\n",
        "            else:\n",
        "                print(\"Insufficient balance\")\n",
        "        else:\n",
        "            print(\"Invalid Pin\")\n",
        "\n",
        "    def check_balance(self):\n",
        "        temp = input(\"Enter your pin: \")  # Keep as string\n",
        "        if temp == self.pin:  # Compare as string\n",
        "            print(f\"Your balance is: {self.balance}\")\n",
        "        else:\n",
        "            print(\"Invalid Pin\")\n"
      ],
      "metadata": {
        "id": "j0pNy-PoMrPK"
      },
      "execution_count": 32,
      "outputs": []
    },
    {
      "cell_type": "code",
      "source": [
        "hdfcbank=Atm()\n",
        "hdfcbank.create_pin()"
      ],
      "metadata": {
        "colab": {
          "base_uri": "https://localhost:8080/"
        },
        "id": "cv7zeKhNUsRY",
        "outputId": "f2462e96-37f9-439e-b9ab-a0137bf3192b"
      },
      "execution_count": 44,
      "outputs": [
        {
          "output_type": "stream",
          "name": "stdout",
          "text": [
            "\n",
            "         Hello, how would you like to proceed?\n",
            "    1. Enter 1 to create pin\n",
            "    2. Enter 2 to deposit\n",
            "    3. Enter 3 to withdraw\n",
            "    4. Enter 4 to check balance\n",
            "    5. Enter 5 to exit\n",
            "    161\n",
            "Bye\n",
            "Enter your pin: 161\n",
            "Pin set successfully\n"
          ]
        }
      ]
    },
    {
      "cell_type": "code",
      "source": [
        "hdfcbank.deposit()\n"
      ],
      "metadata": {
        "colab": {
          "base_uri": "https://localhost:8080/"
        },
        "id": "pqHKTTgoUwDg",
        "outputId": "8a4e8bf8-be64-4883-a0e7-2cc3352907a9"
      },
      "execution_count": 46,
      "outputs": [
        {
          "output_type": "stream",
          "name": "stdout",
          "text": [
            "Enter your pin: 161\n",
            "Enter the amount: 17897656\n",
            "Deposit Successful\n"
          ]
        }
      ]
    },
    {
      "cell_type": "code",
      "source": [
        "hdfcbank.withdraw()\n"
      ],
      "metadata": {
        "colab": {
          "base_uri": "https://localhost:8080/"
        },
        "id": "_ziGcuq_U5hY",
        "outputId": "1385e3ab-8f7b-462a-b66d-bc1da7611f99"
      },
      "execution_count": 47,
      "outputs": [
        {
          "output_type": "stream",
          "name": "stdout",
          "text": [
            "Enter your pin: 161\n",
            "Enter the amount: 1890\n",
            "Withdraw Successful\n"
          ]
        }
      ]
    },
    {
      "cell_type": "code",
      "source": [
        "sbi=Atm()"
      ],
      "metadata": {
        "colab": {
          "base_uri": "https://localhost:8080/"
        },
        "id": "UJbSouuVVAor",
        "outputId": "3ef9b245-70d8-4589-94f6-01773fe11957"
      },
      "execution_count": 48,
      "outputs": [
        {
          "output_type": "stream",
          "name": "stdout",
          "text": [
            "\n",
            "         Hello, how would you like to proceed?\n",
            "    1. Enter 1 to create pin\n",
            "    2. Enter 2 to deposit\n",
            "    3. Enter 3 to withdraw\n",
            "    4. Enter 4 to check balance\n",
            "    5. Enter 5 to exit\n",
            "    1\n",
            "Enter your pin: 161\n",
            "Pin set successfully\n"
          ]
        }
      ]
    },
    {
      "cell_type": "code",
      "source": [
        "sbi.deposit()\n"
      ],
      "metadata": {
        "colab": {
          "base_uri": "https://localhost:8080/"
        },
        "id": "3VRUOFNXVHNl",
        "outputId": "3019bda1-1403-45f7-bd40-639d808a3774"
      },
      "execution_count": 49,
      "outputs": [
        {
          "output_type": "stream",
          "name": "stdout",
          "text": [
            "Enter your pin: 161\n",
            "Enter the amount: 10000\n",
            "Deposit Successful\n"
          ]
        }
      ]
    },
    {
      "cell_type": "code",
      "source": [
        "idfc=Atm()\n"
      ],
      "metadata": {
        "colab": {
          "base_uri": "https://localhost:8080/"
        },
        "id": "q4o4Pl1PVOCk",
        "outputId": "13c6ca83-23b4-4e48-b35f-e8691bc159ad"
      },
      "execution_count": 50,
      "outputs": [
        {
          "output_type": "stream",
          "name": "stdout",
          "text": [
            "\n",
            "         Hello, how would you like to proceed?\n",
            "    1. Enter 1 to create pin\n",
            "    2. Enter 2 to deposit\n",
            "    3. Enter 3 to withdraw\n",
            "    4. Enter 4 to check balance\n",
            "    5. Enter 5 to exit\n",
            "    1\n",
            "Enter your pin: 161\n",
            "Pin set successfully\n"
          ]
        }
      ]
    },
    {
      "cell_type": "code",
      "source": [
        "idfc.deposit()\n"
      ],
      "metadata": {
        "colab": {
          "base_uri": "https://localhost:8080/"
        },
        "id": "HrXZYy78VTj1",
        "outputId": "05c47deb-cce5-44e6-dfb6-23b25d03ddd5"
      },
      "execution_count": 51,
      "outputs": [
        {
          "output_type": "stream",
          "name": "stdout",
          "text": [
            "Enter your pin: 161\n",
            "Enter the amount: 56700\n",
            "Deposit Successful\n"
          ]
        }
      ]
    },
    {
      "cell_type": "code",
      "source": [
        "idfc.check_balance()"
      ],
      "metadata": {
        "colab": {
          "base_uri": "https://localhost:8080/"
        },
        "id": "Zc251UotZpoa",
        "outputId": "095efbf9-b90c-4e50-c96c-8707cfd6839c"
      },
      "execution_count": 52,
      "outputs": [
        {
          "output_type": "stream",
          "name": "stdout",
          "text": [
            "Enter your pin: 161\n",
            "Your balance is: 56700\n"
          ]
        }
      ]
    },
    {
      "cell_type": "code",
      "source": [
        "sbi.check_balance()"
      ],
      "metadata": {
        "colab": {
          "base_uri": "https://localhost:8080/"
        },
        "id": "aGq3pUeIZxTm",
        "outputId": "1245f127-f359-437c-a3e4-771b5982a0ae"
      },
      "execution_count": 53,
      "outputs": [
        {
          "output_type": "stream",
          "name": "stdout",
          "text": [
            "Enter your pin: 161\n",
            "Your balance is: 10000\n"
          ]
        }
      ]
    },
    {
      "cell_type": "markdown",
      "source": [
        "Assignment:-\n",
        "\n",
        "### **📌 Python Assignment: Bank Account Management System**\n",
        "#### **Objective:**  \n",
        "Students will build a **Bank Account Management System** using **Object-Oriented Programming (OOP)** in Python. The assignment is similar to the ATM program but introduces new concepts like account holders, transactions, and account types.\n",
        "\n",
        "---\n",
        "\n",
        "### **📝 Assignment Instructions:**\n",
        "#### **1. Create a Class `BankAccount` with the following:**\n",
        "- `__init__` method to initialize:\n",
        "  - `account_holder_name`\n",
        "  - `account_number`\n",
        "  - `account_type` (Savings/Current)\n",
        "  - `balance` (default should be `0`)\n",
        "- A method `menu()` to display options:\n",
        "  - 1️⃣ Create an Account\n",
        "  - 2️⃣ Deposit Money\n",
        "  - 3️⃣ Withdraw Money\n",
        "  - 4️⃣ Check Balance\n",
        "  - 5️⃣ Exit\n",
        "\n",
        "#### **2. Implement the Following Methods in the Class:**\n",
        "1️⃣ **`create_account(self)`**  \n",
        "   - Ask for `account_holder_name`, `account_number`, and `account_type` (Savings/Current).\n",
        "   - Print **\"Account Created Successfully!\"**  \n",
        "\n",
        "2️⃣ **`deposit(self)`**  \n",
        "   - Ask for the deposit amount.\n",
        "   - Add it to the `balance`.\n",
        "   - Print **\"Deposit Successful!\"**  \n",
        "\n",
        "3️⃣ **`withdraw(self)`**  \n",
        "   - Ask for the withdrawal amount.\n",
        "   - Ensure **sufficient balance** before deducting.\n",
        "   - Print **\"Withdrawal Successful!\"** or **\"Insufficient Balance!\"**  \n",
        "\n",
        "4️⃣ **`check_balance(self)`**  \n",
        "   - Display the **current account balance**.\n",
        "\n",
        "---\n",
        "\n",
        "### **🎯 Expected Output Example**\n",
        "#### **1️⃣ Creating an Account**\n",
        "```\n",
        "Enter Account Holder Name: John Doe\n",
        "Enter Account Number: 123456\n",
        "Select Account Type (Savings/Current): Savings\n",
        "Account Created Successfully!\n",
        "```\n",
        "\n",
        "#### **2️⃣ Depositing Money**\n",
        "```\n",
        "Enter Deposit Amount: 5000\n",
        "Deposit Successful!\n",
        "```\n",
        "\n",
        "#### **3️⃣ Withdrawing Money**\n",
        "```\n",
        "Enter Withdrawal Amount: 2000\n",
        "Withdrawal Successful!\n",
        "```\n",
        "\n",
        "#### **4️⃣ Checking Balance**\n",
        "```\n",
        "Current Balance: 3000\n",
        "```\n",
        "\n",
        "---\n",
        "\n",
        "### **💡 Hints**\n",
        "- Use **OOP principles** (`class`, `self`, `methods`).\n",
        "- Store **account details** inside instance variables.\n",
        "- Use **conditional statements (`if-else`)** to handle logic.\n",
        "- **Loop through menu options** until the user exits.\n",
        "\n",
        "---\n",
        "\n",
        "### **🔨 Bonus Challenge (Optional)**\n",
        "- Allow **multiple accounts** to be created.\n",
        "- Store accounts in a **list** and allow the user to **switch accounts**.\n",
        "\n",
        "---\n"
      ],
      "metadata": {
        "id": "_HDKSJW3bPSE"
      }
    }
  ]
}