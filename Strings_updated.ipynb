{
  "nbformat": 4,
  "nbformat_minor": 0,
  "metadata": {
    "colab": {
      "provenance": [],
      "authorship_tag": "ABX9TyP2YO3pfyuuqh0a1c+C+nRT",
      "include_colab_link": true
    },
    "kernelspec": {
      "name": "python3",
      "display_name": "Python 3"
    },
    "language_info": {
      "name": "python"
    }
  },
  "cells": [
    {
      "cell_type": "markdown",
      "metadata": {
        "id": "view-in-github",
        "colab_type": "text"
      },
      "source": [
        "<a href=\"https://colab.research.google.com/github/sateeshlevelup/python/blob/main/Strings_updated.ipynb\" target=\"_parent\"><img src=\"https://colab.research.google.com/assets/colab-badge.svg\" alt=\"Open In Colab\"/></a>"
      ]
    },
    {
      "cell_type": "markdown",
      "source": [
        "# Introduction to Python Strings"
      ],
      "metadata": {
        "id": "urcbSmhQDLbO"
      }
    },
    {
      "cell_type": "markdown",
      "source": [
        "Defination:-\n",
        "\n",
        "Strings in Python are sequences of characters enclosed within single quotes ('...'), double quotes (\"...\"), or triple quotes ('''...''' or \"\"\"...\"\"\"). They are immutable, meaning once created, their content cannot be changed."
      ],
      "metadata": {
        "id": "TOwJkks2DHyZ"
      }
    },
    {
      "cell_type": "code",
      "source": [
        "# Single quotes\n",
        "string1 = 'Hello, World!'\n",
        "\n",
        "# Double quotes\n",
        "string2 = \"Python is fun.\"\n",
        "\n",
        "# Triple quotes\n",
        "string3 = \"\"\"This is a\n",
        "multi-line string.\"\"\"\n"
      ],
      "metadata": {
        "id": "yTvzepd_DgrX"
      },
      "execution_count": null,
      "outputs": []
    },
    {
      "cell_type": "markdown",
      "source": [
        "# 1. capitalize()"
      ],
      "metadata": {
        "id": "b7Pe52CsDtTU"
      }
    },
    {
      "cell_type": "code",
      "source": [
        "text = \"hello world\"\n",
        "result = text.capitalize()\n",
        "print(result)  # Output: \"Hello world\""
      ],
      "metadata": {
        "id": "kclNCYkADy9u"
      },
      "execution_count": null,
      "outputs": []
    },
    {
      "cell_type": "code",
      "source": [],
      "metadata": {
        "id": "4oRJ_k_GDKzI"
      },
      "execution_count": null,
      "outputs": []
    },
    {
      "cell_type": "code",
      "execution_count": null,
      "metadata": {
        "id": "W9IDhem5C8sD"
      },
      "outputs": [],
      "source": []
    },
    {
      "cell_type": "markdown",
      "source": [
        "# 2.casefold()\n",
        "\n",
        " Returns a casefolded copy of the string, which is a more aggressive lowercasing method intended for caseless matching."
      ],
      "metadata": {
        "id": "wk2qNfiOD3zV"
      }
    },
    {
      "cell_type": "code",
      "source": [
        "text = \"Hello World\"\n",
        "result = text.casefold()\n",
        "print(result)  # Output: \"hello world\"\n"
      ],
      "metadata": {
        "id": "tyApyHtEEB0J"
      },
      "execution_count": null,
      "outputs": []
    },
    {
      "cell_type": "code",
      "source": [],
      "metadata": {
        "id": "aDAPijJZEFcl"
      },
      "execution_count": null,
      "outputs": []
    },
    {
      "cell_type": "markdown",
      "source": [
        "# 3. center(width, fillchar=' ')\n",
        "\n",
        "Returns the number of non-overlapping occurrences of substring sub in the range [start, end].\n"
      ],
      "metadata": {
        "id": "yKXSok0REGDw"
      }
    },
    {
      "cell_type": "code",
      "source": [
        "text = \"Python\"\n",
        "result = text.center(15, '!')\n",
        "print(result)  # Output: \"--Python--\"\n",
        "\n"
      ],
      "metadata": {
        "colab": {
          "base_uri": "https://localhost:8080/"
        },
        "id": "NjDCnkPKETln",
        "outputId": "9e9fbc73-03e6-46e4-f218-63c627f434df"
      },
      "execution_count": null,
      "outputs": [
        {
          "output_type": "stream",
          "name": "stdout",
          "text": [
            "!!!!!Python!!!!\n"
          ]
        }
      ]
    },
    {
      "cell_type": "markdown",
      "source": [],
      "metadata": {
        "id": "8V_KrQUTEmI4"
      }
    },
    {
      "cell_type": "markdown",
      "source": [
        "# 4. count(sub, start=0, end=len(string))\n",
        "\n",
        "Returns the number of non-overlapping occurrences of substring sub in the range [start, end]."
      ],
      "metadata": {
        "id": "Qh6b-OUHEnDN"
      }
    },
    {
      "cell_type": "code",
      "source": [
        "text = \"banana\"\n",
        "result = text.count('a')\n",
        "print(result)  # Output: 3\n"
      ],
      "metadata": {
        "id": "It31G9ZKGpbC"
      },
      "execution_count": null,
      "outputs": []
    },
    {
      "cell_type": "markdown",
      "source": [
        "# 5.encode(encoding='utf-8', errors='strict')\n",
        "\n",
        " Encodes the string using the specified encoding and returns a bytes object."
      ],
      "metadata": {
        "id": "kx-SXEZWGxGm"
      }
    },
    {
      "cell_type": "code",
      "source": [
        "text = \"Hello\"\n",
        "result = text.encode('utf-8')\n",
        "print(result)  # Output: b'Hello'\n"
      ],
      "metadata": {
        "id": "sXOy_fIuGwQ2"
      },
      "execution_count": null,
      "outputs": []
    },
    {
      "cell_type": "markdown",
      "source": [
        "# 6. endswith(suffix, start=0, end=len(string))\n",
        "\n",
        " Returns True if the string ends with the specified suffix, otherwise False."
      ],
      "metadata": {
        "id": "Y1da1-SMHAvv"
      }
    },
    {
      "cell_type": "code",
      "source": [
        "filename = \"report.pdf\"\n",
        "result = filename.endswith('.pdf')\n",
        "print(result)  # Output: True\n"
      ],
      "metadata": {
        "colab": {
          "base_uri": "https://localhost:8080/"
        },
        "id": "O7O6Gs-9HATT",
        "outputId": "77c69759-db5a-45d3-ca2e-2bd0c038ee8d"
      },
      "execution_count": null,
      "outputs": [
        {
          "output_type": "stream",
          "name": "stdout",
          "text": [
            "True\n"
          ]
        }
      ]
    },
    {
      "cell_type": "markdown",
      "source": [
        "# 7. expandtabs(tabsize=8)\n",
        "\n",
        "Replaces tab characters \\t with spaces. The number of spaces is defined by tabsize."
      ],
      "metadata": {
        "id": "skfVp9OWHNFi"
      }
    },
    {
      "cell_type": "code",
      "source": [
        "text = \"Hello\\tWorld\"\n",
        "result = text.expandtabs(4)\n",
        "print(result)  # Output: \"Hello   World\"\n"
      ],
      "metadata": {
        "colab": {
          "base_uri": "https://localhost:8080/"
        },
        "id": "yQAlRDStHSF6",
        "outputId": "c45c273a-c9af-4ffd-8517-4e7dce03328e"
      },
      "execution_count": null,
      "outputs": [
        {
          "output_type": "stream",
          "name": "stdout",
          "text": [
            "Hello   World\n"
          ]
        }
      ]
    },
    {
      "cell_type": "markdown",
      "source": [
        "# 8. find(sub, start=0, end=len(string))\n",
        "\n",
        "Returns the lowest index where substring sub is found within the specified range. Returns -1 if not found."
      ],
      "metadata": {
        "id": "mpEM4IUfLpL5"
      }
    },
    {
      "cell_type": "code",
      "source": [
        "text = \"Hello World\"\n",
        "result = text.find('World')\n",
        "print(result)  # Output: 6\n"
      ],
      "metadata": {
        "id": "wo8pX3dyLtY6"
      },
      "execution_count": null,
      "outputs": []
    },
    {
      "cell_type": "markdown",
      "source": [
        "# format(*args, **kwargs)\n",
        "Formats the string by replacing placeholders {} with specified values.\n",
        "\n",
        "In Python, format(*args, **kwargs) is a way to dynamically insert values into a string using the format() method\n",
        "\n",
        "\n",
        "*args is a special syntax in Python that allows a function to accept any number of positional arguments. These arguments are collected into a tuple.\n",
        "\n",
        "In the context of format(), *args lets you pass a variable number of values that will be inserted into the string in the order they are provided.\n",
        "\n",
        "**kwargs is another special syntax that allows a function to accept any number of keyword arguments. These arguments are collected into a dictionary.\n",
        "\n",
        "In format(), **kwargs lets you pass values with associated names (keys).  You can then use these names within the string to specify where the values should go.\n",
        "\n"
      ],
      "metadata": {
        "id": "AHAFIJeoLzCU"
      }
    },
    {
      "cell_type": "code",
      "source": [
        "name = \"Alice\"\n",
        "age = 30\n",
        "result = \"My name is {} and I am {} years old.\".format(name, age)\n",
        "print(result)  # Output: \"My name is Alice and I am 30 years old.\"\n"
      ],
      "metadata": {
        "id": "BpazcCZqL8JY"
      },
      "execution_count": null,
      "outputs": []
    },
    {
      "cell_type": "code",
      "source": [],
      "metadata": {
        "id": "-8Y2yPVCMv4d"
      },
      "execution_count": null,
      "outputs": []
    },
    {
      "cell_type": "markdown",
      "source": [
        "# 10. format_map(mapping)\n",
        "\n",
        "Similar to format(), but takes a single mapping object (like a dictionary) as argument.\n",
        "\n"
      ],
      "metadata": {
        "id": "8fb5odUcNAjm"
      }
    },
    {
      "cell_type": "code",
      "source": [
        "data = {'name': 'Bob', 'age': 25}\n",
        "result = \"Name: {name}, Age: {age}\".format_map(data)\n",
        "print(result)  # Output: \"Name: Bob, Age: 25\"\n"
      ],
      "metadata": {
        "id": "jtsMRHF_NGXK"
      },
      "execution_count": null,
      "outputs": []
    },
    {
      "cell_type": "markdown",
      "source": [
        "# 11. index(sub, start=0, end=len(string))\n",
        "\n",
        "Like find(), but raises a ValueError if the substring is not found."
      ],
      "metadata": {
        "id": "nGOGFD26NOdF"
      }
    },
    {
      "cell_type": "code",
      "source": [
        "text = \"Hello World\"\n",
        "result = text.index('World')\n",
        "print(result)  # Output: 6\n"
      ],
      "metadata": {
        "id": "33WVsQUsNjS2"
      },
      "execution_count": null,
      "outputs": []
    },
    {
      "cell_type": "markdown",
      "source": [
        "# 12. isalnum()\n",
        "\n",
        "Returns True if all characters in the string are alphanumeric (letters and numbers) and there's at least one character. Otherwise, False."
      ],
      "metadata": {
        "id": "jivjEHqVNm2p"
      }
    },
    {
      "cell_type": "code",
      "source": [
        "text = \"Python3\"\n",
        "result = text.isalnum()\n",
        "print(result)  # Output: True\n"
      ],
      "metadata": {
        "id": "oZVWqyEDNrru"
      },
      "execution_count": null,
      "outputs": []
    },
    {
      "cell_type": "markdown",
      "source": [
        "# 13. isalpha()\n",
        " Returns True if all characters in the string are alphabetic and there's at least one character. Otherwise, False."
      ],
      "metadata": {
        "id": "-9xFJyTWNu-_"
      }
    },
    {
      "cell_type": "code",
      "source": [
        "text = \"Pyth on\"\n",
        "result = text.isalpha()\n",
        "print(result)  # Output: True\n"
      ],
      "metadata": {
        "id": "AFO5Vs_BNxlh",
        "outputId": "bd1bbdc0-05d1-47cb-ad0a-f8db5d72e3de",
        "colab": {
          "base_uri": "https://localhost:8080/"
        }
      },
      "execution_count": null,
      "outputs": [
        {
          "output_type": "stream",
          "name": "stdout",
          "text": [
            "False\n"
          ]
        }
      ]
    },
    {
      "cell_type": "code",
      "source": [],
      "metadata": {
        "id": "Ik5L8xpXN0Tk"
      },
      "execution_count": null,
      "outputs": []
    },
    {
      "cell_type": "code",
      "source": [],
      "metadata": {
        "id": "gZst65vQN4mD"
      },
      "execution_count": null,
      "outputs": []
    },
    {
      "cell_type": "markdown",
      "source": [
        "# 14. isdecimal()\n",
        " Returns True if all characters in the string are decimal characters and there's at least one character. Otherwise, False."
      ],
      "metadata": {
        "id": "XyITG7ljN6Dm"
      }
    },
    {
      "cell_type": "code",
      "source": [
        "text = \"1234\"\n",
        "result = text.isdecimal()\n",
        "print(result)  # Output: True\n"
      ],
      "metadata": {
        "id": "aQy3qwpJN933"
      },
      "execution_count": null,
      "outputs": []
    },
    {
      "cell_type": "markdown",
      "source": [
        "# 15. isdigit()\n",
        "\n",
        "Returns True if all characters in the string are digits and there's at least one character. Otherwise, False."
      ],
      "metadata": {
        "id": "OzZwE0k9OAsB"
      }
    },
    {
      "cell_type": "code",
      "source": [
        "text = \"1234\"\n",
        "result = text.isdigit()\n",
        "print(result)  # Output: True\n"
      ],
      "metadata": {
        "id": "V51WNgrYOE-m"
      },
      "execution_count": null,
      "outputs": []
    },
    {
      "cell_type": "markdown",
      "source": [
        "# 16. isidentifier()\n",
        "\n",
        " Returns True if the string is a valid Python identifier, i.e., it follows the rules for variable names. Otherwise, False."
      ],
      "metadata": {
        "id": "UPYNqObIOHNp"
      }
    },
    {
      "cell_type": "code",
      "source": [
        "text = \"var_name1\"\n",
        "result = text.isidentifier()\n",
        "print(result)  # Output: True\n"
      ],
      "metadata": {
        "id": "MkZt_KbKOG8A"
      },
      "execution_count": null,
      "outputs": []
    },
    {
      "cell_type": "markdown",
      "source": [
        "# 17. islower()\n",
        "\n",
        " Returns True if all cased characters in the string are lowercase and there's at least one cased character. Otherwise, False."
      ],
      "metadata": {
        "id": "B505aI6JON06"
      }
    },
    {
      "cell_type": "code",
      "source": [
        "text = \"python\"\n",
        "result = text.islower()\n",
        "print(result)  # Output: True\n"
      ],
      "metadata": {
        "id": "NWirM3DoOarn"
      },
      "execution_count": null,
      "outputs": []
    },
    {
      "cell_type": "markdown",
      "source": [
        "# 18. isnumeric()\n",
        "\n",
        "Returns True if all characters in the string are numeric characters and there's at least one character. Otherwise, False."
      ],
      "metadata": {
        "id": "1K3QcTv1OdlN"
      }
    },
    {
      "cell_type": "code",
      "source": [
        "text = \"12345\"\n",
        "result = text.isnumeric()\n",
        "print(result)  # Output: True\n"
      ],
      "metadata": {
        "id": "cgIpkjdTOhU0"
      },
      "execution_count": null,
      "outputs": []
    },
    {
      "cell_type": "markdown",
      "source": [
        "# 19. isprintable()\n",
        "\n",
        "Returns True if all characters in the string are printable or the string is empty. Otherwise, False."
      ],
      "metadata": {
        "id": "v2WK0TMROmCz"
      }
    },
    {
      "cell_type": "code",
      "source": [
        "text = \"Hello\\nWorld\"\n",
        "result = text.isprintable()\n",
        "print(result)  # Output: False\n"
      ],
      "metadata": {
        "id": "gjzKJDULOqYR"
      },
      "execution_count": null,
      "outputs": []
    },
    {
      "cell_type": "markdown",
      "source": [
        "# 20. isspace()\n",
        "\n",
        " Returns True if all characters in the string are whitespace characters and there's at least one character. Otherwise, False."
      ],
      "metadata": {
        "id": "GqZH43lHOs6O"
      }
    },
    {
      "cell_type": "code",
      "source": [
        "text = \"   \\t\\n\"\n",
        "result = text.isspace()\n",
        "print(result)  # Output: True\n"
      ],
      "metadata": {
        "id": "A_HUlENXOxOs"
      },
      "execution_count": null,
      "outputs": []
    },
    {
      "cell_type": "markdown",
      "source": [
        "# 21. istitle()\n",
        "\n",
        "Returns True if the string follows title case, i.e., every word starts with an uppercase letter followed by lowercase letters. Otherwise, False."
      ],
      "metadata": {
        "id": "Na7QgW4WO49z"
      }
    },
    {
      "cell_type": "code",
      "source": [
        "text = \"Hello World\"\n",
        "result = text.istitle()\n",
        "print(result)  # Output: True\n"
      ],
      "metadata": {
        "id": "LbxXLkIGO9Gd"
      },
      "execution_count": null,
      "outputs": []
    },
    {
      "cell_type": "markdown",
      "source": [
        "# 22. isupper()\n",
        " Returns True if all cased characters in the string are uppercase and there's at least one cased character. Otherwise, False."
      ],
      "metadata": {
        "id": "_ut1waibO_s3"
      }
    },
    {
      "cell_type": "code",
      "source": [
        "text = \"PYTHON\"\n",
        "result = text.isupper()\n",
        "print(result)  # Output: True\n"
      ],
      "metadata": {
        "id": "oTnKUfQ_PFwB"
      },
      "execution_count": null,
      "outputs": []
    },
    {
      "cell_type": "markdown",
      "source": [
        "# 23. join(iterable)\n",
        "\n",
        "Concatenates the elements of an iterable (e.g., list, tuple) into a single string, separated by the string it's called on."
      ],
      "metadata": {
        "id": "XzHekQdoPKAd"
      }
    },
    {
      "cell_type": "code",
      "source": [
        "words = ['Hello', 'World']\n",
        "result = ' '.join(words)\n",
        "print(result)  # Output: \"Hello World\"\n"
      ],
      "metadata": {
        "id": "2lBCUmfFPJT-"
      },
      "execution_count": null,
      "outputs": []
    },
    {
      "cell_type": "markdown",
      "source": [
        "# 24. ljust(width, fillchar=' ')\n",
        "\n",
        " Returns a left-justified string of length width. Padding is done using the specified fillchar (default is space)."
      ],
      "metadata": {
        "id": "5bHdfYxdPXwF"
      }
    },
    {
      "cell_type": "code",
      "source": [
        "text = \"Python\"\n",
        "result = text.ljust(10, '-')\n",
        "print(result)  # Output: \"Python----\"\n"
      ],
      "metadata": {
        "id": "W4J7MMMBQjUA"
      },
      "execution_count": null,
      "outputs": []
    },
    {
      "cell_type": "markdown",
      "source": [
        "25. lower()\n",
        "Returns a copy of the string converted to lowercase."
      ],
      "metadata": {
        "id": "mIvJyedkQlfD"
      }
    },
    {
      "cell_type": "code",
      "source": [
        "text = \"Hello World\"\n",
        "result = text.lower()\n",
        "print(result)  # Output: \"hello world\"\n"
      ],
      "metadata": {
        "id": "WZLaAScGQpMp"
      },
      "execution_count": null,
      "outputs": []
    },
    {
      "cell_type": "markdown",
      "source": [
        "26. lstrip(chars=None)\n",
        "\n",
        "Returns a copy of the string with leading characters removed. If chars is not specified, it removes leading whitespace."
      ],
      "metadata": {
        "id": "gDv1T6Z8Qq_X"
      }
    },
    {
      "cell_type": "code",
      "source": [
        "text = \"   Hello World   \"\n",
        "result = text.lstrip()\n",
        "print(result)  # Output: \"Hello World   \"\n"
      ],
      "metadata": {
        "id": "45WPSFN4QuAZ"
      },
      "execution_count": null,
      "outputs": []
    },
    {
      "cell_type": "markdown",
      "source": [
        "# 28. partition(sep)\n",
        "\n",
        "Splits the string at the first occurrence of sep and returns a tuple containing the part before the separator, the separator itself, and the part after."
      ],
      "metadata": {
        "id": "9iPxg09eQ7xV"
      }
    },
    {
      "cell_type": "code",
      "source": [
        "text = \"Python is fun\"\n",
        "result = text.partition('is')\n",
        "print(result)  # Output: ('Python ', 'is', ' fun')\n"
      ],
      "metadata": {
        "id": "IcYKntdgRBqM"
      },
      "execution_count": null,
      "outputs": []
    },
    {
      "cell_type": "markdown",
      "source": [
        "# 29. replace(old, new, count=-1)\n",
        "\n",
        " Returns a copy of the string with all occurrences of substring old replaced by new. If count is specified, only the first count occurrences are replaced."
      ],
      "metadata": {
        "id": "bjGCSXNbRCnB"
      }
    },
    {
      "cell_type": "code",
      "source": [
        "text = \"banana\"\n",
        "result = text.replace('a', 'o')\n",
        "print(result)  # Output: \"bonono\"\n"
      ],
      "metadata": {
        "id": "2yKAL2FiRIX8"
      },
      "execution_count": null,
      "outputs": []
    },
    {
      "cell_type": "markdown",
      "source": [
        "# 30. rfind(sub, start=0, end=len(string))\n",
        "\n",
        " Returns the highest index where substring sub is found within the specified range. Returns -1 if not found."
      ],
      "metadata": {
        "id": "e5nZT5nSRKBq"
      }
    },
    {
      "cell_type": "code",
      "source": [
        "text = \"Hello Hello\"\n",
        "result = text.rfind('Hello')\n",
        "print(result)  # Output: 6\n"
      ],
      "metadata": {
        "id": "G7MYO2yNRNgh"
      },
      "execution_count": null,
      "outputs": []
    },
    {
      "cell_type": "markdown",
      "source": [
        "# 31. rindex(sub, start=0, end=len(string))\n",
        "\n",
        "Like rfind(), but raises a ValueError if the substring is not found."
      ],
      "metadata": {
        "id": "rj40o5blRQT_"
      }
    },
    {
      "cell_type": "code",
      "source": [
        "text = \"Hello Hello\"\n",
        "result = text.rindex('Hello')\n",
        "print(result)  # Output: 6\n"
      ],
      "metadata": {
        "id": "hIWA028gRV3M"
      },
      "execution_count": null,
      "outputs": []
    },
    {
      "cell_type": "markdown",
      "source": [
        "# 32. rjust(width, fillchar=' ')\n",
        "\n",
        "Returns a right-justified string of length width. Padding is done using the specified fillchar (default is space)."
      ],
      "metadata": {
        "id": "0pYvxPCzRX6n"
      }
    },
    {
      "cell_type": "code",
      "source": [
        "text = \"Python\"\n",
        "result = text.rjust(10, '-')\n",
        "print(result)  # Output: \"----Python\"\n"
      ],
      "metadata": {
        "id": "YD2W1DqPRbtS"
      },
      "execution_count": null,
      "outputs": []
    },
    {
      "cell_type": "markdown",
      "source": [
        "# 33. rpartition(sep)\n",
        "\n",
        "Splits the string at the last occurrence of sep and returns a tuple containing the part before the separator, the separator itself, and the part after."
      ],
      "metadata": {
        "id": "7VRAhQkUReOu"
      }
    },
    {
      "cell_type": "code",
      "source": [
        "text = \"Python is fun and Python is powerful\"\n",
        "result = text.rpartition('Python')\n",
        "print(result)  # Output: ('Python is fun and ', 'Python', ' is powerful')\n"
      ],
      "metadata": {
        "id": "nXlmwvYaRhwu"
      },
      "execution_count": null,
      "outputs": []
    },
    {
      "cell_type": "markdown",
      "source": [
        "# 34. rsplit(sep=None, maxsplit=-1)\n",
        "\n",
        "Splits the string from the right at each occurrence of sep, returning a list of substrings. If maxsplit is specified, splits at most maxsplit times."
      ],
      "metadata": {
        "id": "wHTCwX_JRqjH"
      }
    },
    {
      "cell_type": "code",
      "source": [
        "text = \"one,two,three,four\"\n",
        "result = text.rsplit(',', 2)\n",
        "print(result)  # Output: ['one,two', 'three', 'four']\n"
      ],
      "metadata": {
        "id": "ym3R_v1WRvcA"
      },
      "execution_count": null,
      "outputs": []
    },
    {
      "cell_type": "markdown",
      "source": [
        "# 35. rstrip(chars=None)\n",
        "Returns a copy of the string with trailing characters removed. If chars is not specified, it removes trailing whitespace."
      ],
      "metadata": {
        "id": "LWYt58egRxgT"
      }
    },
    {
      "cell_type": "code",
      "source": [
        "text = \"   Hello World   \"\n",
        "result = text.rstrip()\n",
        "print(result)  # Output: \"   Hello World\"\n"
      ],
      "metadata": {
        "id": "f1MBnPcPR1mA"
      },
      "execution_count": null,
      "outputs": []
    },
    {
      "cell_type": "markdown",
      "source": [
        "# 36. split(sep=None, maxsplit=-1)\n",
        "\n",
        " Splits the string at each occurrence of sep and returns a list of substrings. If maxsplit is specified, splits at most maxsplit times."
      ],
      "metadata": {
        "id": "ObdgYGftR6U8"
      }
    },
    {
      "cell_type": "code",
      "source": [
        "text = \"one,two,three,four\"\n",
        "result = text.split(',', 2)\n",
        "print(result)  # Output: ['one', 'two', 'three,four']\n"
      ],
      "metadata": {
        "id": "SdsMZXaeR_Ay"
      },
      "execution_count": null,
      "outputs": []
    },
    {
      "cell_type": "markdown",
      "source": [
        "# 37. splitlines(keepends=False)\n",
        "\n",
        "Splits the string at line breaks and returns a list of lines. If keepends is True, line break characters are included."
      ],
      "metadata": {
        "id": "Q7qrrj6zSCnl"
      }
    },
    {
      "cell_type": "code",
      "source": [
        "text = \"Hello\\nWorld\\nPython\"\n",
        "result = text.splitlines()\n",
        "print(result)  # Output: ['Hello', 'World', 'Python']\n"
      ],
      "metadata": {
        "id": "c63RLhpySGFQ"
      },
      "execution_count": null,
      "outputs": []
    },
    {
      "cell_type": "markdown",
      "source": [
        "# 38. startswith(prefix, start=0, end=len(string))\n",
        " Returns True if the string starts with the specified prefix, otherwise False."
      ],
      "metadata": {
        "id": "hoTJH-04SIbE"
      }
    },
    {
      "cell_type": "code",
      "source": [
        "text = \"Python is awesome\"\n",
        "result = text.startswith(\"Py\")\n",
        "print(result)  # Output: True\n"
      ],
      "metadata": {
        "id": "jctwyrFoSP20"
      },
      "execution_count": null,
      "outputs": []
    },
    {
      "cell_type": "markdown",
      "source": [
        "# 39. strip(chars=None)\n",
        "\n",
        "Returns a copy of the string with both leading and trailing characters removed. If chars is not specified, it removes leading and trailing whitespace."
      ],
      "metadata": {
        "id": "q6GbuJoXSSSk"
      }
    },
    {
      "cell_type": "code",
      "source": [
        "text = \"   Hello World   \"\n",
        "result = text.strip()\n",
        "print(result)  # Output: \"Hello World\"\n"
      ],
      "metadata": {
        "id": "51j4RjvvSbH4"
      },
      "execution_count": null,
      "outputs": []
    },
    {
      "cell_type": "markdown",
      "source": [
        "# 40. swapcase()\n",
        "\n",
        " Returns a copy of the string with uppercase characters converted to lowercase and vice versa."
      ],
      "metadata": {
        "id": "2fz-phzVSc8K"
      }
    },
    {
      "cell_type": "code",
      "source": [
        "text = \"Hello World\"\n",
        "result = text.swapcase()\n",
        "print(result)  # Output: \"hELLO wORLD\"\n"
      ],
      "metadata": {
        "id": "l8n8jmWbShE8"
      },
      "execution_count": null,
      "outputs": []
    },
    {
      "cell_type": "markdown",
      "source": [
        "# 41. title()\n",
        "\n",
        "Returns a titlecased version of the string where each word starts with an uppercase letter and the remaining characters are lowercase.\n",
        "\n",
        "Example:"
      ],
      "metadata": {
        "id": "F8p_eA63SsfS"
      }
    },
    {
      "cell_type": "code",
      "source": [
        "text = \"hello world\"\n",
        "result = text.title()\n",
        "print(result)  # Output: \"Hello World\"\n",
        "\n"
      ],
      "metadata": {
        "id": "HnUzL9w-Sz1N"
      },
      "execution_count": null,
      "outputs": []
    },
    {
      "cell_type": "markdown",
      "source": [
        "# 42. translate(table)\n",
        "\n",
        "Returns a copy of the string where each character has been mapped through the given translation table."
      ],
      "metadata": {
        "id": "iXIdkrkaS3-k"
      }
    },
    {
      "cell_type": "code",
      "source": [
        "intab = \"aeiou\"\n",
        "outtab = \"12345\"\n",
        "trantab = str.maketrans(intab, outtab)\n",
        "text = \"hello\"\n",
        "result = text.translate(trantab)\n",
        "print(result)  # Output: \"h2ll4\"\n"
      ],
      "metadata": {
        "id": "-uzarGYgTIBr"
      },
      "execution_count": null,
      "outputs": []
    },
    {
      "cell_type": "markdown",
      "source": [
        "# 43. upper()\n",
        "\n",
        "Returns a copy of the string converted to uppercase."
      ],
      "metadata": {
        "id": "a4AaCx4LTKm8"
      }
    },
    {
      "cell_type": "code",
      "source": [
        "text = \"hello world\"\n",
        "result = text.upper()\n",
        "print(result)  # Output: \"HELLO WORLD\"\n"
      ],
      "metadata": {
        "id": "GtZTnzeTTQrQ"
      },
      "execution_count": null,
      "outputs": []
    },
    {
      "cell_type": "markdown",
      "source": [
        "# 44. zfill(width)\n",
        "\n",
        " Returns a copy of the string left-filled with '0' digits to make a string of length width. If the original string is longer, it is returned unchanged."
      ],
      "metadata": {
        "id": "Hfy3P-8WT4hf"
      }
    },
    {
      "cell_type": "code",
      "source": [
        "text = \"42\"\n",
        "result = text.zfill(5)\n",
        "print(result)  # Output: \"00042\"\n"
      ],
      "metadata": {
        "id": "mwIceEZMT80z"
      },
      "execution_count": null,
      "outputs": []
    },
    {
      "cell_type": "markdown",
      "source": [],
      "metadata": {
        "id": "x8c01Xq6UHGz"
      }
    },
    {
      "cell_type": "markdown",
      "source": [
        "# Differences"
      ],
      "metadata": {
        "id": "US2BiWUPUHcX"
      }
    },
    {
      "cell_type": "markdown",
      "source": [
        "\n",
        "\n",
        "```\n",
        "lower() vs casefold()\n",
        "lower(): Converts all cased characters to lowercase. It is suitable for general lowercase conversion.\n",
        "\n",
        "python\n",
        "Copy code\n",
        "text = \"Straße\"\n",
        "print(text.lower())  # Output: \"straße\"\n",
        "casefold(): More aggressive than lower(). It is designed for caseless matching and can handle more complex cases like German sharp S (ß).\n",
        "\n",
        "python\n",
        "Copy code\n",
        "text = \"Straße\"\n",
        "print(text.casefold())  # Output: \"strasse\"\n",
        "```\n",
        "\n"
      ],
      "metadata": {
        "id": "ANt5nbtuUJs9"
      }
    },
    {
      "cell_type": "markdown",
      "source": [
        "\n",
        "\n",
        "```\n",
        "find() vs index()\n",
        "find(): Returns the lowest index of the substring if found. Returns -1 if not found.\n",
        "\n",
        "python\n",
        "Copy code\n",
        "text = \"hello\"\n",
        "print(text.find('e'))  # Output: 1\n",
        "print(text.find('x'))  # Output: -1\n",
        "index(): Similar to find(), but raises a ValueError if the substring is not found.\n",
        "\n",
        "python\n",
        "Copy code\n",
        "text = \"hello\"\n",
        "print(text.index('e'))  # Output: 1\n",
        "print(text.index('x'))  # Raises ValueError\n",
        "When to Use: Use find() when you want to handle cases where the substring might not be present without exceptions. Use index() when the presence of the substring is guaranteed or should raise an error otherwise.\n",
        "```\n",
        "\n"
      ],
      "metadata": {
        "id": "Kg3DmxUjUimU"
      }
    },
    {
      "cell_type": "markdown",
      "source": [
        "\n",
        "\n",
        "```\n",
        "strip(), lstrip(), and rstrip()\n",
        "strip(): Removes both leading and trailing characters (whitespace by default).\n",
        "\n",
        "python\n",
        "Copy code\n",
        "text = \"  hello  \"\n",
        "print(text.strip())  # Output: \"hello\"\n",
        "lstrip(): Removes leading characters.\n",
        "\n",
        "python\n",
        "Copy code\n",
        "text = \"  hello  \"\n",
        "print(text.lstrip())  # Output: \"hello  \"\n",
        "rstrip(): Removes trailing characters.\n",
        "\n",
        "python\n",
        "Copy code\n",
        "text = \"  hello  \"\n",
        "print(text.rstrip())  # Output: \"  hello\"\n",
        "When to Use: Use strip() when you need to remove unwanted characters from both ends. Use lstrip() or rstrip() when you only need to remove from one end.\n",
        "```\n",
        "\n"
      ],
      "metadata": {
        "id": "jYiuMnZvUpCw"
      }
    },
    {
      "cell_type": "markdown",
      "source": [
        "\n",
        "\n",
        "```\n",
        "split() vs rsplit()\n",
        "split(): Splits the string from the left (beginning).\n",
        "\n",
        "python\n",
        "Copy code\n",
        "text = \"one,two,three,four\"\n",
        "print(text.split(',', 2))  # Output: ['one', 'two', 'three,four']\n",
        "rsplit(): Splits the string from the right (end).\n",
        "\n",
        "python\n",
        "Copy code\n",
        "text = \"one,two,three,four\"\n",
        "print(text.rsplit(',', 2))  # Output: ['one,two', 'three', 'four']\n",
        "\n",
        "When to Use: Use split() when you want to split from the beginning, and rsplit() when you need to split from the end. This is particularly useful when dealing with strings where delimiters may appear multiple times.\n",
        "```\n",
        "\n"
      ],
      "metadata": {
        "id": "J_ZjCmhkUuzC"
      }
    },
    {
      "cell_type": "markdown",
      "source": [
        "\n",
        "\n",
        "```\n",
        "isalnum() vs isalpha() vs isdigit() vs isnumeric() vs isdecimal()\n",
        "isalnum(): Checks if all characters are alphanumeric (letters and numbers).\n",
        "\n",
        "isalpha(): Checks if all characters are alphabetic.\n",
        "\n",
        "isdigit(): Checks if all characters are digits (0-9).\n",
        "\n",
        "isnumeric(): Checks if all characters are numeric characters (includes digits, fractions, superscripts, etc.).\n",
        "\n",
        "isdecimal(): Checks if all characters are decimal characters (subset of isdigit()).\n",
        "\n",
        "Example:\n",
        "\n",
        "python\n",
        "Copy code\n",
        "text = \"123\"\n",
        "print(text.isalnum())   # True\n",
        "print(text.isalpha())   # False\n",
        "print(text.isdigit())   # True\n",
        "print(text.isnumeric()) # True\n",
        "print(text.isdecimal()) # True\n",
        "When to Use: Choose the method that best fits the validation criteria for your application. For example, use isalpha() for names, isdigit() for simple numerical strings, and isnumeric() for more complex numerical representations.\n",
        "\n",
        "\n",
        "```\n",
        "\n"
      ],
      "metadata": {
        "id": "QPBYODqAU3EL"
      }
    },
    {
      "cell_type": "markdown",
      "source": [
        "# Slicing\n",
        "\n",
        "String slicing in Python allows you to extract a portion of a string\n",
        "\n",
        "start: The index where the slice starts (inclusive)\n",
        "\n",
        "end: The index where the slice ends (exclusive)\n",
        "\n",
        "step: The increment between each character in the slice\n",
        "\n",
        "If omitted:\n",
        "\n",
        "start defaults to the beginning of the string\n",
        "\n",
        "end defaults to the end of the string\n"
      ],
      "metadata": {
        "id": "4XxNh7cz11sF"
      }
    },
    {
      "cell_type": "code",
      "source": [
        "# Given the string:\n",
        "text = \"Python is awesome!\"\n",
        "\n",
        "# Task: Extract different parts of the string\n",
        "print(text[0:6])   # Should print \"Python\"\n",
        "print(text[7:9])   # Should print \"is\"\n",
        "print(text[10:])   # Should print \"awesome!\""
      ],
      "metadata": {
        "id": "Gw3Vz7vL2cDo"
      },
      "execution_count": null,
      "outputs": []
    },
    {
      "cell_type": "code",
      "source": [
        "# Given the string:\n",
        "numbers = \"0123456789\"\n",
        "\n",
        "# Task: Extract even and odd numbers\n",
        "print(numbers[::2])   # Should print \"02468\"\n",
        "print(numbers[1::2])  # Should print \"13579\""
      ],
      "metadata": {
        "id": "nSIqUads2fTc"
      },
      "execution_count": null,
      "outputs": []
    },
    {
      "cell_type": "code",
      "source": [
        "# Given the string:\n",
        "word = \"racecar\"\n",
        "\n",
        "# Task: Reverse the string using slicing\n",
        "print(word[::-1])  # Should print \"racecar\""
      ],
      "metadata": {
        "id": "yH2tkdcn2hBd"
      },
      "execution_count": null,
      "outputs": []
    },
    {
      "cell_type": "code",
      "source": [
        "text = \"Python Slicing\"\n",
        "start = 0\n",
        "stop = 6\n",
        "substring = text[start:stop]\n",
        "print(substring)  # Output: \"Python\"\n"
      ],
      "metadata": {
        "id": "Apyub0kv2jrx"
      },
      "execution_count": null,
      "outputs": []
    },
    {
      "cell_type": "code",
      "source": [
        "text = \"Hello, World!\"\n",
        "# Replace \"World\" with \"Python\"\n",
        "new_text = text[:7] + \"Python\" + text[12:]\n",
        "print(new_text)  # Output: \"Hello, Python!\"\n"
      ],
      "metadata": {
        "id": "YSqR7wlGU2Zz"
      },
      "execution_count": null,
      "outputs": []
    },
    {
      "cell_type": "code",
      "source": [
        "text = \"a1b2c3d4e5\"\n",
        "# Extract letters\n",
        "letters = text[::2]\n",
        "print(letters)  # Output: \"abcde\"\n",
        "\n",
        "# Extract numbers\n",
        "numbers = text[1::2]\n",
        "print(numbers)  # Output: \"12345\"\n"
      ],
      "metadata": {
        "id": "-iL-umR53Ns4"
      },
      "execution_count": null,
      "outputs": []
    },
    {
      "cell_type": "code",
      "source": [
        "text = \"Hello, World!\"\n",
        "# First slice: \"Hello, World!\"\n",
        "slice1 = text[7:12]  # \"World\"\n",
        "# Second slice: \"orl\"\n",
        "slice2 = slice1[1:4]\n",
        "print(slice2)  # Output: \"orl\"\n"
      ],
      "metadata": {
        "id": "Nh1RZ6vT3VIH"
      },
      "execution_count": null,
      "outputs": []
    },
    {
      "cell_type": "code",
      "source": [
        " H   e   l   l   o   ,       W   o   r   l   d   !\n",
        " 0   1   2   3   4   5   6   7   8   9  10  11  12\n"
      ],
      "metadata": {
        "id": "HKa3D64-3cWM"
      },
      "execution_count": null,
      "outputs": []
    },
    {
      "cell_type": "markdown",
      "source": [
        "\n",
        "\n",
        "### **The Code in Question**\n",
        "\n",
        "```python\n",
        "text = \"a1b2c3d4e5\"\n",
        "# Extract letters\n",
        "letters = text[::2]\n",
        "print(letters)  # Output: \"abcde\"\n",
        "\n",
        "# Extract numbers\n",
        "numbers = text[1::2]\n",
        "print(numbers)  # Output: \"12345\"\n",
        "```\n",
        "\n",
        "### **Overview**\n",
        "\n",
        "In this code:\n",
        "\n",
        "1. **Original String:** `\"a1b2c3d4e5\"`\n",
        "2. **Objective:**\n",
        "   - Extract all **letters** (`'a'`, `'b'`, `'c'`, `'d'`, `'e'`).\n",
        "   - Extract all **numbers** (`'1'`, `'2'`, `'3'`, `'4'`, `'5'`).\n",
        "\n",
        "### **Understanding String Slicing**\n",
        "\n",
        "**String slicing** in Python allows you to extract a portion of a string by specifying a range of indices. The general syntax for slicing is:\n",
        "\n",
        "```python\n",
        "substring = string[start:stop:step]\n",
        "```\n",
        "\n",
        "- **`start`**: The index where the slice starts (inclusive).\n",
        "- **`stop`**: The index where the slice ends (exclusive).\n",
        "- **`step`**: The interval between each index (optional; defaults to `1` if omitted).\n",
        "\n",
        "If any of these parameters are omitted, Python uses default values:\n",
        "\n",
        "- **`start`** defaults to `0` (the beginning of the string).\n",
        "- **`stop`** defaults to the length of the string (the end).\n",
        "- **`step`** defaults to `1`.\n",
        "\n",
        "### **Detailed Breakdown of the Code**\n",
        "\n",
        "Let's break down each part of the code to understand how it works.\n",
        "\n",
        "#### **1. The Original String**\n",
        "\n",
        "```python\n",
        "text = \"a1b2c3d4e5\"\n",
        "```\n",
        "\n",
        "**String Content:**\n",
        "\n",
        "```\n",
        "Index:  0 1 2 3 4 5 6 7 8 9\n",
        "Char:   a 1 b 2 c 3 d 4 e 5\n",
        "```\n",
        "\n",
        "- **Indices:** In Python, string indices start at `0`. So, `'a'` is at index `0`, `'1'` at index `1`, `'b'` at index `2`, and so on.\n",
        "\n",
        "#### **2. Extracting Letters: `text[::2]`**\n",
        "\n",
        "```python\n",
        "letters = text[::2]\n",
        "print(letters)  # Output: \"abcde\"\n",
        "```\n",
        "\n",
        "**Slicing Syntax Used:** `text[::2]`\n",
        "\n",
        "- **`start`**: Omitted, defaults to `0`.\n",
        "- **`stop`**: Omitted, defaults to the end of the string.\n",
        "- **`step`**: `2`.\n",
        "\n",
        "**What It Does:**\n",
        "\n",
        "- **Starts at index `0`** (`'a'`).\n",
        "- **Ends at the end of the string**.\n",
        "- **Selects every `2nd` character** (i.e., steps by `2`).\n",
        "\n",
        "**Step-by-Step Extraction:**\n",
        "\n",
        "1. **Index 0:** `'a'` → Included\n",
        "2. **Index 2:** `'b'` → Included\n",
        "3. **Index 4:** `'c'` → Included\n",
        "4. **Index 6:** `'d'` → Included\n",
        "5. **Index 8:** `'e'` → Included\n",
        "\n",
        "**Resulting Substring:** `\"abcde\"`\n",
        "\n",
        "**Visualization:**\n",
        "\n",
        "```\n",
        "Indices: 0 1 2 3 4 5 6 7 8 9\n",
        "Chars:   a 1 b 2 c 3 d 4 e 5\n",
        "Selected: a   b   c   d   e\n",
        "```\n",
        "\n",
        "#### **3. Extracting Numbers: `text[1::2]`**\n",
        "\n",
        "```python\n",
        "numbers = text[1::2]\n",
        "print(numbers)  # Output: \"12345\"\n",
        "```\n",
        "\n",
        "**Slicing Syntax Used:** `text[1::2]`\n",
        "\n",
        "- **`start`**: `1`.\n",
        "- **`stop`**: Omitted, defaults to the end of the string.\n",
        "- **`step`**: `2`.\n",
        "\n",
        "**What It Does:**\n",
        "\n",
        "- **Starts at index `1`** (`'1'`).\n",
        "- **Ends at the end of the string**.\n",
        "- **Selects every `2nd` character** (i.e., steps by `2`).\n",
        "\n",
        "**Step-by-Step Extraction:**\n",
        "\n",
        "1. **Index 1:** `'1'` → Included\n",
        "2. **Index 3:** `'2'` → Included\n",
        "3. **Index 5:** `'3'` → Included\n",
        "4. **Index 7:** `'4'` → Included\n",
        "5. **Index 9:** `'5'` → Included\n",
        "\n",
        "**Resulting Substring:** `\"12345\"`\n",
        "\n",
        "**Visualization:**\n",
        "\n",
        "```\n",
        "Indices: 0 1 2 3 4 5 6 7 8 9\n",
        "Chars:   a 1 b 2 c 3 d 4 e 5\n",
        "Selected:   1   2   3   4   5\n",
        "```\n",
        "\n",
        "### **Key Points to Remember**\n",
        "\n",
        "1. **Slicing Parameters:**\n",
        "   - **`start`**: Where the slice starts. If omitted, defaults to the beginning.\n",
        "   - **`stop`**: Where the slice ends. If omitted, defaults to the end.\n",
        "   - **`step`**: How many steps to move forward each time. If omitted, defaults to `1`.\n",
        "\n",
        "2. **Negative Indices and Steps:**\n",
        "   - **Negative Indices:** Allow you to start counting from the end of the string.\n",
        "   - **Negative Steps:** Allow you to slice the string in reverse.\n",
        "   \n",
        "   **Example:**\n",
        "   \n",
        "   ```python\n",
        "   text = \"abcdefg\"\n",
        "   \n",
        "   # Using negative indices\n",
        "   print(text[-4:-1])  # Output: \"def\"\n",
        "   \n",
        "   # Reversing the string\n",
        "   print(text[::-1])    # Output: \"gfedcba\"\n",
        "   ```\n",
        "\n",
        "3. **Immutability of Strings:**\n",
        "   - Strings in Python are **immutable**, meaning you cannot change them in place. However, slicing allows you to create new strings based on parts of the original.\n",
        "\n",
        "4. **Slicing Beyond the String Length:**\n",
        "   - If the `stop` index exceeds the string's length, Python slices up to the end without raising an error.\n",
        "   \n",
        "   **Example:**\n",
        "   \n",
        "   ```python\n",
        "   text = \"hello\"\n",
        "   print(text[2:10])  # Output: \"llo\"\n",
        "   ```\n",
        "\n",
        "### **Practical Applications**\n",
        "\n",
        "1. **Extracting Substrings:**\n",
        "   - Retrieve specific parts of a string for further processing.\n",
        "   \n",
        "   ```python\n",
        "   email = \"user@example.com\"\n",
        "   username = email[:email.find('@')]\n",
        "   domain = email[email.find('@') + 1:]\n",
        "   print(username)  # Output: \"user\"\n",
        "   print(domain)    # Output: \"example.com\"\n",
        "   ```\n",
        "\n",
        "2. **Data Parsing:**\n",
        "   - Separate data from structured strings, such as CSV lines.\n",
        "   \n",
        "   ```python\n",
        "   csv_line = \"John,Doe,30,Engineer\"\n",
        "   name = csv_line[:csv_line.find(',')]\n",
        "   print(name)  # Output: \"John\"\n",
        "   ```\n",
        "\n",
        "3. **Reversing Strings:**\n",
        "   - Easily reverse a string without using loops.\n",
        "   \n",
        "   ```python\n",
        "   word = \"Python\"\n",
        "   reversed_word = word[::-1]\n",
        "   print(reversed_word)  # Output: \"nohtyP\"\n",
        "   ```\n",
        "\n",
        "4. **Skipping Characters:**\n",
        "   - Extract patterns or specific intervals from strings.\n",
        "   \n",
        "   ```python\n",
        "   data = \"a1b2c3d4e5\"\n",
        "   letters = data[::2]    # \"abcde\"\n",
        "   numbers = data[1::2]   # \"12345\"\n",
        "   ```\n",
        "\n",
        "### **Additional Examples**\n",
        "\n",
        "#### **Example 1: Extracting Middle Characters**\n",
        "\n",
        "```python\n",
        "text = \"PythonProgramming\"\n",
        "# Extract \"Programming\"\n",
        "programming = text[6:]\n",
        "print(programming)  # Output: \"Programming\"\n",
        "```\n",
        "\n",
        "#### **Example 2: Extracting Every Third Character**\n",
        "\n",
        "```python\n",
        "text = \"abcdefghijklmno\"\n",
        "# Extract every third character starting from index 0\n",
        "every_third = text[::3]\n",
        "print(every_third)  # Output: \"adgjm\"\n",
        "```\n",
        "\n",
        "#### **Example 3: Using Slicing to Modify Strings**\n",
        "\n",
        "While strings are immutable, you can create modified versions by slicing and concatenation.\n",
        "\n",
        "```python\n",
        "text = \"Hello, World!\"\n",
        "# Replace \"World\" with \"Python\"\n",
        "new_text = text[:7] + \"Python\" + text[12:]\n",
        "print(new_text)  # Output: \"Hello, Python!\"\n",
        "```\n",
        "\n",
        "### **Visual Representation of Slicing**\n",
        "\n",
        "Let's visualize the slicing process for better comprehension.\n",
        "\n",
        "#### **Original String and Indices**\n",
        "\n",
        "```\n",
        "String:  a   1   b   2   c   3   d   4   e   5\n",
        "Index:   0   1   2   3   4   5   6   7   8   9\n",
        "```\n",
        "\n",
        "#### **First Slice: `text[::2]`**\n",
        "\n",
        "- **Indices Selected:** `0, 2, 4, 6, 8`\n",
        "- **Characters:** `'a', 'b', 'c', 'd', 'e'`\n",
        "- **Result:** `\"abcde\"`\n",
        "\n",
        "#### **Second Slice: `text[1::2]`**\n",
        "\n",
        "- **Indices Selected:** `1, 3, 5, 7, 9`\n",
        "- **Characters:** `'1', '2', '3', '4', '5'`\n",
        "- **Result:** `\"12345\"`\n",
        "\n",
        "### **Common Slicing Mistakes to Avoid**\n",
        "\n",
        "1. **Off-by-One Errors:**\n",
        "   - Remember that the `stop` index is **exclusive**. If you want to include the character at the `stop` index, you need to add `1`.\n",
        "   \n",
        "   **Incorrect:**\n",
        "   \n",
        "   ```python\n",
        "   text = \"Hello\"\n",
        "   print(text[0:5])  # Correct: 'Hello'\n",
        "   print(text[0:4])  # Incorrect if you want 'Hello' (outputs 'Hell')\n",
        "   ```\n",
        "   \n",
        "2. **Negative Step with Start and Stop:**\n",
        "   - When using a negative `step`, ensure that `start` is greater than `stop`.\n",
        "   \n",
        "   **Example:**\n",
        "   \n",
        "   ```python\n",
        "   text = \"abcdef\"\n",
        "   # Correct: Reverse the string\n",
        "   reversed_text = text[5: -7: -1]  # Start at index 5 ('f'), stop before index -7\n",
        "   print(reversed_text)  # Output: \"fedcba\"\n",
        "   \n",
        "   # Alternatively, using omitting indices\n",
        "   reversed_text = text[::-1]\n",
        "   print(reversed_text)  # Output: \"fedcba\"\n",
        "   ```\n",
        "   \n",
        "3. **Out-of-Range Indices:**\n",
        "   - Slicing beyond the string's length doesn't raise an error; it simply returns up to the end.\n",
        "   \n",
        "   **Example:**\n",
        "   \n",
        "   ```python\n",
        "   text = \"Hello\"\n",
        "   print(text[2:10])  # Output: \"llo\"\n",
        "   ```\n",
        "\n",
        "### **Conclusion**\n",
        "\n",
        "String slicing is an indispensable tool in Python that allows for efficient and flexible string manipulation. By understanding the slicing syntax and how different parameters affect the output, you can perform a wide range of operations, from simple extractions to complex transformations.\n",
        "\n",
        "**Key Takeaways:**\n",
        "\n",
        "- **Slicing Syntax:** `string[start:stop:step]`\n",
        "- **Indices:** Start at `0`; negative indices count from the end.\n",
        "- **Step Parameter:** Determines the interval between characters; can be positive or negative.\n",
        "- **Immutability:** Slicing creates new strings; original strings remain unchanged.\n",
        "- **Practical Applications:** Data parsing, pattern extraction, string reversal, and more.\n",
        "\n",
        "**Practice Makes Perfect:** To master slicing, practice with various strings and slicing parameters. Experiment with different `start`, `stop`, and `step` values to see how they affect the resulting substring.\n",
        "\n",
        "If you have any more questions or need further clarification on string slicing or any other Python concepts, feel free to ask!"
      ],
      "metadata": {
        "id": "tHzNCPb84IZX"
      }
    },
    {
      "cell_type": "code",
      "source": [],
      "metadata": {
        "id": "Sq39AYXn4IHW"
      },
      "execution_count": null,
      "outputs": []
    },
    {
      "cell_type": "markdown",
      "source": [
        "# Assignment"
      ],
      "metadata": {
        "id": "XZtQMPgaU7iG"
      }
    },
    {
      "cell_type": "markdown",
      "source": [
        "Question 1\n",
        "\n",
        "Convert the string \"hello world\" to uppercase."
      ],
      "metadata": {
        "id": "zeVAkKUjU_10"
      }
    },
    {
      "cell_type": "markdown",
      "source": [],
      "metadata": {
        "id": "8h_PlfenVBqm"
      }
    },
    {
      "cell_type": "code",
      "source": [
        "<Type your code here >"
      ],
      "metadata": {
        "id": "MmMmUZFPVEIS"
      },
      "execution_count": null,
      "outputs": []
    },
    {
      "cell_type": "markdown",
      "source": [
        "Question 2\n",
        "\n",
        "Check if the string \"Python3\" is alphanumeric."
      ],
      "metadata": {
        "id": "pLcsba0lVFI4"
      }
    },
    {
      "cell_type": "code",
      "source": [
        "<Type your code here >"
      ],
      "metadata": {
        "id": "qTMOrKbvVHnN"
      },
      "execution_count": null,
      "outputs": []
    },
    {
      "cell_type": "markdown",
      "source": [
        "Question 3\n",
        "\n",
        "Replace all occurrences of 'a' with 'o' in the string \"banana\"."
      ],
      "metadata": {
        "id": "1U2TzT-KVK1r"
      }
    },
    {
      "cell_type": "code",
      "source": [
        "<Type your code here >"
      ],
      "metadata": {
        "id": "zAH5FRsSVNOL"
      },
      "execution_count": null,
      "outputs": []
    },
    {
      "cell_type": "markdown",
      "source": [
        "Question 4\n",
        "\n",
        "Find the index of the substring 'World' in \"Hello World\"."
      ],
      "metadata": {
        "id": "3wiEKIH7VOC2"
      }
    },
    {
      "cell_type": "code",
      "source": [
        "<Type your code here >"
      ],
      "metadata": {
        "id": "1ilfmLGqXFPu"
      },
      "execution_count": null,
      "outputs": []
    },
    {
      "cell_type": "markdown",
      "source": [],
      "metadata": {
        "id": "xjmRwf3QVRkA"
      }
    },
    {
      "cell_type": "markdown",
      "source": [
        "Question 5\n",
        "\n",
        "Split the string \"one,two,three,four\" into a list using , as the separator."
      ],
      "metadata": {
        "id": "kIbXWHxlVTzL"
      }
    },
    {
      "cell_type": "code",
      "source": [
        "<Type your code here >"
      ],
      "metadata": {
        "id": "3OWoLpAYXGOk"
      },
      "execution_count": null,
      "outputs": []
    },
    {
      "cell_type": "markdown",
      "source": [
        "Question 6\n",
        "\n",
        "Check if the string \" \" contains only whitespace."
      ],
      "metadata": {
        "id": "6fYa-jcTVVO1"
      }
    },
    {
      "cell_type": "code",
      "source": [
        "<Type your code here >"
      ],
      "metadata": {
        "id": "0msOo-wnXG3J"
      },
      "execution_count": null,
      "outputs": []
    },
    {
      "cell_type": "markdown",
      "source": [],
      "metadata": {
        "id": "hIQgx7F3VXWC"
      }
    },
    {
      "cell_type": "markdown",
      "source": [
        "Question 7\n",
        "\n",
        "Center the string \"Python\" in a field of width 10 using * as the fill characte"
      ],
      "metadata": {
        "id": "foboOk6JVZEa"
      }
    },
    {
      "cell_type": "code",
      "source": [
        "<Type your code here >"
      ],
      "metadata": {
        "id": "9wMjWDmLXInB"
      },
      "execution_count": null,
      "outputs": []
    },
    {
      "cell_type": "markdown",
      "source": [
        "Question 8\n",
        "\n",
        "Remove leading and trailing spaces from the string \" Hello World \"."
      ],
      "metadata": {
        "id": "ouqeiNHeVbCS"
      }
    },
    {
      "cell_type": "code",
      "source": [
        "<Type your code here >"
      ],
      "metadata": {
        "id": "gYbt2xr8XLG2"
      },
      "execution_count": null,
      "outputs": []
    },
    {
      "cell_type": "markdown",
      "source": [
        "Question 9\n",
        "\n",
        "Determine if the string \"12345\" is numeric."
      ],
      "metadata": {
        "id": "sRAk9J-eVdUM"
      }
    },
    {
      "cell_type": "code",
      "source": [
        "<Type your code here >"
      ],
      "metadata": {
        "id": "3uaBIMDMXNLQ"
      },
      "execution_count": null,
      "outputs": []
    },
    {
      "cell_type": "markdown",
      "source": [
        "Question 10\n",
        "\n",
        "Convert the string \"PYTHON\" to lowercase."
      ],
      "metadata": {
        "id": "M45EGv8lVfbD"
      }
    },
    {
      "cell_type": "code",
      "source": [
        "<Type your code here >"
      ],
      "metadata": {
        "id": "onUIg8vYXQE_"
      },
      "execution_count": null,
      "outputs": []
    },
    {
      "cell_type": "markdown",
      "source": [
        "Question 11\n",
        "\n",
        "Check if the string \"Python\" is a valid identifier."
      ],
      "metadata": {
        "id": "IoAobo0OVhUE"
      }
    },
    {
      "cell_type": "code",
      "source": [
        "<Type your code here >"
      ],
      "metadata": {
        "id": "oTruua_nXRzb"
      },
      "execution_count": null,
      "outputs": []
    },
    {
      "cell_type": "markdown",
      "source": [
        "Question 12\n",
        "\n",
        "Use format() to insert the name \"Alice\" and age 30 into the string \"My name is {} and I am {} years old.\""
      ],
      "metadata": {
        "id": "_a7fuIpqVi97"
      }
    },
    {
      "cell_type": "code",
      "source": [
        "<Type your code here >"
      ],
      "metadata": {
        "id": "qPleCcwNXSz2"
      },
      "execution_count": null,
      "outputs": []
    },
    {
      "cell_type": "markdown",
      "source": [
        "Question 13\n",
        "\n",
        "Count the number of vowels in the string \"beautiful\"."
      ],
      "metadata": {
        "id": "Uve_H3ysVk1e"
      }
    },
    {
      "cell_type": "code",
      "source": [
        "<Type your code here >"
      ],
      "metadata": {
        "id": "KeozZLXYXURA"
      },
      "execution_count": null,
      "outputs": []
    },
    {
      "cell_type": "markdown",
      "source": [
        "Question 14\n",
        "\n",
        "Use translate() to replace vowels in \"hello\" with numbers (a=1, e=2, i=3, o=4, u=5)."
      ],
      "metadata": {
        "id": "0z-qdRpWVm06"
      }
    },
    {
      "cell_type": "code",
      "source": [
        "<Type your code here >"
      ],
      "metadata": {
        "id": "m8AthMd5XU-J"
      },
      "execution_count": null,
      "outputs": []
    },
    {
      "cell_type": "markdown",
      "source": [
        "Question 15\n",
        "\n",
        "Check if the string \"Hello World\" starts with \"He\"."
      ],
      "metadata": {
        "id": "ov9xowhrVpC5"
      }
    },
    {
      "cell_type": "code",
      "source": [
        "<Type your code here >"
      ],
      "metadata": {
        "id": "S6VzzRfOXV7g"
      },
      "execution_count": null,
      "outputs": []
    },
    {
      "cell_type": "markdown",
      "source": [
        "Question 16\n",
        "\n",
        "Replace the first two occurrences of 'l' with 'x' in the string \"hello\"."
      ],
      "metadata": {
        "id": "hgVkBc0ZVrAJ"
      }
    },
    {
      "cell_type": "code",
      "source": [
        "<Type your code here >"
      ],
      "metadata": {
        "id": "bTECC-7QXWrn"
      },
      "execution_count": null,
      "outputs": []
    },
    {
      "cell_type": "markdown",
      "source": [
        "Question 17\n",
        "\n",
        "Determine if the string \"Straße\" is casefolded to \"strasse\"."
      ],
      "metadata": {
        "id": "zytIiiahVtJF"
      }
    },
    {
      "cell_type": "code",
      "source": [
        "<Type your code here >"
      ],
      "metadata": {
        "id": "aFfVAMm7XXih"
      },
      "execution_count": null,
      "outputs": []
    },
    {
      "cell_type": "markdown",
      "source": [
        "Question 18\n",
        "\n",
        "Find the last occurrence of 'o' in \"Hello World\"."
      ],
      "metadata": {
        "id": "mm26Yee-VvCE"
      }
    },
    {
      "cell_type": "code",
      "source": [
        "<Type your code here >"
      ],
      "metadata": {
        "id": "eNowQWh5XYk-"
      },
      "execution_count": null,
      "outputs": []
    },
    {
      "cell_type": "markdown",
      "source": [
        "Question 19\n",
        "\n",
        "Split the multi-line string \"Hello\\nWorld\\nPython\" into a list of lines."
      ],
      "metadata": {
        "id": "JSW1wjQQVxaw"
      }
    },
    {
      "cell_type": "code",
      "source": [
        "<Type your code here >"
      ],
      "metadata": {
        "id": "xbPdQhLVXZf4"
      },
      "execution_count": null,
      "outputs": []
    },
    {
      "cell_type": "markdown",
      "source": [
        "Question 20\n",
        "\n",
        "Use zfill() to convert the string \"42\" into a five-character string padded with zeros."
      ],
      "metadata": {
        "id": "HLS3cMFNVzno"
      }
    },
    {
      "cell_type": "code",
      "source": [
        "<Type your code here >"
      ],
      "metadata": {
        "id": "C2BPQbl1XaJR"
      },
      "execution_count": null,
      "outputs": []
    },
    {
      "cell_type": "markdown",
      "source": [
        "Question 21\n",
        "\n",
        "Check if the string \"Python3\" contains only alphabetic characters."
      ],
      "metadata": {
        "id": "WnDyWfxYV1Z-"
      }
    },
    {
      "cell_type": "code",
      "source": [
        "<Type your code here >"
      ],
      "metadata": {
        "id": "lLmVHCH5Xa_6"
      },
      "execution_count": null,
      "outputs": []
    },
    {
      "cell_type": "markdown",
      "source": [
        "Question 22\n",
        "\n",
        "Swap the case of the string \"PyThOn\"."
      ],
      "metadata": {
        "id": "ohpbwz5pV28d"
      }
    },
    {
      "cell_type": "code",
      "source": [
        "<Type your code here >"
      ],
      "metadata": {
        "id": "aunNyhKMXbv2"
      },
      "execution_count": null,
      "outputs": []
    },
    {
      "cell_type": "markdown",
      "source": [
        "Question 23\n",
        "\n",
        "Determine if the string \"HELLO\" is in uppercase."
      ],
      "metadata": {
        "id": "vEXbS2bCV4jX"
      }
    },
    {
      "cell_type": "code",
      "source": [
        "<Type your code here >"
      ],
      "metadata": {
        "id": "RXTHy3NaXdSB"
      },
      "execution_count": null,
      "outputs": []
    },
    {
      "cell_type": "markdown",
      "source": [
        "Question 24\n",
        "\n",
        "Use rjust() to right-justify the string \"Python\" in a field of width 10 using . as the fill character."
      ],
      "metadata": {
        "id": "cTGF7b3LV6oI"
      }
    },
    {
      "cell_type": "code",
      "source": [
        "<Type your code here >"
      ],
      "metadata": {
        "id": "JhGsLVQgXeCv"
      },
      "execution_count": null,
      "outputs": []
    },
    {
      "cell_type": "markdown",
      "source": [
        "Question 25\n",
        "\n",
        "Replace all spaces with hyphens in the string \"Hello World Python\"."
      ],
      "metadata": {
        "id": "j2ARatXRV8Qy"
      }
    },
    {
      "cell_type": "code",
      "source": [
        "<Type your code here >"
      ],
      "metadata": {
        "id": "u2lVTCElXe_S"
      },
      "execution_count": null,
      "outputs": []
    },
    {
      "cell_type": "markdown",
      "source": [
        "Question 26\n",
        "\n",
        "Check if the string \"1234.56\" is decimal."
      ],
      "metadata": {
        "id": "onVIg0-5V-GQ"
      }
    },
    {
      "cell_type": "code",
      "source": [
        "<Type your code here >"
      ],
      "metadata": {
        "id": "5yA4FOOwXf0n"
      },
      "execution_count": null,
      "outputs": []
    },
    {
      "cell_type": "markdown",
      "source": [
        "Question 27\n",
        "\n",
        "Use partition() to split the string \"Python is fun\" at 'is'."
      ],
      "metadata": {
        "id": "cDZYPJ4RWA_0"
      }
    },
    {
      "cell_type": "code",
      "source": [
        "<Type your code here >"
      ],
      "metadata": {
        "id": "5Ifk-9HzXgwd"
      },
      "execution_count": null,
      "outputs": []
    },
    {
      "cell_type": "markdown",
      "source": [
        "Question 28\n",
        "\n",
        "Determine if the string \"Hello123\" is alphanumeric."
      ],
      "metadata": {
        "id": "L6e8JrYqWDKt"
      }
    },
    {
      "cell_type": "code",
      "source": [
        "<Type your code here >"
      ],
      "metadata": {
        "id": "9xUYSD9dXhig"
      },
      "execution_count": null,
      "outputs": []
    },
    {
      "cell_type": "markdown",
      "source": [
        "Question 29\n",
        "\n",
        "Use splitlines() to split the string \"Line1\\nLine2\\rLine3\" into lines, keeping the line breaks."
      ],
      "metadata": {
        "id": "ABDC9x6OWFKO"
      }
    },
    {
      "cell_type": "code",
      "source": [
        "<Type your code here >"
      ],
      "metadata": {
        "id": "_EMqqjX5XjQ5"
      },
      "execution_count": null,
      "outputs": []
    },
    {
      "cell_type": "markdown",
      "source": [
        "Question 30\n",
        "\n",
        "Check if the string \"Hello\\nWorld\" is printable."
      ],
      "metadata": {
        "id": "3z5Tl9LYWHb6"
      }
    },
    {
      "cell_type": "code",
      "source": [
        "<Type your code here >"
      ],
      "metadata": {
        "id": "eqhZmCsIXkU2"
      },
      "execution_count": null,
      "outputs": []
    },
    {
      "cell_type": "markdown",
      "source": [
        "Question 31\n",
        "\n",
        "Left-justify the string \"Python\" in a field of width 10 using * as the fill character."
      ],
      "metadata": {
        "id": "bA-25d1GWIob"
      }
    },
    {
      "cell_type": "code",
      "source": [
        "<Type your code here >"
      ],
      "metadata": {
        "id": "JgtHNIzGXlHD"
      },
      "execution_count": null,
      "outputs": []
    },
    {
      "cell_type": "markdown",
      "source": [
        "Question 32\n",
        "\n",
        "Use format_map() to insert values from a dictionary {'name': 'Bob', 'age': 25} into the string \"Name: {name}, Age: {age}\"."
      ],
      "metadata": {
        "id": "O4Z1nm7gWLu_"
      }
    },
    {
      "cell_type": "code",
      "source": [
        "<Type your code here >"
      ],
      "metadata": {
        "id": "EjdinhyKXly1"
      },
      "execution_count": null,
      "outputs": []
    },
    {
      "cell_type": "markdown",
      "source": [
        "Question 33\n",
        "\n",
        "Determine if the string \"hello world\" is in title case."
      ],
      "metadata": {
        "id": "an9N3H7aWPNS"
      }
    },
    {
      "cell_type": "code",
      "source": [
        "<Type your code here >"
      ],
      "metadata": {
        "id": "GtmlLTUWXmcx"
      },
      "execution_count": null,
      "outputs": []
    },
    {
      "cell_type": "markdown",
      "source": [
        "Question 34\n",
        "\n",
        "Find the number of times 'o' appears in \"Hello World\"."
      ],
      "metadata": {
        "id": "UqrVGKYMWRFR"
      }
    },
    {
      "cell_type": "code",
      "source": [
        "<Type your code here >"
      ],
      "metadata": {
        "id": "y8ZWwHjwXnCr"
      },
      "execution_count": null,
      "outputs": []
    },
    {
      "cell_type": "markdown",
      "source": [
        "Question 35\n",
        "\n",
        "Use rpartition() to split the string \"Python is fun and Python is powerful\" at 'Python'."
      ],
      "metadata": {
        "id": "5B8lZawbWUNR"
      }
    },
    {
      "cell_type": "code",
      "source": [
        "<Type your code here >"
      ],
      "metadata": {
        "id": "bfz1JF-TXnmw"
      },
      "execution_count": null,
      "outputs": []
    },
    {
      "cell_type": "markdown",
      "source": [],
      "metadata": {
        "id": "W4kUIk0YVIUu"
      }
    },
    {
      "cell_type": "markdown",
      "source": [
        "Question 36\n",
        "\n",
        "Check if the string \" \" is alphanumeric."
      ],
      "metadata": {
        "id": "GUY5B83ZWW4C"
      }
    },
    {
      "cell_type": "code",
      "source": [
        "<Type your code here >"
      ],
      "metadata": {
        "id": "8FeM3VhoXoK8"
      },
      "execution_count": null,
      "outputs": []
    },
    {
      "cell_type": "markdown",
      "source": [
        "Question 37\n",
        "\n",
        "Use expandtabs() to replace tab characters in \"Hello\\tWorld\" with 4 spaces."
      ],
      "metadata": {
        "id": "6YbWzBfMWady"
      }
    },
    {
      "cell_type": "code",
      "source": [
        "<Type your code here >"
      ],
      "metadata": {
        "id": "TQojZsxWXpSg"
      },
      "execution_count": null,
      "outputs": []
    },
    {
      "cell_type": "markdown",
      "source": [
        "Question 38\n",
        "\n",
        "Determine if the string \"variable1\" is a valid identifier."
      ],
      "metadata": {
        "id": "CB_ylB-4WcZc"
      }
    },
    {
      "cell_type": "code",
      "source": [
        "<Type your code here >"
      ],
      "metadata": {
        "id": "EMa9we9aXqsE"
      },
      "execution_count": null,
      "outputs": []
    },
    {
      "cell_type": "markdown",
      "source": [
        "Question 39\n",
        "\n",
        "Use maketrans() and translate() to remove vowels from \"Hello World\"."
      ],
      "metadata": {
        "id": "SEKneBoDWeSd"
      }
    },
    {
      "cell_type": "code",
      "source": [
        "<Type your code here >"
      ],
      "metadata": {
        "id": "IJd943K2Xrcz"
      },
      "execution_count": null,
      "outputs": []
    },
    {
      "cell_type": "markdown",
      "source": [
        "Question 40\n",
        "\n",
        "Check if the string \"Python\" is in lowercase."
      ],
      "metadata": {
        "id": "GkUV0_p6WgRU"
      }
    },
    {
      "cell_type": "code",
      "source": [
        "<Type your code here >"
      ],
      "metadata": {
        "id": "Z27EaUJaXs4-"
      },
      "execution_count": null,
      "outputs": []
    },
    {
      "cell_type": "markdown",
      "source": [
        "Question 41\n",
        "\n",
        "Use replace() to change \"Hello\" to \"Hi\" in the string \"Hello Hello\"."
      ],
      "metadata": {
        "id": "4wkiWBOsWh8p"
      }
    },
    {
      "cell_type": "code",
      "source": [
        "<Type your code here >"
      ],
      "metadata": {
        "id": "yV0XdgYmXttf"
      },
      "execution_count": null,
      "outputs": []
    },
    {
      "cell_type": "markdown",
      "source": [
        "Question 42\n",
        "\n",
        "Determine if the string \"12345\" is composed of digits."
      ],
      "metadata": {
        "id": "BM0UGld9WkM3"
      }
    },
    {
      "cell_type": "code",
      "source": [
        "<Type your code here >"
      ],
      "metadata": {
        "id": "eQrnmYRjXuef"
      },
      "execution_count": null,
      "outputs": []
    },
    {
      "cell_type": "markdown",
      "source": [
        "Question 43\n",
        "\n",
        "Use isnumeric() to check if the string \"²³\" is numeric."
      ],
      "metadata": {
        "id": "eWkNyaeGWmvc"
      }
    },
    {
      "cell_type": "code",
      "source": [
        "<Type your code here >"
      ],
      "metadata": {
        "id": "9nUuy3K4XvVg"
      },
      "execution_count": null,
      "outputs": []
    },
    {
      "cell_type": "markdown",
      "source": [
        "Question 44\n",
        "\n",
        "Use casefold() to perform a case-insensitive comparison between \"Straße\" and \"strasse\"."
      ],
      "metadata": {
        "id": "VsDX7mn5Wowc"
      }
    },
    {
      "cell_type": "code",
      "source": [
        "<Type your code here >"
      ],
      "metadata": {
        "id": "prmKtN-yXwmh"
      },
      "execution_count": null,
      "outputs": []
    },
    {
      "cell_type": "markdown",
      "source": [
        "Question 45\n",
        "\n",
        "Check if the string \"Title Case\" is titlecased."
      ],
      "metadata": {
        "id": "4Jw1HCSzWrXG"
      }
    },
    {
      "cell_type": "code",
      "source": [
        "<Type your code here >"
      ],
      "metadata": {
        "id": "YmCXMd24Xxzu"
      },
      "execution_count": null,
      "outputs": []
    },
    {
      "cell_type": "markdown",
      "source": [
        "Question 46\n",
        "\n",
        "Use find() to locate the substring 'test' in \"This is a test string for testing.\""
      ],
      "metadata": {
        "id": "GpsD-P-LWuCD"
      }
    },
    {
      "cell_type": "code",
      "source": [
        "<Type your code here >"
      ],
      "metadata": {
        "id": "Rlkn2jWLXylN"
      },
      "execution_count": null,
      "outputs": []
    },
    {
      "cell_type": "markdown",
      "source": [
        "Question 47\n",
        "\n",
        "Use join() to concatenate the list ['Python', 'is', 'awesome'] with spaces."
      ],
      "metadata": {
        "id": "MH23KVV2WwC7"
      }
    },
    {
      "cell_type": "code",
      "source": [
        "<Type your code here >"
      ],
      "metadata": {
        "id": "oQVU6VoDXzf3"
      },
      "execution_count": null,
      "outputs": []
    },
    {
      "cell_type": "markdown",
      "source": [
        "Question 48\n",
        "\n",
        "Determine if the string \"HELLO123\" is uppercase."
      ],
      "metadata": {
        "id": "IINXuOkCWyDg"
      }
    },
    {
      "cell_type": "code",
      "source": [
        "<Type your code here >"
      ],
      "metadata": {
        "id": "JY-CtWRxX0kM"
      },
      "execution_count": null,
      "outputs": []
    },
    {
      "cell_type": "markdown",
      "source": [
        "Question 49\n",
        "\n",
        "Use swapcase() on the string \"PyThOn3.8\"."
      ],
      "metadata": {
        "id": "v8AjOgcGWz3b"
      }
    },
    {
      "cell_type": "code",
      "source": [
        "<Type your code here >"
      ],
      "metadata": {
        "id": "vjFM-1VoX1NK"
      },
      "execution_count": null,
      "outputs": []
    },
    {
      "cell_type": "markdown",
      "source": [
        "Question 50\n",
        "\n",
        "Use zfill() to pad the string \"-42\" to a width of 5."
      ],
      "metadata": {
        "id": "RQ4Snr7ZW2bF"
      }
    },
    {
      "cell_type": "code",
      "source": [
        "<Type your code here >"
      ],
      "metadata": {
        "id": "-hL1iMiJX122"
      },
      "execution_count": null,
      "outputs": []
    }
  ]
}