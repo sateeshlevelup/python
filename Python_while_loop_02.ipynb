{
  "nbformat": 4,
  "nbformat_minor": 0,
  "metadata": {
    "colab": {
      "provenance": [],
      "authorship_tag": "ABX9TyNK7U4Dg8t1dXxT+PqM+ctn",
      "include_colab_link": true
    },
    "kernelspec": {
      "name": "python3",
      "display_name": "Python 3"
    },
    "language_info": {
      "name": "python"
    }
  },
  "cells": [
    {
      "cell_type": "markdown",
      "metadata": {
        "id": "view-in-github",
        "colab_type": "text"
      },
      "source": [
        "<a href=\"https://colab.research.google.com/github/sateeshlevelup/python/blob/main/Python_while_loop_02.ipynb\" target=\"_parent\"><img src=\"https://colab.research.google.com/assets/colab-badge.svg\" alt=\"Open In Colab\"/></a>"
      ]
    },
    {
      "cell_type": "code",
      "execution_count": null,
      "metadata": {
        "colab": {
          "base_uri": "https://localhost:8080/"
        },
        "id": "MTufQ_vPx_S-",
        "outputId": "d765c5c9-569c-4229-ff0c-a5ad62ab71f0"
      },
      "outputs": [
        {
          "output_type": "stream",
          "name": "stdout",
          "text": [
            "Enter the number20\n",
            "Guess the number(1-100):50\n",
            "Too high\n",
            "Guess the number(1-100):10\n",
            "Too low\n",
            "Guess the number(1-100):15\n",
            "Too low\n",
            "Guess the number(1-100):20\n",
            "Congratulation ! you guess it\n"
          ]
        }
      ],
      "source": [
        "# Guess The number\n",
        "# create a guessing game where the user had to guess a random number\n",
        "\n",
        "import random\n",
        "#number_to_guess = random.randint(1, 100)\n",
        "number_to_guess =int(input(\"Enter the number\"))\n",
        "guess = -1\n",
        "\n",
        "while guess != number_to_guess:\n",
        "  guess =int(input(\"Guess the number(1-100):\"))\n",
        "  if guess < number_to_guess:\n",
        "    print(\"Too low\")\n",
        "  elif guess > number_to_guess:\n",
        "    print(\"Too high\")\n",
        "  else:\n",
        "    print(\"Congratulation ! you guess it\")"
      ]
    },
    {
      "cell_type": "code",
      "source": [
        "# Count Vowels in a string\n",
        "\n",
        "# input a string and count the number of vowles using a while loop\n",
        "\n",
        "\n",
        "text = input(\"Enter a string: \").lower()\n",
        "vowles=\"aeiou\"\n",
        "count = 0\n",
        "\n",
        "i = 0\n",
        "while i < len(text):\n",
        "  if text[i] in vowles:\n",
        "    count += 1\n",
        "  i += 1\n",
        "\n",
        "print(\"The number of vowles in the string is:\", count)"
      ],
      "metadata": {
        "colab": {
          "base_uri": "https://localhost:8080/"
        },
        "id": "5qjj6o8EzCNm",
        "outputId": "c19490e2-6193-4101-8999-949ec3b3de93"
      },
      "execution_count": null,
      "outputs": [
        {
          "output_type": "stream",
          "name": "stdout",
          "text": [
            "Enter a string: Hello i am not a vowel\n",
            "The number of vowles in the string is: 8\n"
          ]
        }
      ]
    },
    {
      "cell_type": "code",
      "source": [
        "# sum of even Numbers\n",
        "\n",
        "limit = int(input(\"enter the limit:\"))\n",
        "i = 2\n",
        "sum_even = 0\n",
        "\n",
        "while i <= limit:\n",
        "  sum_even += i\n",
        "  i += 2\n",
        "\n",
        "print(\"sum of even numbers:\",sum_even)"
      ],
      "metadata": {
        "colab": {
          "base_uri": "https://localhost:8080/"
        },
        "id": "maO9WFP-3YsM",
        "outputId": "e1429563-4007-4b82-ddb0-74bd20382142"
      },
      "execution_count": null,
      "outputs": [
        {
          "output_type": "stream",
          "name": "stdout",
          "text": [
            "enter the limit:50\n",
            "sum of even numbers: 650\n"
          ]
        }
      ]
    },
    {
      "cell_type": "code",
      "source": [
        "range(1,10)"
      ],
      "metadata": {
        "id": "AVd32XND4zI3"
      },
      "execution_count": null,
      "outputs": []
    },
    {
      "cell_type": "code",
      "source": [
        "limit = int(input(\"enter the limit:\"))"
      ],
      "metadata": {
        "colab": {
          "base_uri": "https://localhost:8080/"
        },
        "id": "9M7xmTo_48pS",
        "outputId": "0de7c5ba-d5e2-4560-e0dd-d7a1990dec2f"
      },
      "execution_count": null,
      "outputs": [
        {
          "name": "stdout",
          "output_type": "stream",
          "text": [
            "enter the limit:9\n"
          ]
        }
      ]
    },
    {
      "cell_type": "code",
      "source": [
        "limit = int(input(\"enter the limit:\"))\n",
        "\n",
        "sum_even = 0\n",
        "\n",
        "for i in range(1,limit+1):\n",
        "  if i % 2 == 0:\n",
        "    sum_even += i\n",
        "\n",
        "print(\"sum of even numbers:\",sum_even)\n",
        "\n",
        "\n",
        "\n"
      ],
      "metadata": {
        "colab": {
          "base_uri": "https://localhost:8080/"
        },
        "id": "lVaVfVMA4XsU",
        "outputId": "b9b7f7ef-18f4-4847-af9d-0c98f89a4d7a"
      },
      "execution_count": null,
      "outputs": [
        {
          "output_type": "stream",
          "name": "stdout",
          "text": [
            "enter the limit:50\n",
            "sum of even numbers: 650\n"
          ]
        }
      ]
    },
    {
      "cell_type": "code",
      "source": [
        "# working with lists\n",
        "# print each element in the list\n",
        "\n",
        "lst = ['apple','banana','cherry','date']\n",
        "index = 0\n",
        "\n",
        "while index < len(lst):\n",
        "  item = lst[index]\n",
        "  print(item)\n",
        "  index += 1\n",
        "\n",
        "print(\"finished with pritintg the list\")\n"
      ],
      "metadata": {
        "colab": {
          "base_uri": "https://localhost:8080/"
        },
        "id": "se_cZ23K5Ztz",
        "outputId": "637c5c5b-0384-4f36-dac7-5846f9be9922"
      },
      "execution_count": null,
      "outputs": [
        {
          "output_type": "stream",
          "name": "stdout",
          "text": [
            "apple\n",
            "banana\n",
            "cherry\n",
            "date\n",
            "finished with pritintg the list\n"
          ]
        }
      ]
    },
    {
      "cell_type": "code",
      "source": [
        "# create a simple Passwrod Validation System\n",
        "# allow the user to set password then ask them to re-try for validation\n",
        "\n",
        "password = input(\"Enter a password:\")\n",
        "attempt =\"\"\n",
        "\n",
        "while attempt != password:\n",
        "  attempt = input(\"Re-enter the password:\")\n",
        "  if attempt != password:\n",
        "    print(\"Passwords do not match. Please try again\")\n",
        "print(\"Password Successfully set!\")\n",
        "\n"
      ],
      "metadata": {
        "colab": {
          "base_uri": "https://localhost:8080/"
        },
        "id": "WwRN04Eb_fBm",
        "outputId": "c1f87145-259f-4f62-d5bf-7f53fc0b1591"
      },
      "execution_count": null,
      "outputs": [
        {
          "output_type": "stream",
          "name": "stdout",
          "text": [
            "Enter a password:LevelUp\n",
            "Re-enter the password:levelup\n",
            "Passwords do not match. Please try again\n",
            "Re-enter the password:LevelUp\n",
            "Password Successfully set!\n"
          ]
        }
      ]
    },
    {
      "cell_type": "code",
      "source": [
        "# Reverse the words in a Sentence\n",
        "\n",
        "sentence = input(\"Enter the sentance\")\n",
        "words = sentence.split()\n",
        "reversed_sentence = \"\"\n",
        "i = len(words) - 1\n",
        "\n",
        "\n",
        "while i >= 0:\n",
        "  reversed_sentence += words[i] + \" \"\n",
        "  i -= 1\n",
        "\n",
        "print(\"Reversed sentence:\",reversed_sentence.strip())\n"
      ],
      "metadata": {
        "colab": {
          "base_uri": "https://localhost:8080/"
        },
        "id": "jhtfwcGjCPk0",
        "outputId": "7f56797c-c8f9-4ca3-8f49-99d35bfc9269"
      },
      "execution_count": null,
      "outputs": [
        {
          "output_type": "stream",
          "name": "stdout",
          "text": [
            "Enter the sentanceHello i am learning python\n",
            "Reversed sentence: python learning am i Hello\n"
          ]
        }
      ]
    },
    {
      "cell_type": "code",
      "source": [
        "\n",
        "Hello i am learning python\n",
        "words = [\"hello\",\"i\",\"am\",\"learning\",\"python\"]\n",
        "len =5\n",
        "i = 4\n",
        "\n",
        "i = 4 words[4] = \"python\"\n",
        "i =3  words[3] = \"learning\"\n",
        "i =2  words[2] = \"am\"\n",
        "i =1  words[1] = \"i\"\n",
        "i =0  words[0] = \"hello\"\n"
      ],
      "metadata": {
        "id": "5O_GuWq1EhS4"
      },
      "execution_count": null,
      "outputs": []
    },
    {
      "cell_type": "code",
      "source": [
        "[\"apple\",\"banana\",\"cherry\"]"
      ],
      "metadata": {
        "id": "4ncFJTVuDVd3"
      },
      "execution_count": null,
      "outputs": []
    },
    {
      "cell_type": "code",
      "source": [],
      "metadata": {
        "id": "KIrJM3uwFrcv"
      },
      "execution_count": null,
      "outputs": []
    },
    {
      "cell_type": "code",
      "source": [],
      "metadata": {
        "id": "cCJxNMYuFuIQ"
      },
      "execution_count": null,
      "outputs": []
    },
    {
      "cell_type": "code",
      "source": [],
      "metadata": {
        "id": "aZL3rouOFuCM"
      },
      "execution_count": null,
      "outputs": []
    },
    {
      "cell_type": "code",
      "source": [],
      "metadata": {
        "id": "-7SxXu-lFt3u"
      },
      "execution_count": null,
      "outputs": []
    },
    {
      "cell_type": "markdown",
      "source": [
        "Here are **50 hands-on exercises** for teaching students about `while` loops. These exercises range from simple to more complex scenarios to progressively enhance understanding.\n",
        "\n",
        "---\n",
        "\n",
        "### **Basic Level: Understanding `while` Loops**\n",
        "1. Print numbers from 1 to 10 using a `while` loop.\n",
        "2. Print even numbers between 1 and 20 using a `while` loop.\n",
        "3. Print odd numbers between 1 and 20 using a `while` loop.\n",
        "4. Print the first 10 multiples of 5 using a `while` loop.\n",
        "5. Print numbers from 10 to 1 in reverse order using a `while` loop.\n",
        "6. Keep asking the user to enter a number until they input a negative number.\n",
        "7. Print the squares of numbers from 1 to 10 using a `while` loop.\n",
        "8. Print the sum of the first 10 natural numbers using a `while` loop.\n",
        "9. Continuously ask the user for their name and stop when they enter \"quit\".\n",
        "10. Count and print the number of digits in a given number using a `while` loop.\n",
        "\n",
        "---\n",
        "\n",
        "### **Intermediate Level: Logic Building**\n",
        "11. Find the factorial of a number using a `while` loop.\n",
        "12. Reverse a given number using a `while` loop.\n",
        "13. Check if a number is a palindrome using a `while` loop.\n",
        "14. Print the Fibonacci series up to a given number using a `while` loop.\n",
        "15. Count the number of vowels in a given string using a `while` loop.\n",
        "16. Print all prime numbers up to a given number using a `while` loop.\n",
        "17. Calculate the sum of digits of a given number using a `while` loop.\n",
        "18. Find the greatest common divisor (GCD) of two numbers using a `while` loop.\n",
        "19. Keep asking the user for input until they guess a randomly generated number.\n",
        "20. Find and print the largest digit in a number using a `while` loop.\n",
        "\n",
        "---\n",
        "\n",
        "### **String and Pattern Exercises**\n",
        "21. Reverse a string using a `while` loop.\n",
        "22. Count the number of spaces in a given string using a `while` loop.\n",
        "23. Print a right-angled triangle pattern with numbers using a `while` loop.\n",
        "24. Print a pyramid pattern of stars using a `while` loop.\n",
        "25. Keep asking the user to enter words until they input the word \"stop\".\n",
        "26. Check if a given string is a palindrome using a `while` loop.\n",
        "27. Count the number of uppercase and lowercase letters in a string using a `while` loop.\n",
        "28. Print the ASCII values of all characters in a string using a `while` loop.\n",
        "29. Print the first letter of each word in a given sentence using a `while` loop.\n",
        "30. Print a diamond pattern of stars using nested `while` loops.\n",
        "\n",
        "---\n",
        "\n",
        "### **Mathematical Problems**\n",
        "31. Check if a number is an Armstrong number using a `while` loop.\n",
        "32. Calculate the sum of all even digits in a number using a `while` loop.\n",
        "33. Generate the multiplication table of a given number using a `while` loop.\n",
        "34. Find the least common multiple (LCM) of two numbers using a `while` loop.\n",
        "35. Convert a binary number to its decimal equivalent using a `while` loop.\n",
        "36. Convert a decimal number to its binary equivalent using a `while` loop.\n",
        "37. Find the smallest prime number greater than a given number using a `while` loop.\n",
        "38. Calculate the power of a number (e.g., 2^5) using a `while` loop.\n",
        "39. Find the sum of a geometric series (e.g., 1 + 1/2 + 1/4 ...) up to a given term using a `while` loop.\n",
        "40. Calculate the greatest common divisor (GCD) of multiple numbers using a `while` loop.\n",
        "\n",
        "---\n",
        "\n",
        "### **Advanced Logic Building**\n",
        "41. Simulate a simple calculator that keeps running until the user enters \"exit\".\n",
        "42. Find the sum of all prime numbers up to a given number using a `while` loop.\n",
        "43. Simulate rolling a dice until you roll a 6, and count how many rolls it took.\n",
        "44. Check if a number is a perfect number using a `while` loop.\n",
        "45. Keep asking the user to guess a number until they guess the correct one, with hints (\"too high\"/\"too low\").\n",
        "46. Find the HCF and LCM of three numbers using a `while` loop.\n",
        "47. Simulate a banking system that allows deposits, withdrawals, and balance checks until the user exits.\n",
        "48. Calculate the sum of the first `n` terms of a Fibonacci series using a `while` loop.\n",
        "49. Simulate a countdown timer that displays numbers from `n` to 0.\n",
        "50. Implement a basic text-based game that keeps asking for user input until a winning condition is met.\n",
        "\n",
        "---\n",
        "\n",
        "\n"
      ],
      "metadata": {
        "id": "vLzFJ7ATFuww"
      }
    },
    {
      "cell_type": "markdown",
      "source": [],
      "metadata": {
        "id": "29pLY8f3FtiJ"
      }
    }
  ]
}