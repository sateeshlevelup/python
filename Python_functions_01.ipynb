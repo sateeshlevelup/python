{
  "nbformat": 4,
  "nbformat_minor": 0,
  "metadata": {
    "colab": {
      "provenance": [],
      "authorship_tag": "ABX9TyN3KoT6Vigb4cXULNjlBUyE",
      "include_colab_link": true
    },
    "kernelspec": {
      "name": "python3",
      "display_name": "Python 3"
    },
    "language_info": {
      "name": "python"
    }
  },
  "cells": [
    {
      "cell_type": "markdown",
      "metadata": {
        "id": "view-in-github",
        "colab_type": "text"
      },
      "source": [
        "<a href=\"https://colab.research.google.com/github/sateeshlevelup/python/blob/main/Python_functions_01.ipynb\" target=\"_parent\"><img src=\"https://colab.research.google.com/assets/colab-badge.svg\" alt=\"Open In Colab\"/></a>"
      ]
    },
    {
      "cell_type": "code",
      "source": [
        "Hello,hari ! have a great day\n",
        "hello, Raju ! have a great day\n",
        "hello, Hari ! have a great day\n",
        "Hello, sandhya ! have a great day\n",
        "Hello, Hari ! have a great day"
      ],
      "metadata": {
        "id": "h1r6rPCnrRGv"
      },
      "execution_count": null,
      "outputs": []
    },
    {
      "cell_type": "code",
      "execution_count": null,
      "metadata": {
        "colab": {
          "base_uri": "https://localhost:8080/"
        },
        "id": "6a5vOjlfrDoQ",
        "outputId": "f8637d16-6db9-4bc7-b5e2-9417f7d5ce4c"
      },
      "outputs": [
        {
          "output_type": "stream",
          "name": "stdout",
          "text": [
            "Hello, hari! Have a great day\n",
            "None\n",
            "Hello, Raju! Have a great day\n",
            "None\n",
            "Hello, krishna! Have a great day\n",
            "None\n",
            "Hello, guru! Have a great day\n",
            "None\n",
            "Hello, santoosh! Have a great day\n",
            "None\n"
          ]
        }
      ],
      "source": [
        "# function to say hello\n",
        "\n",
        "def hello(name):\n",
        "    print(f\"Hello, {name}! Have a great day\")\n",
        "\n",
        "print(hello(\"hari\"))\n",
        "print(hello(\"Raju\"))\n",
        "print(hello(\"krishna\"))\n",
        "print(hello(\"guru\"))\n",
        "print(hello(\"santoosh\"))"
      ]
    },
    {
      "cell_type": "code",
      "source": [
        "def hello(name):\n",
        "    return f\"Hello, {name}! Have a great day\"\n",
        "\n",
        "greet = hello(\"hari\")\n",
        "print(greet)\n",
        "\n",
        "a =int(input(\"enter your name\"))\n",
        "print(hello(a))"
      ],
      "metadata": {
        "colab": {
          "base_uri": "https://localhost:8080/"
        },
        "id": "D5ANOwOdyuDF",
        "outputId": "5508a8ff-aed2-48ec-d1e9-62cf641574f8"
      },
      "execution_count": null,
      "outputs": [
        {
          "output_type": "stream",
          "name": "stdout",
          "text": [
            "Hello, hari! Have a great day\n"
          ]
        }
      ]
    },
    {
      "cell_type": "markdown",
      "source": [
        "A return statement is used in a function to send output back to the\n",
        "place where the fucntion in called, return allows the user to use or store the results for further use"
      ],
      "metadata": {
        "id": "ixYS8tBNyV67"
      }
    },
    {
      "cell_type": "markdown",
      "source": [
        "\n",
        "\n",
        "## 1. **Introduction to Functions**  \n",
        "   - **Definition**: A block of reusable code that performs a specific task.  \n",
        "   - **Why Use Functions**:  \n",
        "     - Avoid code repetition (DRY Principle).  \n",
        "     - Improve readability and maintainability.  \n",
        "     - Facilitate debugging and testing.  \n",
        "   - **Syntax in Python**:  \n",
        "     ```python\n",
        "     def function_name(parameters):\n",
        "         # code block\n",
        "         return value\n",
        "     ```\n",
        "\n",
        "---\n",
        "\n",
        "## 2. **Components of a Function**  \n",
        "   - **Function Name**: Identifier for the function.  \n",
        "   - **Parameters/Arguments**: Input values passed to the function.  \n",
        "   - **Body**: The block of code performing the task.  \n",
        "   - **Return Statement**: Sends the function's output back to the caller.  \n",
        "\n",
        "---\n",
        "\n",
        "## 3. **Types of Functions**  \n",
        "   ### a. **Built-in Functions**:  \n",
        "      - Examples: `print()`, `len()`, `type()`, etc.  \n",
        "      - Discuss common built-in functions and their uses.  \n",
        "\n",
        "   ### b. **User-defined Functions**:  \n",
        "      - Functions created by the user to solve specific problems.  \n",
        "      - Example:  \n",
        "        ```python\n",
        "        def greet(name):\n",
        "            return f\"Hello, {name}!\"\n",
        "        ```  \n",
        "\n",
        "   ### c. **Anonymous Functions (Lambda Functions)**:  \n",
        "      - Syntax: `lambda arguments: expression`  \n",
        "      - Use case: Short, single-line functions.  \n",
        "      - Example:  \n",
        "        ```python\n",
        "        square = lambda x: x ** 2\n",
        "        print(square(4))  # Output: 16\n",
        "        ```\n",
        "\n",
        "---\n",
        "\n",
        "## 4. **Parameters and Arguments**  \n",
        "   - **Positional Arguments**: Matched by order.  \n",
        "   - **Keyword Arguments**: Matched by parameter name.  \n",
        "   - **Default Parameters**: Assigning default values to parameters.  \n",
        "     ```python\n",
        "     def greet(name=\"Guest\"):\n",
        "         return f\"Hello, {name}!\"\n",
        "     ```  \n",
        "   - **Variable-length Arguments**:  \n",
        "      - `*args` for a tuple of arguments.  \n",
        "      - `**kwargs` for a dictionary of arguments.  \n",
        "\n",
        "---\n",
        "\n",
        "## 5. **Scope and Lifetime of Variables**  \n",
        "   - **Local Scope**: Variables defined within a function.  \n",
        "   - **Global Scope**: Variables defined outside functions.  \n",
        "   - **Nonlocal Variables**: Accessing variables in nested functions.  \n",
        "     ```python\n",
        "     def outer():\n",
        "         x = \"Outer\"\n",
        "         def inner():\n",
        "             nonlocal x\n",
        "             x = \"Inner\"\n",
        "         inner()\n",
        "         print(x)\n",
        "     outer()  # Output: Inner\n",
        "     ```  \n",
        "\n",
        "---\n",
        "\n",
        "## 6. **Returning Values from Functions**  \n",
        "   - **Single Value**: `return value`  \n",
        "   - **Multiple Values**: `return value1, value2`  \n",
        "     ```python\n",
        "     def calculate(a, b):\n",
        "         return a + b, a - b\n",
        "     sum, diff = calculate(10, 5)\n",
        "     print(sum, diff)  # Output: 15, 5\n",
        "     ```\n",
        "\n",
        "---\n",
        "\n",
        "## 7. **Function Recursion**  \n",
        "   - **Definition**: A function calling itself to solve smaller subproblems.  \n",
        "   - **Base Case and Recursive Case**: Prevent infinite recursion.  \n",
        "   - Example: Factorial Calculation  \n",
        "     ```python\n",
        "     def factorial(n):\n",
        "         if n == 1:\n",
        "             return 1\n",
        "         return n * factorial(n - 1)\n",
        "     print(factorial(5))  # Output: 120\n",
        "     ```  \n",
        "\n",
        "---\n",
        "\n",
        "## 8. **Higher-Order Functions**  \n",
        "   - **Definition**: Functions that take other functions as arguments or return them.  \n",
        "   - Examples: `map()`, `filter()`, `reduce()`  \n",
        "   - Usage:  \n",
        "     ```python\n",
        "     numbers = [1, 2, 3, 4]\n",
        "     squares = list(map(lambda x: x ** 2, numbers))\n",
        "     print(squares)  # Output: [1, 4, 9, 16]\n",
        "     ```\n",
        "\n",
        "---\n",
        "\n",
        "## 9. **Decorators**  \n",
        "   - **Definition**: A way to modify or extend the behavior of a function.  \n",
        "   - Syntax:  \n",
        "     ```python\n",
        "     def decorator(func):\n",
        "         def wrapper():\n",
        "             print(\"Before function call\")\n",
        "             func()\n",
        "             print(\"After function call\")\n",
        "         return wrapper\n",
        "\n",
        "     @decorator\n",
        "     def greet():\n",
        "         print(\"Hello, world!\")\n",
        "\n",
        "     greet()\n",
        "     ```\n",
        "   - Use cases: Logging, authentication, etc.  \n",
        "\n",
        "---\n",
        "\n",
        "## 10. **Generator Functions**  \n",
        "   - **Definition**: Functions that yield values one at a time, using `yield`.  \n",
        "   - Benefits: Memory-efficient for large data sets.  \n",
        "   - Example:  \n",
        "     ```python\n",
        "     def countdown(n):\n",
        "         while n > 0:\n",
        "             yield n\n",
        "             n -= 1\n",
        "     for num in countdown(5):\n",
        "         print(num)\n",
        "     ```\n",
        "\n",
        "---\n",
        "\n",
        "## 11. **Function Annotations**  \n",
        "   - **Definition**: Metadata for function parameters and return values.  \n",
        "   - Example:  \n",
        "     ```python\n",
        "     def greet(name: str) -> str:\n",
        "         return f\"Hello, {name}!\"\n",
        "     print(greet.__annotations__)  # Output: {'name': <class 'str'>, 'return': <class 'str'>}\n",
        "     ```\n",
        "\n",
        "---\n",
        "\n",
        "## 12. **Closures**  \n",
        "   - **Definition**: Functions that retain access to their enclosing scope's variables.  \n",
        "   - Example:  \n",
        "     ```python\n",
        "     def outer_function(text):\n",
        "         def inner_function():\n",
        "             print(text)\n",
        "         return inner_function\n",
        "\n",
        "     my_func = outer_function(\"Hello!\")\n",
        "     my_func()  # Output: Hello!\n",
        "     ```\n",
        "\n",
        "---\n",
        "\n",
        "## 13. **Practical Applications of Functions**  \n",
        "   - **Mathematical Operations**: Calculator using functions.  \n",
        "   - **Data Analysis**: Aggregating data with custom functions.  \n",
        "   - **Web Development**: Backend logic encapsulated in functions.  \n",
        "\n",
        "---\n",
        "\n",
        "## 14. **Advanced Concepts**  \n",
        "   - **Function Currying**:  \n",
        "     Transforming a function into a sequence of functions with single arguments.  \n",
        "     ```python\n",
        "     def multiply(x):\n",
        "         def inner(y):\n",
        "             return x * y\n",
        "         return inner\n",
        "\n",
        "     double = multiply(2)\n",
        "     print(double(5))  # Output: 10\n",
        "     ```\n",
        "   - **Asynchronous Functions** (`async/await`):  \n",
        "     Used for non-blocking operations.  \n",
        "     ```python\n",
        "     import asyncio\n",
        "     async def greet():\n",
        "         await asyncio.sleep(1)\n",
        "         print(\"Hello!\")\n",
        "     asyncio.run(greet())\n",
        "     ```\n",
        "\n",
        "---\n",
        "\n",
        "## 15. **Common Mistakes and Debugging Tips**  \n",
        "   - Forgetting `return`.  \n",
        "   - Misusing global/local variables.  \n",
        "   - Overusing recursion (stack overflow).  \n",
        "\n"
      ],
      "metadata": {
        "id": "a6FFS4DcrJ44"
      }
    },
    {
      "cell_type": "code",
      "source": [
        "def wc(name):\n",
        "  return f\"Hello,{name}!\"\n",
        "\n",
        "print(wc(\"Rajesh\"))\n",
        "print(wc(\"Ravi\"))"
      ],
      "metadata": {
        "colab": {
          "base_uri": "https://localhost:8080/"
        },
        "id": "MTb6Rb0r3tSF",
        "outputId": "cef6b5ac-feac-486b-e312-ee696f6d3076"
      },
      "execution_count": null,
      "outputs": [
        {
          "output_type": "stream",
          "name": "stdout",
          "text": [
            "Hello,Rajesh!\n",
            "Hello,Ravi!\n"
          ]
        }
      ]
    },
    {
      "cell_type": "code",
      "source": [
        "def sum_of_two_number(a,b):\n",
        "  return a+b\n",
        "\n",
        "result = sum_of_two_number(5,7)\n",
        "print(result)\n",
        "\n",
        "result1= sum_of_two_number(10,15)\n",
        "print(result1)"
      ],
      "metadata": {
        "colab": {
          "base_uri": "https://localhost:8080/"
        },
        "id": "5x0cKcbP4YqS",
        "outputId": "18dfccd1-00d9-416a-c9ee-4845c9396518"
      },
      "execution_count": null,
      "outputs": [
        {
          "output_type": "stream",
          "name": "stdout",
          "text": [
            "12\n",
            "25\n"
          ]
        }
      ]
    },
    {
      "cell_type": "markdown",
      "source": [],
      "metadata": {
        "id": "Hgz2engX6mNt"
      }
    },
    {
      "cell_type": "code",
      "source": [
        "square = lambda x: x**2"
      ],
      "metadata": {
        "id": "iEWwCK5k6gfE"
      },
      "execution_count": null,
      "outputs": []
    },
    {
      "cell_type": "code",
      "source": [
        "print(square(4))"
      ],
      "metadata": {
        "colab": {
          "base_uri": "https://localhost:8080/"
        },
        "id": "vOCO_Qw86zym",
        "outputId": "7185596d-c3e5-464c-d027-bb73a72224fc"
      },
      "execution_count": null,
      "outputs": [
        {
          "output_type": "stream",
          "name": "stdout",
          "text": [
            "16\n"
          ]
        }
      ]
    },
    {
      "cell_type": "code",
      "source": [
        "numbers = [1,2,3,4,5,6,7,8,9,10]\n",
        "squared_numbers = list(map(lambda x:x**2,numbers))\n",
        "print(squared_numbers)"
      ],
      "metadata": {
        "colab": {
          "base_uri": "https://localhost:8080/"
        },
        "id": "aAA0qAnm7Wq7",
        "outputId": "21d38600-66c9-4e87-bcd4-2c5d58694e10"
      },
      "execution_count": null,
      "outputs": [
        {
          "output_type": "stream",
          "name": "stdout",
          "text": [
            "[1, 4, 9, 16, 25, 36, 49, 64, 81, 100]\n"
          ]
        }
      ]
    },
    {
      "cell_type": "code",
      "source": [
        "numbers = [1,2,3,4,5,6,7,8,9,10]\n",
        "squared_numbers = list(filter(lambda x:x % 2 == 0,numbers))\n",
        "print(squared_numbers)"
      ],
      "metadata": {
        "colab": {
          "base_uri": "https://localhost:8080/"
        },
        "id": "-LFDeXE17xtQ",
        "outputId": "f7c51a36-db16-4e30-942b-554590bd610b"
      },
      "execution_count": null,
      "outputs": [
        {
          "output_type": "stream",
          "name": "stdout",
          "text": [
            "[2, 4, 6, 8, 10]\n"
          ]
        }
      ]
    },
    {
      "cell_type": "markdown",
      "source": [],
      "metadata": {
        "id": "r0DpJd236gHz"
      }
    },
    {
      "cell_type": "code",
      "source": [
        "def greet (name = \"Raju\"):\n",
        "  return f\"hello,{name}!\"\n",
        "\n",
        "print(greet())\n",
        "print(greet(\"Kumar\"))"
      ],
      "metadata": {
        "colab": {
          "base_uri": "https://localhost:8080/"
        },
        "id": "BczOplOt-JZv",
        "outputId": "e444d59b-1a5c-4269-880f-e1061c0d921d"
      },
      "execution_count": null,
      "outputs": [
        {
          "output_type": "stream",
          "name": "stdout",
          "text": [
            "hello,Raju!\n",
            "hello,Kumar!\n"
          ]
        }
      ]
    },
    {
      "cell_type": "code",
      "source": [
        "def introduce(first_name, Last_name):\n",
        "  return f\"My name is {first_name} {Last_name}\"\n",
        "\n",
        "print(introduce(\"Rajesh\",\"Kumar\"))"
      ],
      "metadata": {
        "colab": {
          "base_uri": "https://localhost:8080/"
        },
        "id": "8otQEWkI_Jn5",
        "outputId": "80bcdea2-4ae8-4d2a-904c-4e3cc975a0e0"
      },
      "execution_count": null,
      "outputs": [
        {
          "output_type": "stream",
          "name": "stdout",
          "text": [
            "My name is Rajesh Kumar\n"
          ]
        }
      ]
    },
    {
      "cell_type": "code",
      "source": [
        "def introduce(first_name, Last_name):\n",
        "  return f\"My name is {first_name} {Last_name}\"\n",
        "\n",
        "print(introduce(Last_name=\"Kumar\",first_name=\"Rajesh\"))"
      ],
      "metadata": {
        "colab": {
          "base_uri": "https://localhost:8080/"
        },
        "id": "KpxnsyRK_mCP",
        "outputId": "0cae196c-204c-4eea-e186-00642a1095a1"
      },
      "execution_count": null,
      "outputs": [
        {
          "output_type": "stream",
          "name": "stdout",
          "text": [
            "My name is Rajesh Kumar\n"
          ]
        }
      ]
    },
    {
      "cell_type": "code",
      "source": [
        "def sumall(*args):\n",
        "  total=0\n",
        "  for num in args:\n",
        "    total += num\n",
        "  return total\n",
        "\n",
        "print(sumall(1,2,3))\n",
        "print(sumall(1,2,3,4,5,6,7,8))"
      ],
      "metadata": {
        "colab": {
          "base_uri": "https://localhost:8080/"
        },
        "id": "SDNlUHifAjNU",
        "outputId": "3e83f9f0-9fb7-455e-cec1-0783f455237b"
      },
      "execution_count": null,
      "outputs": [
        {
          "output_type": "stream",
          "name": "stdout",
          "text": [
            "6\n",
            "36\n"
          ]
        }
      ]
    },
    {
      "cell_type": "code",
      "source": [
        "def display(**kwargs):\n",
        "  for key,value in kwargs.items():\n",
        "    print(f\"{key}={value}\")\n",
        "\n",
        "display(name=\"rajesh\",age=24,city=\"bangalore\")"
      ],
      "metadata": {
        "colab": {
          "base_uri": "https://localhost:8080/"
        },
        "id": "kJpeXkSGBU6Q",
        "outputId": "6a235627-374f-402e-e5d7-2f271ccdbf94"
      },
      "execution_count": null,
      "outputs": [
        {
          "output_type": "stream",
          "name": "stdout",
          "text": [
            "name=rajesh\n",
            "age=24\n",
            "city=bangalore\n"
          ]
        }
      ]
    },
    {
      "cell_type": "code",
      "source": [
        "x = \"I am global\"\n",
        "\n",
        "def local():\n",
        "  message = \" hello i am with in the function called loacal\"\n",
        "  print(message)\n",
        "  print(x)\n",
        "\n",
        "local()\n",
        "\n"
      ],
      "metadata": {
        "colab": {
          "base_uri": "https://localhost:8080/"
        },
        "id": "q-tEGYJKC1XL",
        "outputId": "f09051dd-cf39-4d2f-a103-7ed73a52b30a"
      },
      "execution_count": null,
      "outputs": [
        {
          "output_type": "stream",
          "name": "stdout",
          "text": [
            " hello i am with in the function called loacal\n",
            "I am global\n"
          ]
        }
      ]
    },
    {
      "cell_type": "code",
      "source": [
        "def outer():\n",
        "  x=0\n",
        "\n",
        "  def inner():\n",
        "    nonlocal x\n",
        "    x += 1\n",
        "    print(\"inner:\",x)\n",
        "  inner()\n",
        "  print(\"outer:\",x)\n",
        "\n",
        "outer()"
      ],
      "metadata": {
        "colab": {
          "base_uri": "https://localhost:8080/"
        },
        "id": "p3qPnXN6DlPY",
        "outputId": "bdda278d-fe32-48ad-98ec-33b4584a96a9"
      },
      "execution_count": null,
      "outputs": [
        {
          "output_type": "stream",
          "name": "stdout",
          "text": [
            "inner: 1\n",
            "outer: 1\n"
          ]
        }
      ]
    },
    {
      "cell_type": "markdown",
      "source": [
        "Function is like mini- machine\n",
        "\n",
        "we give this mini-machine some inputs\n",
        "-> it will do some work and gives you a result(output)\n",
        "\n",
        "the return statement is how the machine is going to give you the result"
      ],
      "metadata": {
        "id": "uEI9U2uz0w17"
      }
    },
    {
      "cell_type": "code",
      "source": [
        "def double_number(number):\n",
        "  result = number * 2\n",
        "  return result #10\n",
        "\n",
        "doubled_value = double_number(5)\n",
        "print(doubled_value)"
      ],
      "metadata": {
        "colab": {
          "base_uri": "https://localhost:8080/"
        },
        "id": "Y77_BX2i0f4w",
        "outputId": "a8709828-5505-4e5c-ba07-79fd48462ade"
      },
      "execution_count": null,
      "outputs": [
        {
          "output_type": "stream",
          "name": "stdout",
          "text": [
            "10\n"
          ]
        }
      ]
    },
    {
      "cell_type": "code",
      "source": [
        "def calculate_area(length,width):\n",
        "  area = length * width\n",
        "  return area\n",
        "\n",
        "\n",
        "def calculate_cost(area,price_per_square_meter):\n",
        "  cost = area * price_per_square_meter\n",
        "  return cost\n",
        "\n",
        "length = 5\n",
        "width = 3\n",
        "price =10\n",
        "\n",
        "area = calculate_area(length,width)\n",
        "total_cost = calculate_cost(area,price)\n",
        "\n",
        "print(\"Area\",area)\n",
        "print(\"Total Cost:\",total_cost)\n",
        "\n"
      ],
      "metadata": {
        "colab": {
          "base_uri": "https://localhost:8080/"
        },
        "id": "xXLTaGPn2x7A",
        "outputId": "9f0a20dd-2c4b-4ea3-fd6d-96ba7c283e71"
      },
      "execution_count": null,
      "outputs": [
        {
          "output_type": "stream",
          "name": "stdout",
          "text": [
            "Area 15\n",
            "Total Cost: 150\n"
          ]
        }
      ]
    },
    {
      "cell_type": "code",
      "source": [
        "def cal(a,b):\n",
        "  sum_of_numbers =a + b\n",
        "  difference_of_numbers = a - b\n",
        "  return sum_of_numbers,difference_of_numbers\n",
        "\n",
        "result = cal(10,5)\n",
        "print(result)"
      ],
      "metadata": {
        "colab": {
          "base_uri": "https://localhost:8080/"
        },
        "id": "bycc4o6w4d2e",
        "outputId": "bfb787a6-fd31-459d-be6b-4395771f2b6b"
      },
      "execution_count": null,
      "outputs": [
        {
          "output_type": "stream",
          "name": "stdout",
          "text": [
            "(15, 5)\n"
          ]
        }
      ]
    },
    {
      "cell_type": "code",
      "source": [
        "''' Function Recursion\n",
        "Definition: A function calling itself to solve smaller subproblems.\n",
        "Base Case and Recursive Case: Prevent infinite recursion.\n",
        "Example: Factorial Calculation\n",
        "def factorial(n):\n",
        "    if n == 1:\n",
        "        return 1\n",
        "    return n * factorial(n - 1)\n",
        "print(factorial(5))  # Output: 120'''"
      ],
      "metadata": {
        "id": "FMGSxtCt5pNv"
      },
      "execution_count": null,
      "outputs": []
    },
    {
      "cell_type": "code",
      "source": [
        "def factorial(n):\n",
        "  if n == 1:\n",
        "    return 1\n",
        "  return n * factorial(n-1)\n",
        "\n",
        "print(factorial(5))"
      ],
      "metadata": {
        "colab": {
          "base_uri": "https://localhost:8080/"
        },
        "id": "PJl13Bj45xIg",
        "outputId": "ab573edf-fc42-48d3-f7a3-355fc2e41c34"
      },
      "execution_count": null,
      "outputs": [
        {
          "output_type": "stream",
          "name": "stdout",
          "text": [
            "120\n"
          ]
        }
      ]
    },
    {
      "cell_type": "markdown",
      "source": [
        "Higher-Order Functions\n",
        "Definition: Functions that take other functions as arguments or return them.\n",
        "Examples: map(), filter(), reduce()\n",
        "Usage:\n",
        "numbers = [1, 2, 3, 4]\n",
        "squares = list(map(lambda x: x ** 2, numbers))\n",
        "print(squares)  # Output: [1, 4, 9, 16]"
      ],
      "metadata": {
        "id": "SVQloPWQ7Ovq"
      }
    },
    {
      "cell_type": "markdown",
      "source": [
        "Decorators\n",
        "Definition: A way to modify or extend the behavior of a function.\n",
        "\n",
        "Syntax:\n",
        "\n",
        "def decorator(func):\n",
        "    def wrapper():\n",
        "        print(\"Before function call\")\n",
        "        func()\n",
        "        print(\"After function call\")\n",
        "    return wrapper\n",
        "\n",
        "@decorator\n",
        "def greet():\n",
        "    print(\"Hello, world!\")\n",
        "\n",
        "greet()"
      ],
      "metadata": {
        "id": "uhzs8U4A9J_L"
      }
    },
    {
      "cell_type": "markdown",
      "source": [
        "What happens when you run greet():\n",
        "\n",
        "The decorator function is called with greet() as the argument.\n",
        "\n",
        "The wrapper function is created inside decorator.\n",
        "\n",
        "The wrapper function prints \"Before function call\".\n",
        "\n",
        "The wrapper function calls the original greet() function, which prints \"Hello, world!\".\n",
        "\n",
        "The wrapper function prints \"After function call\".\n",
        "\n",
        "The decorator function returns the wrapper function.\n",
        "\n",
        "The @decorator syntax effectively reassigns greet to now point to the returned wrapper function.\n",
        "\n",
        "When we call greet(), we are actually calling the wrapper."
      ],
      "metadata": {
        "id": "rwpV5WG0-Yba"
      }
    },
    {
      "cell_type": "code",
      "source": [
        "def decorator(func):\n",
        "    def wrapper():\n",
        "        print(\"Before function call\")\n",
        "        func()\n",
        "        print(\"After function call\")\n",
        "    return wrapper\n",
        "\n",
        "@decorator\n",
        "def greet():\n",
        "    print(\"Hello, world!\")\n",
        "\n",
        "greet()"
      ],
      "metadata": {
        "colab": {
          "base_uri": "https://localhost:8080/"
        },
        "id": "VnDfinJL9JoP",
        "outputId": "b89671e5-2cdd-42fb-f7e7-59867c167099"
      },
      "execution_count": null,
      "outputs": [
        {
          "output_type": "stream",
          "name": "stdout",
          "text": [
            "Before function call\n",
            "Hello, world!\n",
            "After function call\n"
          ]
        }
      ]
    },
    {
      "cell_type": "markdown",
      "source": [
        "Generator Functions\n",
        "Definition: Functions that yield values one at a time, using yield.\n",
        "Benefits: Memory-efficient for large data sets.\n",
        "Example:\n",
        "def countdown(n):\n",
        "    while n > 0:\n",
        "        yield n\n",
        "        n -= 1\n",
        "for num in countdown(5):\n",
        "    print(num)"
      ],
      "metadata": {
        "id": "qSDAPt-4A1iD"
      }
    },
    {
      "cell_type": "code",
      "source": [
        "def countdown(n):\n",
        "    while n > 0:\n",
        "        yield n\n",
        "        n -= 1\n",
        "for num in countdown(5):\n",
        "    print(num)"
      ],
      "metadata": {
        "colab": {
          "base_uri": "https://localhost:8080/"
        },
        "id": "t3nAnEiWA1TS",
        "outputId": "157149cf-f62b-4c79-9c18-332f47e05beb"
      },
      "execution_count": null,
      "outputs": [
        {
          "output_type": "stream",
          "name": "stdout",
          "text": [
            "5\n",
            "4\n",
            "3\n",
            "2\n",
            "1\n"
          ]
        }
      ]
    }
  ]
}