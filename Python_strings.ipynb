{
  "nbformat": 4,
  "nbformat_minor": 0,
  "metadata": {
    "colab": {
      "provenance": [],
      "authorship_tag": "ABX9TyNP6vdo3boN/oSjQDYRibri",
      "include_colab_link": true
    },
    "kernelspec": {
      "name": "python3",
      "display_name": "Python 3"
    },
    "language_info": {
      "name": "python"
    }
  },
  "cells": [
    {
      "cell_type": "markdown",
      "metadata": {
        "id": "view-in-github",
        "colab_type": "text"
      },
      "source": [
        "<a href=\"https://colab.research.google.com/github/sateeshlevelup/python/blob/main/Python_strings.ipynb\" target=\"_parent\"><img src=\"https://colab.research.google.com/assets/colab-badge.svg\" alt=\"Open In Colab\"/></a>"
      ]
    },
    {
      "cell_type": "markdown",
      "source": [],
      "metadata": {
        "id": "yeZ0la_TkzpQ"
      }
    },
    {
      "cell_type": "markdown",
      "source": [
        "# Basics of Strings in Python\n",
        "What are Strings?\n",
        "\n",
        "A string is a sequence of characters enclosed in single quotes ' ', double quotes \" \", or triple quotes ''' ''' or \"\"\" \"\"\".\n",
        "\n",
        "Strings are immutable, meaning they cannot be changed after creation."
      ],
      "metadata": {
        "id": "9xBDOX8mIaF2"
      }
    },
    {
      "cell_type": "code",
      "source": [],
      "metadata": {
        "id": "SbiOZCRh859t"
      },
      "execution_count": null,
      "outputs": []
    },
    {
      "cell_type": "code",
      "execution_count": null,
      "metadata": {
        "id": "aksgn_5YIOy1"
      },
      "outputs": [],
      "source": [
        "a = 'LevelUP'\n",
        "prin"
      ]
    },
    {
      "cell_type": "code",
      "source": [
        "a = \"levelup\""
      ],
      "metadata": {
        "id": "H2zw-qz9MDpP"
      },
      "execution_count": null,
      "outputs": []
    },
    {
      "cell_type": "code",
      "source": [
        "a = ''' i am learning\n",
        "python\n",
        "in levelup'''"
      ],
      "metadata": {
        "id": "kV3BK_l_MHHS"
      },
      "execution_count": null,
      "outputs": []
    },
    {
      "cell_type": "markdown",
      "source": [
        "\n",
        "\n",
        "---\n",
        "\n",
        "## **2. In-Built Methods for Strings**\n",
        "\n",
        "### **String Methods with Examples**\n",
        "\n",
        "| **Method**        | **Description**                                                                                         | **Example**                                                                                                         |\n",
        "|--------------------|---------------------------------------------------------------------------------------------------------|---------------------------------------------------------------------------------------------------------------------|\n",
        "| `capitalize()`    | Capitalizes the first character.                                                                       | `'python'.capitalize()` → `'Python'`                                                                               |\n",
        "| `casefold()`      | Converts the string to lowercase (more aggressive than `lower()`).                                      | `'Python3'.casefold()` → `'python3'`                                                                                |\n",
        "| `center(width)`   | Centers the string within the given width.                                                             | `'Python'.center(10)` → `'  Python  '`                                                                             |\n",
        "| `count(sub)`      | Counts occurrences of a substring.                                                                     | `'banana'.count('a')` → `3`                                                                                        |\n",
        "| `endswith(suffix)`| Checks if the string ends with a suffix.                                                               | `'example.txt'.endswith('.txt')` → `True`                                                                          |\n",
        "| `find(sub)`       | Finds the first occurrence of a substring. Returns `-1` if not found.                                   | `'hello'.find('l')` → `2`                                                                                          |\n",
        "| `format()`        | Formats the string with placeholders.                                                                  | `'Hello, {}'.format('World')` → `'Hello, World'`                                                                   |\n",
        "| `index(sub)`      | Finds the first occurrence of a substring. Raises `ValueError` if not found.                            | `'hello'.index('l')` → `2`                                                                                         |\n",
        "| `isalnum()`       | Checks if the string is alphanumeric.                                                                  | `'abc123'.isalnum()` → `True`                                                                                      |\n",
        "| `isalpha()`       | Checks if the string contains only alphabets.                                                          | `'abc'.isalpha()` → `True`                                                                                         |\n",
        "| `isdigit()`       | Checks if the string contains only digits.                                                             | `'123'.isdigit()` → `True`                                                                                        |\n",
        "| `islower()`       | Checks if the string is in lowercase.                                                                  | `'python'.islower()` → `True`                                                                                      |\n",
        "| `isupper()`       | Checks if the string is in uppercase.                                                                  | `'PYTHON'.isupper()` → `True`                                                                                      |\n",
        "| `join(iterable)`  | Joins elements of an iterable with the string as a separator.                                          | `', '.join(['Python', 'is', 'fun'])` → `'Python, is, fun'`                                                         |\n",
        "| `lower()`         | Converts the string to lowercase.                                                                      | `'PYTHON'.lower()` → `'python'`                                                                                    |\n",
        "| `upper()`         | Converts the string to uppercase.                                                                      | `'python'.upper()` → `'PYTHON'`                                                                                    |\n",
        "| `replace(old, new)`| Replaces occurrences of a substring with another substring.                                           | `'hello world'.replace('world', 'Python')` → `'hello Python'`                                                      |\n",
        "| `split(sep)`      | Splits the string into a list based on a separator.                                                    | `'a,b,c'.split(',')` → `['a', 'b', 'c']`                                                                           |\n",
        "| `strip()`         | Removes leading and trailing whitespace.                                                              | `'  hello  '.strip()` → `'hello'`                                                                                  |\n",
        "| `startswith(prefix)`| Checks if the string starts with a prefix.                                                          | `'hello'.startswith('he')` → `True`                                                                                |\n",
        "| `swapcase()`      | Swaps the case of characters.                                                                          | `'Python'.swapcase()` → `'pYTHON'`                                                                                 |\n",
        "| `title()`         | Converts the string to title case.                                                                     | `'hello world'.title()` → `'Hello World'`                                                                          |\n",
        "| `zfill(width)`    | Pads the string on the left with zeros to match the specified width.                                   | `'42'.zfill(5)` → `'00042'`                                                                                        |\n",
        "\n"
      ],
      "metadata": {
        "id": "msvxMjMpImyj"
      }
    },
    {
      "cell_type": "code",
      "source": [
        "text = 'levelUP'\n",
        "print(text.capitalize())"
      ],
      "metadata": {
        "colab": {
          "base_uri": "https://localhost:8080/"
        },
        "id": "s3zCEKCwIhRm",
        "outputId": "ff8ead71-52b3-4148-9882-ac6659a29bbd"
      },
      "execution_count": null,
      "outputs": [
        {
          "output_type": "stream",
          "name": "stdout",
          "text": [
            "Levelup\n"
          ]
        }
      ]
    },
    {
      "cell_type": "code",
      "source": [
        "text = \"LEVELUP\"\n",
        "print(text.casefold())"
      ],
      "metadata": {
        "colab": {
          "base_uri": "https://localhost:8080/"
        },
        "id": "HJkDGZUQM65o",
        "outputId": "210d7f69-96cf-4990-e92f-1ca40b8340a8"
      },
      "execution_count": null,
      "outputs": [
        {
          "output_type": "stream",
          "name": "stdout",
          "text": [
            "levelup\n"
          ]
        }
      ]
    },
    {
      "cell_type": "code",
      "source": [
        "text = 'LevelUP'\n",
        "print(text)"
      ],
      "metadata": {
        "colab": {
          "base_uri": "https://localhost:8080/"
        },
        "id": "EyzIVk8rbH41",
        "outputId": "a0edab43-1c95-42f5-8156-84912ec4a7f1"
      },
      "execution_count": null,
      "outputs": [
        {
          "output_type": "stream",
          "name": "stdout",
          "text": [
            "LevelUP\n"
          ]
        }
      ]
    },
    {
      "cell_type": "code",
      "source": [
        "text = 'LevelUP'\n",
        "print(text.center(50))"
      ],
      "metadata": {
        "colab": {
          "base_uri": "https://localhost:8080/"
        },
        "id": "oGEy4U4pNJQW",
        "outputId": "20931add-2002-4bbc-9d7c-ccb429009a55"
      },
      "execution_count": null,
      "outputs": [
        {
          "output_type": "stream",
          "name": "stdout",
          "text": [
            "                     LevelUP                      \n"
          ]
        }
      ]
    },
    {
      "cell_type": "code",
      "source": [
        "text = \"i am leaerning python at levelup\"\n",
        "print(text.count('a'))"
      ],
      "metadata": {
        "colab": {
          "base_uri": "https://localhost:8080/"
        },
        "id": "IWbLWp1CNen4",
        "outputId": "4dee2fa5-e160-4b75-d1d3-350ba1f5bec0"
      },
      "execution_count": null,
      "outputs": [
        {
          "output_type": "stream",
          "name": "stdout",
          "text": [
            "3\n"
          ]
        }
      ]
    },
    {
      "cell_type": "code",
      "source": [
        "text = 'levelup.txt'\n",
        "print(text.endswith('.txt'))"
      ],
      "metadata": {
        "colab": {
          "base_uri": "https://localhost:8080/"
        },
        "id": "AW5q_8yVNxln",
        "outputId": "a9f590c4-4a0a-4756-c02d-9f9c393d1a2c"
      },
      "execution_count": null,
      "outputs": [
        {
          "output_type": "stream",
          "name": "stdout",
          "text": [
            "True\n"
          ]
        }
      ]
    },
    {
      "cell_type": "code",
      "source": [
        "text = 'levelup'\n",
        "print(text.find('u'))"
      ],
      "metadata": {
        "colab": {
          "base_uri": "https://localhost:8080/"
        },
        "id": "thMbSDb-OJak",
        "outputId": "ee7aea4c-70eb-493f-9140-c6b3d9e79b6b"
      },
      "execution_count": null,
      "outputs": [
        {
          "output_type": "stream",
          "name": "stdout",
          "text": [
            "5\n"
          ]
        }
      ]
    },
    {
      "cell_type": "code",
      "source": [
        "text = 'hello {}'\n",
        "print(text.format('LevelUP'))"
      ],
      "metadata": {
        "colab": {
          "base_uri": "https://localhost:8080/"
        },
        "id": "9ELctizEOtgR",
        "outputId": "079f301f-0fa0-4d19-f032-1583f10e6cf1"
      },
      "execution_count": null,
      "outputs": [
        {
          "output_type": "stream",
          "name": "stdout",
          "text": [
            "hello LevelUP\n"
          ]
        }
      ]
    },
    {
      "cell_type": "code",
      "source": [],
      "metadata": {
        "id": "YacWTFlvcHaq"
      },
      "execution_count": null,
      "outputs": []
    },
    {
      "cell_type": "markdown",
      "source": [],
      "metadata": {
        "id": "eyCb8RU_O7ZF"
      }
    },
    {
      "cell_type": "code",
      "source": [
        "text = \"levelup\"\n",
        "print(text.index('u'))"
      ],
      "metadata": {
        "colab": {
          "base_uri": "https://localhost:8080/"
        },
        "id": "hrMSWkxRO84s",
        "outputId": "318f2a28-1dee-4c47-d79f-8a57c6b72e1c"
      },
      "execution_count": null,
      "outputs": [
        {
          "output_type": "stream",
          "name": "stdout",
          "text": [
            "5\n"
          ]
        }
      ]
    },
    {
      "cell_type": "code",
      "source": [
        "# isalnum\n",
        "text = \"1abc23\"\n",
        "print(text.isalnum())"
      ],
      "metadata": {
        "colab": {
          "base_uri": "https://localhost:8080/"
        },
        "id": "u3WTeALyPP-w",
        "outputId": "748b1d0a-c854-4584-eb78-78b5ba1b6209"
      },
      "execution_count": null,
      "outputs": [
        {
          "output_type": "stream",
          "name": "stdout",
          "text": [
            "True\n"
          ]
        }
      ]
    },
    {
      "cell_type": "code",
      "source": [
        "#isalpha\n",
        "text = \"abcdihfgj\"\n",
        "print(text.isalpha())"
      ],
      "metadata": {
        "colab": {
          "base_uri": "https://localhost:8080/"
        },
        "id": "d18PYBATPj1w",
        "outputId": "ad0d1d70-4be5-4686-dc42-43f8488b26b2"
      },
      "execution_count": null,
      "outputs": [
        {
          "output_type": "stream",
          "name": "stdout",
          "text": [
            "True\n"
          ]
        }
      ]
    },
    {
      "cell_type": "code",
      "source": [
        "#isdigit\n",
        "\n",
        "text = \"123\"\n",
        "print(text.isdigit())"
      ],
      "metadata": {
        "colab": {
          "base_uri": "https://localhost:8080/"
        },
        "id": "w1jw6vr8Pxrx",
        "outputId": "0f9c8170-9b19-4167-8102-0ae8b0a4b53c"
      },
      "execution_count": null,
      "outputs": [
        {
          "output_type": "stream",
          "name": "stdout",
          "text": [
            "True\n"
          ]
        }
      ]
    },
    {
      "cell_type": "code",
      "source": [
        "#islower\n",
        "text = \"levelup\"\n",
        "print(text.islower())"
      ],
      "metadata": {
        "colab": {
          "base_uri": "https://localhost:8080/"
        },
        "id": "kPjIMK_KP8sk",
        "outputId": "a2158bf8-b75f-41c2-e62c-946589f97ee4"
      },
      "execution_count": null,
      "outputs": [
        {
          "output_type": "stream",
          "name": "stdout",
          "text": [
            "True\n"
          ]
        }
      ]
    },
    {
      "cell_type": "code",
      "source": [
        "#isupper\n",
        "text = \"LEVELUP\"\n",
        "print(text.isupper())"
      ],
      "metadata": {
        "colab": {
          "base_uri": "https://localhost:8080/"
        },
        "id": "8HRF4TDdQH7w",
        "outputId": "3ccc2ac3-5feb-4105-c4c2-aeecd35d0a17"
      },
      "execution_count": null,
      "outputs": [
        {
          "output_type": "stream",
          "name": "stdout",
          "text": [
            "True\n"
          ]
        }
      ]
    },
    {
      "cell_type": "code",
      "source": [
        "#join it will convert list to string\n",
        "word = [\"levelup\",\"learning\",\"python\",\"is\",\"fun\"]\n",
        "print(word)\n",
        "print(\" \".join(word))"
      ],
      "metadata": {
        "colab": {
          "base_uri": "https://localhost:8080/"
        },
        "id": "RTXStO_yS7Ra",
        "outputId": "4a551774-672d-4bb9-9b03-f1d0d06f0cbf"
      },
      "execution_count": null,
      "outputs": [
        {
          "output_type": "stream",
          "name": "stdout",
          "text": [
            "['levelup', 'learning', 'python', 'is', 'fun']\n",
            "levelup learning python is fun\n"
          ]
        }
      ]
    },
    {
      "cell_type": "code",
      "source": [
        "#lower\n",
        "\n",
        "text = \"LEVELUP\"\n",
        "print(text.lower())"
      ],
      "metadata": {
        "colab": {
          "base_uri": "https://localhost:8080/"
        },
        "id": "1RiUyWjYTNQv",
        "outputId": "ec6bdea3-3b73-47bb-a970-8a1a2cf885fa"
      },
      "execution_count": null,
      "outputs": [
        {
          "output_type": "stream",
          "name": "stdout",
          "text": [
            "levelup\n"
          ]
        }
      ]
    },
    {
      "cell_type": "code",
      "source": [
        "#upper\n",
        "text = \"levelup\"\n",
        "print(text.upper())"
      ],
      "metadata": {
        "colab": {
          "base_uri": "https://localhost:8080/"
        },
        "id": "uNbDdKcFTTJl",
        "outputId": "ed668735-00c6-4ac2-ebe4-532c5a5c066e"
      },
      "execution_count": null,
      "outputs": [
        {
          "output_type": "stream",
          "name": "stdout",
          "text": [
            "LEVELUP\n"
          ]
        }
      ]
    },
    {
      "cell_type": "code",
      "source": [
        "# replace\n",
        "\n",
        "text = \" today i am learning python and python is very good language\"\n",
        "\n",
        "print(text.replace(\"python\",\"Gen ai\"))"
      ],
      "metadata": {
        "colab": {
          "base_uri": "https://localhost:8080/"
        },
        "id": "VpCuCj31Tdpe",
        "outputId": "9f7e84a1-c333-45de-8b83-bae4378a1beb"
      },
      "execution_count": null,
      "outputs": [
        {
          "output_type": "stream",
          "name": "stdout",
          "text": [
            " today i am learning Gen ai and Gen ai is very good language\n"
          ]
        }
      ]
    },
    {
      "cell_type": "code",
      "source": [
        "# split will convert string to list\n",
        "text = \"learning python in levelup is fun\"\n",
        "print(text.split())"
      ],
      "metadata": {
        "colab": {
          "base_uri": "https://localhost:8080/"
        },
        "id": "VPR2OYJFT2jX",
        "outputId": "df8c825d-f878-46f1-8061-7d907a1dea8a"
      },
      "execution_count": null,
      "outputs": [
        {
          "output_type": "stream",
          "name": "stdout",
          "text": [
            "['learning', 'python', 'in', 'levelup', 'is', 'fun']\n"
          ]
        }
      ]
    },
    {
      "cell_type": "code",
      "source": [
        "# strip()\n",
        "text = \"  levelup  \"\n",
        "print(text)\n",
        "print(text.strip())"
      ],
      "metadata": {
        "colab": {
          "base_uri": "https://localhost:8080/"
        },
        "id": "E8qnGnDVUISG",
        "outputId": "52f2ada9-a016-4640-99f0-f09e5a07b1af"
      },
      "execution_count": null,
      "outputs": [
        {
          "output_type": "stream",
          "name": "stdout",
          "text": [
            "  lev elup  \n",
            "lev elup\n"
          ]
        }
      ]
    },
    {
      "cell_type": "code",
      "source": [
        "#startswith\n",
        "text = \"levelup\"\n",
        "print(text.startswith(\"l\"))"
      ],
      "metadata": {
        "colab": {
          "base_uri": "https://localhost:8080/"
        },
        "id": "lLv0HPuUUiEM",
        "outputId": "ed60d268-fc09-4937-91c3-fcec5063d179"
      },
      "execution_count": null,
      "outputs": [
        {
          "output_type": "stream",
          "name": "stdout",
          "text": [
            "True\n"
          ]
        }
      ]
    },
    {
      "cell_type": "code",
      "source": [
        "# swapcase\n",
        "\n",
        "text = \"LevelUp\"\n",
        "print(text.swapcase())"
      ],
      "metadata": {
        "colab": {
          "base_uri": "https://localhost:8080/"
        },
        "id": "Eg61ejZXUuaD",
        "outputId": "101c3c82-648c-4aa6-8a39-163849b11207"
      },
      "execution_count": null,
      "outputs": [
        {
          "output_type": "stream",
          "name": "stdout",
          "text": [
            "lEVELuP\n"
          ]
        }
      ]
    },
    {
      "cell_type": "code",
      "source": [
        "#title\n",
        "text = \"levelup learning python is fun\"\n",
        "print(text.title())"
      ],
      "metadata": {
        "colab": {
          "base_uri": "https://localhost:8080/"
        },
        "id": "nPWwxyV7U5yg",
        "outputId": "3827ed9d-06c2-4eb5-ac45-e152661de095"
      },
      "execution_count": null,
      "outputs": [
        {
          "output_type": "stream",
          "name": "stdout",
          "text": [
            "Levelup Learning Python Is Fun\n"
          ]
        }
      ]
    },
    {
      "cell_type": "code",
      "source": [
        "# zfill\n",
        "text ='142'\n",
        "print(text.zfill(15))"
      ],
      "metadata": {
        "colab": {
          "base_uri": "https://localhost:8080/"
        },
        "id": "LQ2j_YWRVE8j",
        "outputId": "15864e6b-aacc-4698-e895-a5f1bddbfdfe"
      },
      "execution_count": null,
      "outputs": [
        {
          "output_type": "stream",
          "name": "stdout",
          "text": [
            "000000000000142\n"
          ]
        }
      ]
    },
    {
      "cell_type": "code",
      "source": [],
      "metadata": {
        "id": "XBF080iVV6Wg"
      },
      "execution_count": null,
      "outputs": []
    },
    {
      "cell_type": "code",
      "source": [],
      "metadata": {
        "id": "VsPcZUt1V6qH"
      },
      "execution_count": null,
      "outputs": []
    },
    {
      "cell_type": "code",
      "source": [],
      "metadata": {
        "id": "8cAgW7B7V641"
      },
      "execution_count": null,
      "outputs": []
    },
    {
      "cell_type": "markdown",
      "source": [
        "\n",
        "\n",
        "| **Operation**             | **Description**                                                                 | **Example**                                                                 |\n",
        "|---------------------------|---------------------------------------------------------------------------------|-----------------------------------------------------------------------------|\n",
        "| **Concatenation (`+`)**   | Combines two or more strings into one.                                          | `'Hello' + ' World'` → `'Hello World'`                                      |\n",
        "| **Repetition (`*`)**      | Repeats a string a specified number of times.                                   | `'Python ' * 3` → `'Python Python Python '`                                 |\n",
        "| **Indexing**              | Accesses a character by its index (starts from 0).                              | `'Python'[0]` → `'P'`                                                       |\n",
        "| **Slicing (`[:]`)**       | Extracts a portion of a string using start and end indices.                     | `'Python'[1:4]` → `'yth'`                                                   |\n",
        "| **Length (`len()`)**      | Returns the length of the string.                                               | `len('Python')` → `6`                                                       |\n",
        "| **Membership (`in`)**     | Checks if a substring exists in a string.                                       | `'Py' in 'Python'` → `True`                                                 |\n",
        "| **Not Membership (`not in`)**| Checks if a substring does not exist in a string.                            | `'Java' not in 'Python'` → `True`                                           |\n",
        "| **Comparison (`==`)**     | Checks if two strings are equal.                                                | `'abc' == 'abc'` → `True`                                                   |\n",
        "| **Not Equal (`!=`)**      | Checks if two strings are not equal.                                            | `'abc' != 'xyz'` → `True`                                                   |\n",
        "| **Greater Than (`>`)**    | Compares strings lexicographically (alphabetical order).                        | `'abc' > 'xyz'` → `False`                                                   |\n",
        "| **Less Than (`<`)**       | Compares strings lexicographically.                                             | `'abc' < 'xyz'` → `True`                                                    |\n",
        "| **Greater or Equal (`>=`)**| Checks if one string is greater than or equal to another lexicographically.    | `'abc' >= 'abc'` → `True`                                                   |\n",
        "| **Less or Equal (`<=`)**  | Checks if one string is less than or equal to another lexicographically.        | `'abc' <= 'xyz'` → `True`                                                   |\n",
        "| **String Methods**        | Applies various built-in methods (e.g., `.upper()`, `.strip()`).                | `'hello'.upper()` → `'HELLO'`                                               |\n",
        "| **Escape Characters**     | Inserts special characters like newline (`\\n`), tab (`\\t`), etc.                | `'Hello\\nWorld'` → <br>`Hello` <br>`World`                                  |\n",
        "| **Raw String (`r''`)**    | Prevents escape sequences from being processed.                                 | `r'C:\\path\\to\\file'` → `'C:\\\\path\\\\to\\\\file'`                               |\n",
        "| **Format (`f-string`)**   | Embeds expressions or variables inside a string.                                | `name = 'Alice'; f'Hello, {name}!'` → `'Hello, Alice!'`                     |\n",
        "| **Multiline Strings**     | Uses triple quotes to span a string across multiple lines.                      | `'''Line 1\\nLine 2'''` → <br>`Line 1` <br>`Line 2`                          |\n",
        "| **Case Conversion**       | Converts a string to lowercase, uppercase, or title case using methods.         | `'hello'.upper()` → `'HELLO'`                                               |\n",
        "| **String Iteration**      | Iterates over each character in a string using a loop.                          | `for c in 'Python': print(c)` → `P, y, t, h, o, n` (each on a new line).    |\n",
        "| **String Splitting**      | Splits a string into a list of substrings.                                      | `'a,b,c'.split(',')` → `['a', 'b', 'c']`                                    |\n",
        "| **Joining Strings**       | Joins an iterable of strings using a separator.                                | `'-'.join(['a', 'b', 'c'])` → `'a-b-c'`                                     |\n",
        "| **Reverse a String**      | Reverses a string using slicing.                                                | `'Python'[::-1]` → `'nohtyP'`                                               |\n",
        "\n"
      ],
      "metadata": {
        "id": "m4DYdDNNV7O9"
      }
    },
    {
      "cell_type": "code",
      "source": [
        "text = \"i am learning\"\n",
        "text1 = \"python at levelup\"\n",
        "\n",
        "result = text +\" \"+ text1\n",
        "print(result)\n"
      ],
      "metadata": {
        "colab": {
          "base_uri": "https://localhost:8080/"
        },
        "id": "GZ375jPlW9he",
        "outputId": "ef1da2ce-2d6c-4d83-dfcd-6829ba6f21bf"
      },
      "execution_count": null,
      "outputs": [
        {
          "output_type": "stream",
          "name": "stdout",
          "text": [
            "i am learning python at levelup\n"
          ]
        }
      ]
    },
    {
      "cell_type": "code",
      "source": [
        "text = \"LevelUP \"\n",
        "result =text*5\n",
        "print(result)"
      ],
      "metadata": {
        "colab": {
          "base_uri": "https://localhost:8080/"
        },
        "id": "D5R9GrEsXVGs",
        "outputId": "ab9e01c8-4ec1-4921-f8e7-2b637e7fde9e"
      },
      "execution_count": null,
      "outputs": [
        {
          "output_type": "stream",
          "name": "stdout",
          "text": [
            "LevelUP LevelUP LevelUP LevelUP LevelUP \n"
          ]
        }
      ]
    },
    {
      "cell_type": "markdown",
      "source": [
        "L e v e L U  P\n",
        "\n",
        "0 1 2 3 4 5  6\n",
        "\n",
        "         -2  -1    "
      ],
      "metadata": {
        "id": "UERre67GXkPq"
      }
    },
    {
      "cell_type": "code",
      "source": [
        "text = \"levelUP\"\n",
        "print(text[0])\n",
        "print(text[1])\n",
        "print(text[-1])\n",
        "print(text[-2])"
      ],
      "metadata": {
        "colab": {
          "base_uri": "https://localhost:8080/"
        },
        "id": "9rQiScmtXkA2",
        "outputId": "145c9a6e-3f94-4b7d-827e-89a84e45caab"
      },
      "execution_count": null,
      "outputs": [
        {
          "output_type": "stream",
          "name": "stdout",
          "text": [
            "l\n",
            "e\n",
            "P\n",
            "U\n"
          ]
        }
      ]
    },
    {
      "cell_type": "code",
      "source": [
        "#slicing\n",
        "text = \"levelUP\"\n",
        "print(text[0:2])\n",
        "print(text[:2]) # -> [0:2]\n",
        "print(text[2:5])\n",
        "print(text[:-2])\n",
        "\n"
      ],
      "metadata": {
        "colab": {
          "base_uri": "https://localhost:8080/"
        },
        "id": "r9_Iv9P6Xi61",
        "outputId": "1ab503b1-0da1-49a5-aa00-ea6202c42df3"
      },
      "execution_count": null,
      "outputs": [
        {
          "output_type": "stream",
          "name": "stdout",
          "text": [
            "le\n",
            "le\n",
            "vel\n",
            "level\n"
          ]
        }
      ]
    },
    {
      "cell_type": "code",
      "source": [
        "#slicing\n",
        "text = \"levelUP\"\n",
        "\n",
        "print(text[:2])\n",
        "print(text[2:])\n",
        "\n"
      ],
      "metadata": {
        "colab": {
          "base_uri": "https://localhost:8080/"
        },
        "id": "CQpu3rwbfoqL",
        "outputId": "7b914523-2a80-42c5-cbb7-2c1aa969faca"
      },
      "execution_count": null,
      "outputs": [
        {
          "output_type": "stream",
          "name": "stdout",
          "text": [
            "le\n",
            "velUP\n"
          ]
        }
      ]
    },
    {
      "cell_type": "code",
      "source": [
        "str1 = \"programming\"\n",
        "print(str1[-4:])\n",
        "print(str1[:-2])"
      ],
      "metadata": {
        "colab": {
          "base_uri": "https://localhost:8080/"
        },
        "id": "qa4GDnQ-f4UR",
        "outputId": "02ef5fdf-bfc1-4726-9e19-15592a0b7c94"
      },
      "execution_count": null,
      "outputs": [
        {
          "output_type": "stream",
          "name": "stdout",
          "text": [
            "ming\n",
            "programmi\n"
          ]
        }
      ]
    },
    {
      "cell_type": "code",
      "source": [
        "#step slicing\n",
        "\n",
        "str1 = \"abcdefgh\"\n",
        "#[start:end:step]\n",
        "print(str1[::2])\n",
        "\n",
        "print(str1[1::3])"
      ],
      "metadata": {
        "colab": {
          "base_uri": "https://localhost:8080/"
        },
        "id": "UMDxQUVTgJ6_",
        "outputId": "42e8f76e-965d-4f41-d32b-1f7f6f875135"
      },
      "execution_count": null,
      "outputs": [
        {
          "output_type": "stream",
          "name": "stdout",
          "text": [
            "aceg\n",
            "beh\n"
          ]
        }
      ]
    },
    {
      "cell_type": "markdown",
      "source": [
        "[start:end:step]\n",
        "\n",
        "start is not provided so it defaults to 0\n",
        "end is also not provided so it daults to the leanght of the string\n",
        "step is 2"
      ],
      "metadata": {
        "id": "xYAL6kPNg1yF"
      }
    },
    {
      "cell_type": "code",
      "source": [
        "str1 = \"programming\"\n",
        "print(str1[::-1])"
      ],
      "metadata": {
        "colab": {
          "base_uri": "https://localhost:8080/"
        },
        "id": "XGJRQkxLg1SI",
        "outputId": "4c6d68f8-9b78-41a1-a76c-88358cabb104"
      },
      "execution_count": null,
      "outputs": [
        {
          "output_type": "stream",
          "name": "stdout",
          "text": [
            "gnimmargorp\n"
          ]
        }
      ]
    },
    {
      "cell_type": "code",
      "source": [
        "# lenght\n",
        "t = \"i am in very good pace to learn python today\"\n",
        "print(len(t))"
      ],
      "metadata": {
        "colab": {
          "base_uri": "https://localhost:8080/"
        },
        "id": "nKz5tXTpg0VK",
        "outputId": "79a06459-c228-4400-9c56-34f6ffaee8ff"
      },
      "execution_count": null,
      "outputs": [
        {
          "output_type": "stream",
          "name": "stdout",
          "text": [
            "44\n"
          ]
        }
      ]
    },
    {
      "cell_type": "code",
      "source": [
        "#Membership in and not in\n",
        "\n",
        "text = \"i am learning python\"\n",
        "print(\"python\" in text)\n",
        "print(\"java\" not in text)"
      ],
      "metadata": {
        "colab": {
          "base_uri": "https://localhost:8080/"
        },
        "id": "f9f9RFLkiFeH",
        "outputId": "02d3f529-22b2-4353-cb90-68d9445d7fa7"
      },
      "execution_count": null,
      "outputs": [
        {
          "output_type": "stream",
          "name": "stdout",
          "text": [
            "True\n",
            "True\n"
          ]
        }
      ]
    },
    {
      "cell_type": "code",
      "source": [
        "# comparison\n",
        "\n",
        "text1 = \"python\"\n",
        "text2 = \"pytho\"\n",
        "print(text1 == text2)\n",
        "print(text1 != text2)"
      ],
      "metadata": {
        "colab": {
          "base_uri": "https://localhost:8080/"
        },
        "id": "FWSUWzYyiVUA",
        "outputId": "3a9ba3c6-1438-420c-b8b0-15ee2b3fe291"
      },
      "execution_count": null,
      "outputs": [
        {
          "output_type": "stream",
          "name": "stdout",
          "text": [
            "False\n",
            "True\n"
          ]
        }
      ]
    },
    {
      "cell_type": "code",
      "source": [
        "#escape Characters\n",
        "str =\"Hello World\"\n",
        "str1 = \"Hello\\nWorld\\npython\"\n",
        "print(str)\n",
        "print(str1)"
      ],
      "metadata": {
        "colab": {
          "base_uri": "https://localhost:8080/"
        },
        "id": "sm5WHFmPioVx",
        "outputId": "c7ae0aae-bb13-4138-fea3-fe9e92a952b1"
      },
      "execution_count": null,
      "outputs": [
        {
          "output_type": "stream",
          "name": "stdout",
          "text": [
            "Hello World\n",
            "Hello\n",
            "World\n",
            "python\n"
          ]
        }
      ]
    },
    {
      "cell_type": "code",
      "source": [
        "# Raw String\n",
        "str = r\"Hello World\"\n",
        "print(str)"
      ],
      "metadata": {
        "colab": {
          "base_uri": "https://localhost:8080/"
        },
        "id": "4bp0Vz0kjDn-",
        "outputId": "634957cc-6124-456d-818a-b234bf7c53af"
      },
      "execution_count": null,
      "outputs": [
        {
          "output_type": "stream",
          "name": "stdout",
          "text": [
            "Hello World\n"
          ]
        }
      ]
    },
    {
      "cell_type": "code",
      "source": [
        "# string Fomating\n",
        "\n",
        "name = \"hari\"\n",
        "age = \"25\"\n",
        "print(f'my name is {name} and my age is {age}')"
      ],
      "metadata": {
        "colab": {
          "base_uri": "https://localhost:8080/"
        },
        "id": "d0TlomLGjdu6",
        "outputId": "413e146e-b610-4f39-8f7d-56f3742ab6ef"
      },
      "execution_count": null,
      "outputs": [
        {
          "output_type": "stream",
          "name": "stdout",
          "text": [
            "my name is hari and my age is 25\n"
          ]
        }
      ]
    },
    {
      "cell_type": "code",
      "source": [],
      "metadata": {
        "id": "OxMC6Qx7kD3G"
      },
      "execution_count": null,
      "outputs": []
    },
    {
      "cell_type": "code",
      "source": [],
      "metadata": {
        "id": "wMf2zr0rkENW"
      },
      "execution_count": null,
      "outputs": []
    },
    {
      "cell_type": "code",
      "source": [],
      "metadata": {
        "id": "VNtnWiEXkErF"
      },
      "execution_count": null,
      "outputs": []
    },
    {
      "cell_type": "markdown",
      "source": [
        "\n",
        "\n",
        "---\n",
        "\n",
        "### **Basic String Operations**\n",
        "1. Concatenate two strings: `\"Hello\"` and `\"World\"`.\n",
        "2. Repeat the string `\"Python\"` 5 times.\n",
        "3. Extract the first 5 characters from the string `\"Programming is fun\"`.\n",
        "4. Extract the last 3 characters from the string `\"Programming\"`.\n",
        "5. Reverse the string `\"abcdefg\"`.\n",
        "6. Check if the substring `\"Python\"` exists in `\"I love Python programming\"`.\n",
        "7. Find the length of the string `\"DataScience\"`.\n",
        "8. Slice the string `\"abcdefg\"` to extract every second character.\n",
        "9. Extract `\"gram\"` from the string `\"Programming\"`.\n",
        "10. Compare two strings `\"abc\"` and `\"ABC\"` (case-sensitive).\n",
        "\n",
        "---\n",
        "\n",
        "### **String Methods - Case Conversion**\n",
        "11. Convert `\"hello world\"` to uppercase.\n",
        "12. Convert `\"HELLO WORLD\"` to lowercase.\n",
        "13. Capitalize the first character of `\"python is awesome\"`.\n",
        "14. Convert `\"this is a title\"` to title case.\n",
        "15. Swap the case of `\"PyThOn\"`.\n",
        "\n",
        "---\n",
        "\n",
        "### **String Methods - Searching**\n",
        "16. Find the index of the first occurrence of `\"is\"` in `\"This is a string\"`.\n",
        "17. Check if the string `\"Python\"` starts with `\"Py\"`.\n",
        "18. Check if the string `\"Python\"` ends with `\"on\"`.\n",
        "19. Count the occurrences of `\"a\"` in `\"banana\"`.\n",
        "20. Check if `\"cat\"` is a substring of `\"concatenation\"`.\n",
        "\n",
        "---\n",
        "\n",
        "### **String Methods - Formatting**\n",
        "21. Center the string `\"Python\"` within a width of 20 using `*`.\n",
        "22. Right-align the string `\"Python\"` within a width of 15.\n",
        "23. Left-align the string `\"Python\"` within a width of 10.\n",
        "24. Pad the string `\"42\"` with zeros to make it 5 characters long.\n",
        "25. Format the string `\"My name is {name}\"` using `name = \"Alice\"`.\n",
        "\n",
        "---\n",
        "\n",
        "### **String Methods - Stripping**\n",
        "26. Remove leading whitespace from `\"   Hello\"`.\n",
        "27. Remove trailing whitespace from `\"Hello   \"`.\n",
        "28. Remove both leading and trailing whitespace from `\"   Hello   \"`.\n",
        "29. Remove all occurrences of `\"a\"` from `\"banana\"`.\n",
        "30. Remove the substring `\"Hello \"` from `\"Hello World\"`.\n",
        "\n",
        "---\n",
        "\n",
        "### **String Methods - Splitting and Joining**\n",
        "31. Split the string `\"a,b,c,d\"` by commas.\n",
        "32. Split the string `\"apple orange banana\"` by spaces.\n",
        "33. Join the list `['Python', 'is', 'fun']` with a space separator.\n",
        "34. Join the list `['1', '2', '3']` with a hyphen (`-`).\n",
        "35. Split the string `\"key:value\"` into two parts using `:` as the separator.\n",
        "\n",
        "---\n",
        "\n",
        "### **String Methods - Checking**\n",
        "36. Check if `\"Python123\"` is alphanumeric.\n",
        "37. Check if `\"12345\"` contains only digits.\n",
        "38. Check if `\"abcd\"` contains only letters.\n",
        "39. Check if `\" \"` contains only whitespace characters.\n",
        "40. Check if `\"HELLO\"` is in uppercase.\n",
        "\n",
        "---\n",
        "\n",
        "### **String Operations - Advanced**\n",
        "41. Reverse the string `\"Python programming is fun\"` word by word.\n",
        "42. Extract the middle character of `\"abcdef\"`.\n",
        "43. Replace all occurrences of `\"is\"` with `\"was\"` in `\"This is a string\"`.\n",
        "44. Find the substring from index 2 to 8 in `\"Data Science\"`.\n",
        "45. Remove all vowels from the string `\"education\"`.\n",
        "\n",
        "---\n",
        "\n",
        "### **Real-World Scenarios**\n",
        "46. Validate if a user input is a valid email address.\n",
        "47. Format a phone number `1234567890` as `123-456-7890`.\n",
        "48. Extract the domain name from the email `\"test@gmail.com\"`.\n",
        "49. Count the number of words in the string `\"Python is easy to learn\"`.\n",
        "50. Find the longest word in the sentence `\"The quick brown fox jumps over the lazy dog\"`.\n",
        "\n",
        "---\n",
        "\n",
        "### **String Iteration**\n",
        "51. Print each character in `\"Python\"` on a new line.\n",
        "52. Count how many times `\"e\"` appears in `\"elephant\"`.\n",
        "53. Replace all spaces in `\"Python is fun\"` with underscores.\n",
        "54. Convert `\"apple,banana,orange\"` into a list.\n",
        "55. Check if all characters in `\"12345\"` are digits.\n",
        "\n",
        "---\n",
        "\n",
        "### **String Escaping**\n",
        "56. Create a string that includes a newline character.\n",
        "57. Create a string with a tab character in it.\n",
        "58. Print the path `C:\\Users\\Name` using a raw string.\n",
        "59. Escape the double quotes in `\"Python is \"awesome\"\"`.\n",
        "60. Escape the backslash in `C:\\Users\\Path`.\n",
        "\n",
        "---\n",
        "\n",
        "### **Comprehensive Practice**\n",
        "61. Write a function to check if a string is a palindrome.\n",
        "62. Write a function to count the number of vowels in a string.\n",
        "63. Write a function to find all substrings of `\"abc\"`.\n",
        "64. Write a function to remove duplicate characters from `\"aabbcc\"`.\n",
        "65. Write a function to replace spaces with `%20`.\n",
        "\n",
        "---\n",
        "\n",
        "### **Custom Formatting**\n",
        "66. Convert `\"1000\"` into `\"1,000\"` using string methods.\n",
        "67. Create a formatted string to display `\"John scored 85 out of 100\"`.\n",
        "68. Format the number `3.14159` to two decimal places.\n",
        "69. Align three strings (`\"left\"`, `\"center\"`, `\"right\"`) within 15 spaces.\n",
        "70. Print the string `\"Progress: 50%\"` with a dynamic percentage.\n",
        "\n",
        "---\n",
        "\n",
        "### **Advanced String Manipulation**\n",
        "71. Remove punctuation from `\"Hello, World!\"`.\n",
        "72. Write a program to count the frequency of each character in `\"hello\"`.\n",
        "73. Find all uppercase letters in `\"PyThOn\"`.\n",
        "74. Convert `\"hello world\"` into `\"Hello World\"` (capitalize the first letter of each word).\n",
        "75. Replace the first occurrence of `\"is\"` in `\"This is is a test\"`.\n",
        "\n",
        "---\n",
        "\n",
        "### **String Iteration with Index**\n",
        "76. Print each character in `\"Python\"` with its index.\n",
        "77. Create a new string by doubling each character in `\"abc\"`.\n",
        "78. Replace every vowel in `\"education\"` with `*`.\n",
        "79. Extract all digits from `\"abc123xyz456\"`.\n",
        "80. Find the position of the last occurrence of `\"a\"` in `\"banana\"`.\n",
        "\n",
        "---\n",
        "\n",
        "### **Regular Expressions (Optional)**\n",
        "81. Validate if a string is a valid date (e.g., `\"2023-01-30\"`).\n",
        "82. Extract all numbers from the string `\"The price is 123 dollars\"`.\n",
        "83. Check if a string starts and ends with the same letter.\n",
        "84. Replace multiple spaces in a string with a single space.\n",
        "85. Check if a string contains only lowercase letters.\n",
        "\n",
        "---\n",
        "\n",
        "### **Fun Challenges**\n",
        "86. Create a function to abbreviate a name (`\"John Doe\"` → `\"J.D.\"`).\n",
        "87. Convert a sentence into Pig Latin (`\"hello\"` → `\"ellohay\"`).\n",
        "88. Write a function to remove all consonants from `\"education\"`.\n",
        "89. Write a program to convert `\"hello world\"` into Morse code.\n",
        "90. Encrypt a string using a Caesar cipher (shift of 3).\n",
        "\n",
        "---\n",
        "\n",
        "### **Error Handling**\n",
        "91. Handle a `ValueError` when converting a string to an integer.\n",
        "92. Safely extract a substring from `\"Python\"` at invalid indices.\n",
        "93. Write a function that validates if a string can be converted to a float.\n",
        "94. Handle empty strings gracefully in a function.\n",
        "95. Prevent a program crash when indexing out of bounds.\n",
        "\n",
        "---\n",
        "\n",
        "### **Real-Life Applications**\n",
        "96. Generate a username by combining the first letter of the first name and the last name.\n",
        "97. Validate if a password contains at least 8 characters, a digit, and a special character.\n",
        "98. Write a program to count the number of sentences in a paragraph.\n",
        "99. Extract hashtags from a tweet (e.g., `\"#Python is fun!\"` → `['#Python']`).\n",
        "100. Create a slug from a title (`\"Hello World\"` → `\"hello-world\"`).\n",
        "\n"
      ],
      "metadata": {
        "id": "nIBFbGQHkFDG"
      }
    },
    {
      "cell_type": "markdown",
      "source": [
        " practice string slicing in Python:  \n",
        "\n",
        "---\n",
        "\n",
        "### **Basic Slicing**\n",
        "1. Extract `\"abc\"` from the string `\"abcdef\"`.\n",
        "2. Extract the first 4 characters from `\"Programming\"`.\n",
        "3. Extract the last 3 characters from `\"Python\"`.\n",
        "4. Slice `\"DataScience\"` to get `\"Data\"`.\n",
        "5. Slice `\"MachineLearning\"` to get `\"Learning\"`.\n",
        "\n",
        "---\n",
        "\n",
        "### **Negative Indexing**\n",
        "6. Extract the last 5 characters from `\"Artificial\"`.\n",
        "7. Remove the last 2 characters from `\"DeepLearning\"`.\n",
        "8. Reverse the string `\"abcdefg\"`.\n",
        "9. Extract the second last character from `\"Python\"`.\n",
        "10. Slice `\"Programming\"` to get `\"ming\"` using negative indexing.\n",
        "\n",
        "---\n",
        "\n",
        "### **Step in Slicing**\n",
        "11. Extract every second character from `\"abcdefghij\"`.\n",
        "12. Extract every third character from `\"DataScience\"`.\n",
        "13. Reverse `\"MachineLearning\"` with a step of `-1`.\n",
        "14. Extract every alternate character from `\"PythonProgramming\"`.\n",
        "15. Slice `\"abcdefg\"` to get `\"aceg\"`.\n",
        "\n",
        "---\n",
        "\n",
        "### **Omitting Start or End Index**\n",
        "16. Slice `\"abcdefg\"` from the beginning to index 4.\n",
        "17. Slice `\"abcdefg\"` from index 3 to the end.\n",
        "18. Extract the first half of `\"ProgrammingIsFun\"`.\n",
        "19. Extract the second half of `\"HelloWorld\"`.\n",
        "20. Get the full string `\"DataScience\"` using slicing.\n",
        "\n",
        "---\n",
        "\n",
        "### **Complex Slicing**\n",
        "21. Extract the substring `\"gram\"` from `\"Programming\"`.\n",
        "22. Extract `\"World\"` from `\"HelloWorld\"` using slicing.\n",
        "23. Reverse a substring `\"Python\"` within `\"LearnPythonToday\"`.\n",
        "24. Slice `\"abcdefg\"` to get `\"gfedc\"` using a negative step.\n",
        "25. Skip 2 characters while slicing `\"abcdefghijklm\"`.\n",
        "\n",
        "---\n",
        "\n",
        "### **Real-World Scenarios**\n",
        "26. Extract `\"2025\"` from `\"Date2025January\"`.\n",
        "27. Extract `\"@gmail.com\"` from `\"user@gmail.com\"`.\n",
        "28. Extract `\"https\"` from `\"https://example.com\"`.\n",
        "29. Reverse `\"level\"` to check if it’s a palindrome.\n",
        "30. Extract `\"Name\"` from `\"FullNameLast\"` using slicing.\n",
        "\n",
        "---\n",
        "\n",
        "### **Practice with Indices**\n",
        "31. Slice `\"abcdefg\"` from index `1` to `5`.\n",
        "32. Slice `\"PythonProgramming\"` to get `\"Programming\"` starting from index `6`.\n",
        "33. Extract `\"on\"` from `\"Python\"` using both positive and negative indices.\n",
        "34. Extract `\"ing\"` from `\"Engineering\"` using both positive and negative indices.\n",
        "35. Extract `\"Data\"` from `\"BigDataAnalysis\"` starting from index `3`.\n",
        "\n",
        "---\n",
        "\n",
        "### **Substrings**\n",
        "36. Extract the middle 3 characters of `\"abcdefg\"`.\n",
        "37. Extract the middle portion `\"isF\"` from `\"ThisIsFun\"`.\n",
        "38. Remove the first 2 characters from `\"Learning\"`.\n",
        "39. Remove the last 3 characters from `\"Programming\"`.\n",
        "40. Extract `\"ence\"` from `\"Science\"` using slicing.\n",
        "\n",
        "---\n",
        "\n",
        "### **Combination with Steps**\n",
        "41. Reverse every second character in `\"abcdefghij\"`.\n",
        "42. Extract `\"aeiou\"` from `\"abcdefghijklmnopqrstuvwxyz\"`.\n",
        "43. Slice `\"MachineLearning\"` to get `\"ihcaM\"`.\n",
        "44. Extract `\"ML\"` from `\"MachineLearning\"` using a step of 5.\n",
        "45. Extract `\"Tn\"` from `\"PythonProgramming\"` using a step of 6.\n",
        "\n",
        "---\n",
        "\n",
        "### **Slicing and Concatenation**\n",
        "46. Extract `\"Sci\"` from `\"DataScience\"` and concatenate it with `\"Fi\"` from `\"ScienceFiction\"`.\n",
        "47. Reverse `\"Learn\"` from `\"LearnPython\"` and concatenate with `\"Py\"`.\n",
        "48. Extract the first 3 characters of `\"Data\"` and last 3 characters of `\"Science\"` and join them.\n",
        "49. Slice `\"abcdefghij\"` to get `\"ace\"` and concatenate it with `\"dfg\"`.\n",
        "50. Extract the substring `\"Fun\"` from `\"PythonIsFun\"` and concatenate it with `\"Time\"`.\n",
        "\n"
      ],
      "metadata": {
        "id": "sFzcU_q4kiFF"
      }
    },
    {
      "cell_type": "code",
      "source": [
        "a =\"hello\"\n",
        "for i in a:\n",
        "  print(i)"
      ],
      "metadata": {
        "colab": {
          "base_uri": "https://localhost:8080/"
        },
        "id": "fa29q8vj3XBe",
        "outputId": "dfb8e0f9-f5d4-4089-c5b3-f7c181203944"
      },
      "execution_count": null,
      "outputs": [
        {
          "output_type": "stream",
          "name": "stdout",
          "text": [
            "h\n",
            "e\n",
            "l\n",
            "l\n",
            "o\n"
          ]
        }
      ]
    }
  ]
}